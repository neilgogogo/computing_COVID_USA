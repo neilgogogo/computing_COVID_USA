{
 "cells": [
  {
   "cell_type": "code",
   "execution_count": 1,
   "metadata": {},
   "outputs": [],
   "source": [
    "import re\n",
    "import os\n",
    "import tweepy \n",
    "import seaborn as sns\n",
    "import numpy as np\n",
    "import pandas as pd\n",
    "from collections import Counter\n",
    "import matplotlib.pyplot as plt"
   ]
  },
  {
   "cell_type": "code",
   "execution_count": 2,
   "metadata": {},
   "outputs": [
    {
     "name": "stderr",
     "output_type": "stream",
     "text": [
      "[nltk_data] Downloading package stopwords to\n",
      "[nltk_data]     /Users/lihangqian/nltk_data...\n",
      "[nltk_data]   Package stopwords is already up-to-date!\n"
     ]
    }
   ],
   "source": [
    "import nltk\n",
    "from nltk.corpus import stopwords\n",
    "from nltk.tokenize import word_tokenize\n",
    "from sklearn.feature_extraction.text import TfidfVectorizer\n",
    "from sklearn.model_selection import train_test_split\n",
    "from nltk.stem import PorterStemmer\n",
    "from nltk.stem import WordNetLemmatizer\n",
    "# ML Libraries\n",
    "from sklearn.metrics import accuracy_score\n",
    "from sklearn.naive_bayes import MultinomialNB\n",
    "from sklearn.linear_model import LogisticRegression\n",
    "from sklearn.svm import SVC\n",
    "\n",
    "nltk.download('stopwords')\n",
    "# Global Parameters\n",
    "stop_words = set(stopwords.words('english'))"
   ]
  },
  {
   "cell_type": "code",
   "execution_count": 3,
   "metadata": {},
   "outputs": [],
   "source": [
    "API_key = \"BMKPfpLYmWL4FlQ3xBYwHyR3C\"   \n",
    "API_key_secret = \"bw78ZRgeRGUF9PW8oq5VgdyaxCXKqpLj0TDrEf4Spb9knByPMt\"   \n",
    "access_token = \"1227382295839072256-fikcUBGnAkBzS6JL30izpm7TEibIbj\"   \n",
    "access_token_secret = \"4OldcYBWQSa3Cc6tGmjUhxGREuMM7Myv6XOM2enrg8Zsh\" \n",
    "auth = tweepy.OAuthHandler(API_key, API_key_secret)    \n",
    "auth.set_access_token(access_token, access_token_secret)   \n",
    "api = tweepy.API(auth,wait_on_rate_limit=True,wait_on_rate_limit_notify=True)"
   ]
  },
  {
   "cell_type": "markdown",
   "metadata": {},
   "source": [
    "### data collection：\n",
    "\n",
    "As for different cities and areas, we are going to choose different cities and areas: including the cities and rural areas."
   ]
  },
  {
   "cell_type": "code",
   "execution_count": 4,
   "metadata": {},
   "outputs": [],
   "source": [
    "# hashtag about vaccine: \n",
    "\n",
    "# vaccine,covid19vaccine,vaccinated,getvaccinated,covidvaccine,vaccinated,astrazeneca,oxfordastrazeneca,pfizer,pfizerbiontech,pfizervaccine,moderna,modernavaccine,sputnik,sputnikvaccinated,janssen,johnsonandjohnson"
   ]
  },
  {
   "cell_type": "code",
   "execution_count": 5,
   "metadata": {},
   "outputs": [],
   "source": [
    "# hashtag about astrazeneca vaccine: \n",
    "text_query_astrazeneca='#astrazeneca OR #oxfordastrazeneca OR #astrazenecavaccine OR #astrazenecacovid OR #astrazenecavaccinated'"
   ]
  },
  {
   "cell_type": "code",
   "execution_count": 6,
   "metadata": {},
   "outputs": [],
   "source": [
    "# hashtag about pfizer vaccine: \n",
    "text_query_pfizer='#pfizer OR #pfizervaccine OR #PfizerGang OR #Pfizercovid OR pfizervaccinated OR #pfizerbiontech'"
   ]
  },
  {
   "cell_type": "code",
   "execution_count": 7,
   "metadata": {},
   "outputs": [],
   "source": [
    "# hashtag about Janssen vaccine: \n",
    "text_query_janssen='#janssen OR #janssenvaccine OR #janssencovid OR #johnsonandjohnson OR #janssenvaccinated OR #JohnsonAndJohnsonCOVIDVaccine'"
   ]
  },
  {
   "cell_type": "code",
   "execution_count": 8,
   "metadata": {},
   "outputs": [],
   "source": [
    "# hashtag about moderna vaccine: \n",
    "text_query_moderna='#moderna OR #modernavaccine OR #modernacovid OR #johnsonandjohnson OR #janssenvaccinated'"
   ]
  },
  {
   "cell_type": "code",
   "execution_count": 9,
   "metadata": {},
   "outputs": [],
   "source": [
    "# hashtag about sputnik vaccine: \n",
    "text_query_sputnik='#sputnik OR #sputnikvaccine OR #sputnikcovid OR ##SputnikV OR #sputnikaccinated'"
   ]
  },
  {
   "cell_type": "code",
   "execution_count": 10,
   "metadata": {},
   "outputs": [],
   "source": [
    "text_query = '#vaccine OR #vaccination OR #vaccineforall OR #vaccinated OR #covidvaccine OR #covid19vaccine OR #getvaccinated OR #astrazeneca OR #oxfordastrazeneca OR #pfizer OR #pfizerbiontech OR #pfizervaccine OR #moderna OR #modernavaccine OR #sputnik OR #sputnikvaccinated OR #janssen OR #johnsonandjohnson'\n",
    "max_tweets= 10000"
   ]
  },
  {
   "cell_type": "code",
   "execution_count": 11,
   "metadata": {},
   "outputs": [],
   "source": [
    "def get_twitter_by_location(text_query,max_tweets,coordinates):\n",
    "    \n",
    "    # within a 50-mile radius of Las Vegas, NV (Lat 36.169786, Long -115.139858) that have the keyword Coronavirus.\n",
    "    #coordinates = '36.169786,-115.139858,100mi'\n",
    "    # Creation of query method using parameters\n",
    "    tweets = tweepy.Cursor(api.search, tweet_mode='extended', q = text_query, geocode = coordinates, count = 100).items(max_tweets)\n",
    "#   tweets = tweepy.Cursor(api.search, q = text_query, geocode = coordinates, count = 100).items(max_tweets)\n",
    "    # Pulling information from tweets iterable object\n",
    "    # Add or remove tweet information you want in the below list comprehension\n",
    "    tweets_list = [[tweet.full_text, tweet.created_at, tweet.id_str, tweet.user.name, tweet.user.screen_name, tweet.user.id_str, tweet.user.location, tweet.user.url, tweet.user.description, tweet.user.verified, tweet.user.followers_count, tweet.user.friends_count, tweet.user.favourites_count, tweet.user.statuses_count, tweet.user.listed_count, tweet.user.created_at, tweet.user.profile_image_url_https, tweet.user.default_profile, tweet.user.default_profile_image, tweet.lang] for tweet in tweets]\n",
    "    \n",
    "    # Creation of dataframe from tweets_list\n",
    "    # Did not include column names to simplify code\n",
    "    tweets_df = pd.DataFrame(tweets_list)\n",
    "    return tweets_df"
   ]
  },
  {
   "cell_type": "markdown",
   "metadata": {},
   "source": [
    "#### Las Vegas, NV (Lat 36.169786, Long -115.139858)"
   ]
  },
  {
   "cell_type": "code",
   "execution_count": 12,
   "metadata": {},
   "outputs": [],
   "source": [
    "# tweets_df_LasVegas=get_twitter_by_location(text_query,max_tweets,'36.169786,-115.139858,100mi')\n",
    "# tweets_df_LasVegas.to_csv('twitter0517/tweets_df_LasVegas.csv',index=False,header=False)"
   ]
  },
  {
   "cell_type": "code",
   "execution_count": 13,
   "metadata": {},
   "outputs": [],
   "source": [
    "# tweets_df_LasVegas.head()"
   ]
  },
  {
   "cell_type": "markdown",
   "metadata": {},
   "source": [
    "#### Centerville Township (Lat 38.22183, Long -95.01414) \n",
    "which is the poorest town in the USA"
   ]
  },
  {
   "cell_type": "code",
   "execution_count": 14,
   "metadata": {},
   "outputs": [],
   "source": [
    "# tweets_df_CentervilleTownship=get_twitter_by_location(text_query,max_tweets,'38.22183,-95.01414,100mi')\n",
    "# tweets_df_CentervilleTownship.to_csv('twitter0427/tweets_df_CentervilleTownship.csv',index=False,header=False)"
   ]
  },
  {
   "cell_type": "code",
   "execution_count": 15,
   "metadata": {},
   "outputs": [],
   "source": [
    "# tweets_df_CentervilleTownship.head()"
   ]
  },
  {
   "cell_type": "markdown",
   "metadata": {},
   "source": [
    "#### Los Angeles (Lat 34.04679, Long -118.25081)\n",
    "cases daily avg: 251, per 100k: 3, deaths daily avg.: 13.3, per 100k: 0.13, vaccinated: 39%"
   ]
  },
  {
   "cell_type": "code",
   "execution_count": 16,
   "metadata": {},
   "outputs": [],
   "source": [
    "# tweets_df_LosAngeles=get_twitter_by_location(text_query,max_tweets,'34.04679,-118.25081,100mi')\n",
    "# tweets_df_LosAngeles.to_csv('twitter0517/tweets_df_LosAngeles.csv',index=False,header=False)"
   ]
  },
  {
   "cell_type": "code",
   "execution_count": 17,
   "metadata": {},
   "outputs": [],
   "source": [
    "# tweets_df_LosAngeles.head()"
   ]
  },
  {
   "cell_type": "markdown",
   "metadata": {},
   "source": [
    "#### New York city (Lat 40.70833, Long -74.00986)\n",
    "cases daily avg: 729, per 100k: 9, deaths daily avg.: 25.7, per 100k: 0.31, vaccinated: 39%"
   ]
  },
  {
   "cell_type": "code",
   "execution_count": 18,
   "metadata": {},
   "outputs": [],
   "source": [
    "# tweets_df_NewYork=get_twitter_by_location(text_query,max_tweets,'40.70833,-74.00986,100mi')\n",
    "# tweets_df_NewYork.to_csv('twitter0517/tweets_df_NewYork.csv',index=False,header=False)"
   ]
  },
  {
   "cell_type": "code",
   "execution_count": 19,
   "metadata": {},
   "outputs": [],
   "source": [
    "# tweets_df_NewYork.head()"
   ]
  },
  {
   "cell_type": "markdown",
   "metadata": {},
   "source": [
    "#### Erie County (Lat 42.88352, Long -78.82283)"
   ]
  },
  {
   "cell_type": "code",
   "execution_count": 20,
   "metadata": {},
   "outputs": [],
   "source": [
    "# tweets_df_ErieCounty =get_twitter_by_location(text_query,max_tweets,'42.88352,-78.82283,100mi')\n",
    "# tweets_df_ErieCounty.to_csv('twitter0427/tweets_df_ErieCounty.csv',index=False,header=False)"
   ]
  },
  {
   "cell_type": "code",
   "execution_count": 21,
   "metadata": {},
   "outputs": [],
   "source": [
    "# tweets_df_ErieCounty.head()"
   ]
  },
  {
   "cell_type": "markdown",
   "metadata": {},
   "source": [
    "#### Moab (Lat 38.57912, Long -109.55270)"
   ]
  },
  {
   "cell_type": "code",
   "execution_count": 22,
   "metadata": {},
   "outputs": [],
   "source": [
    "# tweets_df_Moab =get_twitter_by_location(text_query,max_tweets,'38.57912,-109.55270,300mi')\n",
    "# tweets_df_Moab.to_csv('twitter0427/tweets_df_Moab.csv',index=False,header=False)"
   ]
  },
  {
   "cell_type": "code",
   "execution_count": 23,
   "metadata": {},
   "outputs": [],
   "source": [
    "# tweets_df_Moab.head()"
   ]
  },
  {
   "cell_type": "markdown",
   "metadata": {},
   "source": [
    "#### Seattle (Lat 47.61313, Long -122.32833)"
   ]
  },
  {
   "cell_type": "code",
   "execution_count": 24,
   "metadata": {},
   "outputs": [],
   "source": [
    "# tweets_df_Seattle =get_twitter_by_location(text_query,max_tweets,'47.61313,-122.32833,100mi')\n",
    "# tweets_df_Seattle.to_csv('twitter0427/tweets_df_Seattle.csv',index=False,header=False)"
   ]
  },
  {
   "cell_type": "code",
   "execution_count": 25,
   "metadata": {},
   "outputs": [],
   "source": [
    "# tweets_df_Seattle.head()"
   ]
  },
  {
   "cell_type": "markdown",
   "metadata": {},
   "source": [
    "#### Miami (Lat 25.76318, Long -80.19102)"
   ]
  },
  {
   "cell_type": "code",
   "execution_count": 26,
   "metadata": {},
   "outputs": [],
   "source": [
    "# tweets_df_Miami =get_twitter_by_location(text_query,max_tweets,'25.76318,-80.19102,100mi')\n",
    "# tweets_df_Miami.to_csv('twitter0427/tweets_df_Miami.csv',index=False,header=False)"
   ]
  },
  {
   "cell_type": "code",
   "execution_count": 27,
   "metadata": {},
   "outputs": [],
   "source": [
    "# tweets_df_Miami.head()"
   ]
  },
  {
   "cell_type": "markdown",
   "metadata": {},
   "source": [
    "#### Lordsburg (Lat 32.34859, Long -108.70160)"
   ]
  },
  {
   "cell_type": "code",
   "execution_count": 28,
   "metadata": {},
   "outputs": [],
   "source": [
    "# tweets_df_Lordsburg =get_twitter_by_location(text_query,max_tweets,'32.34859,-108.70160,100mi')\n",
    "# tweets_df_Lordsburg.to_csv('twitter0427/tweets_df_Lordsburg.csv',index=False,header=False)"
   ]
  },
  {
   "cell_type": "code",
   "execution_count": 29,
   "metadata": {},
   "outputs": [],
   "source": [
    "# tweets_df_Lordsburg.head()"
   ]
  },
  {
   "cell_type": "markdown",
   "metadata": {},
   "source": [
    "#### Issaquena (Lat 32.77743, Long -90.93392)\n",
    "Issaquena with a vaccinated rate 14%, which is the lowest in Mississippi State on May 17th.   \n",
    "And Mississippi has the lowest vaccinating rate, which is around 26%."
   ]
  },
  {
   "cell_type": "code",
   "execution_count": 30,
   "metadata": {},
   "outputs": [],
   "source": [
    "# tweets_df_Issaquena =get_twitter_by_location(text_query,max_tweets,'32.77743, -90.93392, 100mi')\n",
    "# tweets_df_Issaquena.to_csv('twitter0517/tweets_df_Issaquena.csv',index=False,header=False)"
   ]
  },
  {
   "cell_type": "code",
   "execution_count": 31,
   "metadata": {},
   "outputs": [],
   "source": [
    "# tweets_df_Issaquena"
   ]
  },
  {
   "cell_type": "markdown",
   "metadata": {},
   "source": [
    "#### Greene (Lat 31.15503, Long -88.55365)\n",
    "Greene has the second lowest vaccinated rate in Mississippi state, which is around 16%."
   ]
  },
  {
   "cell_type": "code",
   "execution_count": 32,
   "metadata": {},
   "outputs": [],
   "source": [
    "# tweets_df_Greene =get_twitter_by_location(text_query,max_tweets,' 31.15503, -88.55365, 100mi')\n",
    "# tweets_df_Greene.to_csv('twitter0517/tweets_df_Greene.csv',index=False,header=False)"
   ]
  },
  {
   "cell_type": "code",
   "execution_count": 33,
   "metadata": {},
   "outputs": [],
   "source": [
    "# tweets_df_Greene"
   ]
  },
  {
   "cell_type": "markdown",
   "metadata": {},
   "source": [
    "#### Carroll, N.H. (Lat 44.29885, Long -71.54316)\n",
    "This town has a vaccinating rate 65%"
   ]
  },
  {
   "cell_type": "code",
   "execution_count": 34,
   "metadata": {},
   "outputs": [],
   "source": [
    "# tweets_df_Carroll =get_twitter_by_location(text_query,max_tweets,' 44.29885, -71.54316, 100mi')\n",
    "# tweets_df_Carroll.to_csv('twitter0517/tweets_df_Carroll.csv',index=False,header=False)"
   ]
  },
  {
   "cell_type": "code",
   "execution_count": 35,
   "metadata": {},
   "outputs": [],
   "source": [
    "# tweets_df_Carroll"
   ]
  },
  {
   "cell_type": "code",
   "execution_count": 36,
   "metadata": {},
   "outputs": [],
   "source": [
    "# tweets_df_LasVegas=get_twitter_by_location(text_query,max_tweets,'36.169786,-115.139858,100mi')\n",
    "# tweets_df_LasVegas"
   ]
  },
  {
   "cell_type": "code",
   "execution_count": 37,
   "metadata": {},
   "outputs": [],
   "source": [
    "# tweets_df_LasVegas.to_csv('twitter0606/tweets_df_LasVegas.csv',index=False,header=False)"
   ]
  },
  {
   "cell_type": "code",
   "execution_count": 38,
   "metadata": {},
   "outputs": [],
   "source": [
    "# tweets_df_LosAngeles0606=get_twitter_by_location(text_query,max_tweets,'34.04679,-118.25081,100mi')\n",
    "# tweets_df_LosAngeles0606.to_csv('twitter0606/tweets_df_LosAngeles.csv',index=False,header=False)"
   ]
  },
  {
   "cell_type": "code",
   "execution_count": 39,
   "metadata": {},
   "outputs": [],
   "source": [
    "# tweets_df_NewYork0606=get_twitter_by_location(text_query,max_tweets,'40.70833,-74.00986,100mi')\n",
    "# tweets_df_NewYork0606.to_csv('twitter0606/tweets_df_NewYork.csv',index=False,header=False)"
   ]
  },
  {
   "cell_type": "code",
   "execution_count": 40,
   "metadata": {},
   "outputs": [],
   "source": [
    "# tweets_df_Seattle0606 =get_twitter_by_location(text_query,max_tweets,'47.61313,-122.32833,100mi')\n",
    "# tweets_df_Seattle0606.to_csv('twitter0606/tweets_df_Seattle.csv',index=False,header=False)\n",
    "# tweets_df_Seattle0606.head()"
   ]
  },
  {
   "cell_type": "code",
   "execution_count": 41,
   "metadata": {},
   "outputs": [],
   "source": [
    "# len(tweets_df_Seattle0606)"
   ]
  },
  {
   "cell_type": "code",
   "execution_count": 42,
   "metadata": {},
   "outputs": [],
   "source": [
    "# tweets_df_Miami0606 =get_twitter_by_location(text_query,max_tweets,'25.76318,-80.19102,100mi')\n",
    "# tweets_df_Miami0606.to_csv('twitter0606/tweets_df_Miami.csv',index=False,header=False)\n",
    "# len(tweets_df_Miami0606)"
   ]
  },
  {
   "cell_type": "code",
   "execution_count": 43,
   "metadata": {},
   "outputs": [],
   "source": [
    "# tweets_df_Lordsburg0606 =get_twitter_by_location(text_query,max_tweets,'32.34859,-108.70160,100mi')\n",
    "# tweets_df_Lordsburg0606.to_csv('twitter0606/tweets_df_Lordsburg.csv',index=False,header=False)\n",
    "# len(tweets_df_Lordsburg0606)"
   ]
  },
  {
   "cell_type": "code",
   "execution_count": 44,
   "metadata": {},
   "outputs": [],
   "source": [
    "# tweets_df_Issaquena0606 =get_twitter_by_location(text_query,max_tweets,'32.77743, -90.93392, 100mi')\n",
    "# tweets_df_Issaquena0606.to_csv('twitter0606/tweets_df_Issaquena.csv',index=False,header=False)\n",
    "# len(tweets_df_Issaquena0606)"
   ]
  },
  {
   "cell_type": "code",
   "execution_count": 45,
   "metadata": {},
   "outputs": [],
   "source": [
    "# tweets_df_ErieCounty0606 =get_twitter_by_location(text_query,max_tweets,'42.88352,-78.82283,100mi')\n",
    "# tweets_df_ErieCounty0606.to_csv('twitter0606/tweets_df_ErieCounty.csv',index=False,header=False)"
   ]
  },
  {
   "cell_type": "code",
   "execution_count": 46,
   "metadata": {},
   "outputs": [],
   "source": [
    "# len(tweets_df_ErieCounty0606)"
   ]
  },
  {
   "cell_type": "code",
   "execution_count": 47,
   "metadata": {},
   "outputs": [],
   "source": [
    "# tweets_df_Moab0606 =get_twitter_by_location(text_query,max_tweets,'38.57912,-109.55270,300mi')\n",
    "# tweets_df_Moab0606.to_csv('twitter0606/tweets_df_Moab.csv',index=False,header=False)\n",
    "# len(tweets_df_Moab0606)"
   ]
  },
  {
   "cell_type": "markdown",
   "metadata": {},
   "source": [
    "Atlanta 33%vaccine 41%one dot"
   ]
  },
  {
   "cell_type": "code",
   "execution_count": 48,
   "metadata": {},
   "outputs": [],
   "source": [
    "# tweets_df_Atlanta =get_twitter_by_location(text_query,max_tweets,'33.45180,-84.23240,300mi')\n",
    "# tweets_df_Atlanta.to_csv('twitter0606/tweets_df_Atlanta.csv',index=False,header=False)\n",
    "# len(tweets_df_Atlanta)"
   ]
  },
  {
   "cell_type": "code",
   "execution_count": 49,
   "metadata": {},
   "outputs": [],
   "source": [
    "# tweets_df_Denver =get_twitter_by_location(text_query,max_tweets,'39.44210,-104.59050,300mi')\n",
    "# tweets_df_Denver.to_csv('twitter0606/tweets_df_Denver.csv',index=False,header=False)\n",
    "# len(tweets_df_Atlanta)"
   ]
  },
  {
   "cell_type": "code",
   "execution_count": 50,
   "metadata": {},
   "outputs": [],
   "source": [
    "# len(tweets_df_Denver)\n",
    "#46% 55%"
   ]
  },
  {
   "cell_type": "code",
   "execution_count": 51,
   "metadata": {},
   "outputs": [],
   "source": [
    "# tweets_df_Chicago =get_twitter_by_location(text_query,max_tweets,'41.52550,-87.37400,300mi')\n",
    "# tweets_df_Chicago.to_csv('twitter0606/tweets_df_Chicago.csv',index=False,header=False)\n",
    "# len(tweets_df_Chicago)\n",
    "#40% 55%"
   ]
  },
  {
   "cell_type": "markdown",
   "metadata": {},
   "source": [
    "Philadelphia 45% 59%"
   ]
  },
  {
   "cell_type": "code",
   "execution_count": 52,
   "metadata": {},
   "outputs": [],
   "source": [
    "# tweets_df_Philadelphia =get_twitter_by_location(text_query,max_tweets,'39.57100,-75.09490,300mi')\n",
    "# tweets_df_Philadelphia.to_csv('twitter0606/tweets_df_Philadelphia.csv',index=False,header=False)\n",
    "# len(tweets_df_Philadelphia)\n",
    "#45% 59%"
   ]
  },
  {
   "cell_type": "code",
   "execution_count": 53,
   "metadata": {},
   "outputs": [],
   "source": [
    "# tweets_df_SaltLakeCity =get_twitter_by_location(text_query,max_tweets,'40.45000,-111.53000,300mi')\n",
    "# tweets_df_SaltLakeCity.to_csv('twitter0606/tweets_df_SaltLakeCity.csv',index=False,header=False)\n",
    "# len(tweets_df_SaltLakeCity)\n",
    "#33% 45%"
   ]
  },
  {
   "cell_type": "code",
   "execution_count": 54,
   "metadata": {},
   "outputs": [],
   "source": [
    "# tweets_df_Milwaukee =get_twitter_by_location(text_query,max_tweets,'43.03800,-87.57210,300mi')\n",
    "# tweets_df_Milwaukee.to_csv('twitter0606/tweets_df_Milwaukee.csv',index=False,header=False)\n",
    "# len(tweets_df_Milwaukee)\n",
    "#45% 51%"
   ]
  },
  {
   "cell_type": "code",
   "execution_count": 55,
   "metadata": {},
   "outputs": [],
   "source": [
    "# tweets_df_Portland =get_twitter_by_location(text_query,max_tweets,'43.40000,-70.16000,300mi')\n",
    "# tweets_df_Portland.to_csv('twitter0606/tweets_df_Portland.csv',index=False,header=False)\n",
    "# len(tweets_df_Portland)\n",
    "#56% 64%"
   ]
  },
  {
   "cell_type": "code",
   "execution_count": 56,
   "metadata": {},
   "outputs": [],
   "source": [
    "# tweets_df_Jackson =get_twitter_by_location(text_query,max_tweets,'32.17560,-90.11050,300mi')\n",
    "# tweets_df_Jackson.to_csv('twitter0606/tweets_df_Jackson.csv',index=False,header=False)\n",
    "# len(tweets_df_Jackson)\n",
    "#27% 34%"
   ]
  },
  {
   "cell_type": "code",
   "execution_count": 57,
   "metadata": {},
   "outputs": [],
   "source": [
    "# tweets_df_Burlington =get_twitter_by_location(text_query,max_tweets,'44.28330,-73.12430,300mi')\n",
    "# tweets_df_Burlington.to_csv('twitter0606/tweets_df_Burlington.csv',index=False,header=False)\n",
    "# len(tweets_df_Burlington)\n",
    "#57% 71%"
   ]
  },
  {
   "cell_type": "code",
   "execution_count": 58,
   "metadata": {},
   "outputs": [],
   "source": [
    "# tweets_df_Birmingham =get_twitter_by_location(text_query,max_tweets,'33.31290,-86.48460,300mi')\n",
    "# tweets_df_Birmingham.to_csv('twitter0606/tweets_df_Birmingham.csv',index=False,header=False)\n",
    "# len(tweets_df_Birmingham)\n",
    "#29% 36%"
   ]
  },
  {
   "cell_type": "markdown",
   "metadata": {},
   "source": [
    "### Read collected data\n",
    "\n",
    "can read the collected data directly without re-running the Twitter API."
   ]
  },
  {
   "cell_type": "code",
   "execution_count": 59,
   "metadata": {},
   "outputs": [],
   "source": [
    "def read_folder(file_dir):\n",
    "    all_file_list=os.listdir(file_dir)\n",
    "    for single_file in all_file_list:\n",
    "#         print(single_file)\n",
    "        #read one by one\n",
    "        single_data_frame=pd.read_csv(os.path.join(file_dir,single_file),header=None, names=['tweet.full_text', 'tweet.created_at', 'tweet.id_str', 'tweet.user.name', 'tweet.user.screen_name', 'tweet.user.id_str', 'tweet.user.location', 'tweet.user.url', 'tweet.user.description', 'tweet.user.verified', 'tweet.user.followers_count', 'tweet.user.friends_count', 'tweet.user.favourites_count', 'tweet.user.statuses_count', 'tweet.user.listed_count', 'tweet.user.created_at', 'tweet.user.profile_image_url_https', 'tweet.user.default_profile', 'tweet.user.default_profile_image', 'tweet.lang'],engine='python')\n",
    "        single_data_frame['area_name']=re.findall(r\"tweets_df_(.+?).csv\",single_file)[0]\n",
    "        if single_file ==all_file_list[0]:\n",
    "            all_data_frame=single_data_frame\n",
    "        else:  #concat different dataframe    \n",
    "             all_data_frame=pd.concat([all_data_frame, single_data_frame],ignore_index=True)\n",
    "    all_data_frame=all_data_frame[1:]\n",
    "    return all_data_frame"
   ]
  },
  {
   "cell_type": "code",
   "execution_count": 60,
   "metadata": {
    "scrolled": true
   },
   "outputs": [
    {
     "data": {
      "text/html": [
       "<div>\n",
       "<style scoped>\n",
       "    .dataframe tbody tr th:only-of-type {\n",
       "        vertical-align: middle;\n",
       "    }\n",
       "\n",
       "    .dataframe tbody tr th {\n",
       "        vertical-align: top;\n",
       "    }\n",
       "\n",
       "    .dataframe thead th {\n",
       "        text-align: right;\n",
       "    }\n",
       "</style>\n",
       "<table border=\"1\" class=\"dataframe\">\n",
       "  <thead>\n",
       "    <tr style=\"text-align: right;\">\n",
       "      <th></th>\n",
       "      <th>tweet.full_text</th>\n",
       "      <th>tweet.created_at</th>\n",
       "      <th>tweet.id_str</th>\n",
       "      <th>tweet.user.name</th>\n",
       "      <th>tweet.user.screen_name</th>\n",
       "      <th>tweet.user.id_str</th>\n",
       "      <th>tweet.user.location</th>\n",
       "      <th>tweet.user.url</th>\n",
       "      <th>tweet.user.description</th>\n",
       "      <th>tweet.user.verified</th>\n",
       "      <th>...</th>\n",
       "      <th>tweet.user.friends_count</th>\n",
       "      <th>tweet.user.favourites_count</th>\n",
       "      <th>tweet.user.statuses_count</th>\n",
       "      <th>tweet.user.listed_count</th>\n",
       "      <th>tweet.user.created_at</th>\n",
       "      <th>tweet.user.profile_image_url_https</th>\n",
       "      <th>tweet.user.default_profile</th>\n",
       "      <th>tweet.user.default_profile_image</th>\n",
       "      <th>tweet.lang</th>\n",
       "      <th>area_name</th>\n",
       "    </tr>\n",
       "  </thead>\n",
       "  <tbody>\n",
       "    <tr>\n",
       "      <th>1</th>\n",
       "      <td>I actually saw a woman wearing this shirt yest...</td>\n",
       "      <td>2021-06-06 13:04:14</td>\n",
       "      <td>1401525340195991553</td>\n",
       "      <td>CarianneH</td>\n",
       "      <td>CarianneHixson_</td>\n",
       "      <td>2384288732</td>\n",
       "      <td>Montclair, NJ</td>\n",
       "      <td>https://t.co/7I5te4MQGT</td>\n",
       "      <td>@cariannehixsonart</td>\n",
       "      <td>False</td>\n",
       "      <td>...</td>\n",
       "      <td>434</td>\n",
       "      <td>281</td>\n",
       "      <td>1154</td>\n",
       "      <td>14</td>\n",
       "      <td>2014-03-11 22:45:16</td>\n",
       "      <td>https://pbs.twimg.com/profile_images/100628643...</td>\n",
       "      <td>False</td>\n",
       "      <td>False</td>\n",
       "      <td>en</td>\n",
       "      <td>Portland</td>\n",
       "    </tr>\n",
       "    <tr>\n",
       "      <th>2</th>\n",
       "      <td>RT @ESchattner: BUT I'm concerned that #olapar...</td>\n",
       "      <td>2021-06-06 13:03:46</td>\n",
       "      <td>1401525219676852224</td>\n",
       "      <td>Elaine Schattner</td>\n",
       "      <td>ESchattner</td>\n",
       "      <td>95273513</td>\n",
       "      <td>NYC</td>\n",
       "      <td>https://t.co/3LdHzkJO8s</td>\n",
       "      <td>Journalist. Physician. Book on cancer activism...</td>\n",
       "      <td>False</td>\n",
       "      <td>...</td>\n",
       "      <td>10518</td>\n",
       "      <td>29922</td>\n",
       "      <td>36160</td>\n",
       "      <td>773</td>\n",
       "      <td>2009-12-07 20:37:11</td>\n",
       "      <td>https://pbs.twimg.com/profile_images/918579466...</td>\n",
       "      <td>False</td>\n",
       "      <td>False</td>\n",
       "      <td>en</td>\n",
       "      <td>Portland</td>\n",
       "    </tr>\n",
       "    <tr>\n",
       "      <th>3</th>\n",
       "      <td>RT @tmprowell: Only 1.4% of US 12-15 yr olds, ...</td>\n",
       "      <td>2021-06-06 13:02:34</td>\n",
       "      <td>1401524918949453826</td>\n",
       "      <td>𝖉𝖆𝖛𝖊 𝖋𝖚𝖑𝖑𝖊𝖗</td>\n",
       "      <td>cd_fuller</td>\n",
       "      <td>931068577</td>\n",
       "      <td>HOU</td>\n",
       "      <td>https://t.co/vmzivwZfPG</td>\n",
       "      <td>Rad onc, informatician, imaging researcher, Sp...</td>\n",
       "      <td>False</td>\n",
       "      <td>...</td>\n",
       "      <td>5003</td>\n",
       "      <td>60589</td>\n",
       "      <td>143652</td>\n",
       "      <td>489</td>\n",
       "      <td>2012-11-07 02:45:53</td>\n",
       "      <td>https://pbs.twimg.com/profile_images/941049282...</td>\n",
       "      <td>False</td>\n",
       "      <td>False</td>\n",
       "      <td>en</td>\n",
       "      <td>Portland</td>\n",
       "    </tr>\n",
       "    <tr>\n",
       "      <th>4</th>\n",
       "      <td>Exciting news! We're giving out cool #NYCVaxCh...</td>\n",
       "      <td>2021-06-06 13:01:00</td>\n",
       "      <td>1401524525251055619</td>\n",
       "      <td>NYC Health + Hospitals/Bellevue</td>\n",
       "      <td>BellevueHosp</td>\n",
       "      <td>2962245395</td>\n",
       "      <td>NYC</td>\n",
       "      <td>https://t.co/jvDmLVp31c</td>\n",
       "      <td>NYC Health+Hospitals/Bellevue. Keeping communi...</td>\n",
       "      <td>True</td>\n",
       "      <td>...</td>\n",
       "      <td>942</td>\n",
       "      <td>7323</td>\n",
       "      <td>7324</td>\n",
       "      <td>132</td>\n",
       "      <td>2015-01-05 15:52:29</td>\n",
       "      <td>https://pbs.twimg.com/profile_images/128123803...</td>\n",
       "      <td>False</td>\n",
       "      <td>False</td>\n",
       "      <td>en</td>\n",
       "      <td>Portland</td>\n",
       "    </tr>\n",
       "    <tr>\n",
       "      <th>5</th>\n",
       "      <td>hmm #trump #police #news #hospital #department...</td>\n",
       "      <td>2021-06-06 13:00:41</td>\n",
       "      <td>1401524446847025156</td>\n",
       "      <td>hmmworldview</td>\n",
       "      <td>hmmworldview</td>\n",
       "      <td>949943426094632960</td>\n",
       "      <td>Jersey City, NJ</td>\n",
       "      <td>https://t.co/oZmdU8mmOk</td>\n",
       "      <td>I'm a bot that combines the most popular news ...</td>\n",
       "      <td>False</td>\n",
       "      <td>...</td>\n",
       "      <td>1</td>\n",
       "      <td>0</td>\n",
       "      <td>29683</td>\n",
       "      <td>1</td>\n",
       "      <td>2018-01-07 09:58:56</td>\n",
       "      <td>https://pbs.twimg.com/profile_images/949960004...</td>\n",
       "      <td>True</td>\n",
       "      <td>False</td>\n",
       "      <td>und</td>\n",
       "      <td>Portland</td>\n",
       "    </tr>\n",
       "  </tbody>\n",
       "</table>\n",
       "<p>5 rows × 21 columns</p>\n",
       "</div>"
      ],
      "text/plain": [
       "                                     tweet.full_text     tweet.created_at  \\\n",
       "1  I actually saw a woman wearing this shirt yest...  2021-06-06 13:04:14   \n",
       "2  RT @ESchattner: BUT I'm concerned that #olapar...  2021-06-06 13:03:46   \n",
       "3  RT @tmprowell: Only 1.4% of US 12-15 yr olds, ...  2021-06-06 13:02:34   \n",
       "4  Exciting news! We're giving out cool #NYCVaxCh...  2021-06-06 13:01:00   \n",
       "5  hmm #trump #police #news #hospital #department...  2021-06-06 13:00:41   \n",
       "\n",
       "          tweet.id_str                  tweet.user.name  \\\n",
       "1  1401525340195991553                        CarianneH   \n",
       "2  1401525219676852224                 Elaine Schattner   \n",
       "3  1401524918949453826                      𝖉𝖆𝖛𝖊 𝖋𝖚𝖑𝖑𝖊𝖗   \n",
       "4  1401524525251055619  NYC Health + Hospitals/Bellevue   \n",
       "5  1401524446847025156                     hmmworldview   \n",
       "\n",
       "  tweet.user.screen_name   tweet.user.id_str tweet.user.location  \\\n",
       "1        CarianneHixson_          2384288732       Montclair, NJ   \n",
       "2             ESchattner            95273513                 NYC   \n",
       "3              cd_fuller           931068577                 HOU   \n",
       "4           BellevueHosp          2962245395                 NYC   \n",
       "5           hmmworldview  949943426094632960     Jersey City, NJ   \n",
       "\n",
       "            tweet.user.url                             tweet.user.description  \\\n",
       "1  https://t.co/7I5te4MQGT                                 @cariannehixsonart   \n",
       "2  https://t.co/3LdHzkJO8s  Journalist. Physician. Book on cancer activism...   \n",
       "3  https://t.co/vmzivwZfPG  Rad onc, informatician, imaging researcher, Sp...   \n",
       "4  https://t.co/jvDmLVp31c  NYC Health+Hospitals/Bellevue. Keeping communi...   \n",
       "5  https://t.co/oZmdU8mmOk  I'm a bot that combines the most popular news ...   \n",
       "\n",
       "  tweet.user.verified  ... tweet.user.friends_count  \\\n",
       "1               False  ...                      434   \n",
       "2               False  ...                    10518   \n",
       "3               False  ...                     5003   \n",
       "4                True  ...                      942   \n",
       "5               False  ...                        1   \n",
       "\n",
       "  tweet.user.favourites_count tweet.user.statuses_count  \\\n",
       "1                         281                      1154   \n",
       "2                       29922                     36160   \n",
       "3                       60589                    143652   \n",
       "4                        7323                      7324   \n",
       "5                           0                     29683   \n",
       "\n",
       "  tweet.user.listed_count tweet.user.created_at  \\\n",
       "1                      14   2014-03-11 22:45:16   \n",
       "2                     773   2009-12-07 20:37:11   \n",
       "3                     489   2012-11-07 02:45:53   \n",
       "4                     132   2015-01-05 15:52:29   \n",
       "5                       1   2018-01-07 09:58:56   \n",
       "\n",
       "                  tweet.user.profile_image_url_https  \\\n",
       "1  https://pbs.twimg.com/profile_images/100628643...   \n",
       "2  https://pbs.twimg.com/profile_images/918579466...   \n",
       "3  https://pbs.twimg.com/profile_images/941049282...   \n",
       "4  https://pbs.twimg.com/profile_images/128123803...   \n",
       "5  https://pbs.twimg.com/profile_images/949960004...   \n",
       "\n",
       "  tweet.user.default_profile tweet.user.default_profile_image tweet.lang  \\\n",
       "1                      False                            False         en   \n",
       "2                      False                            False         en   \n",
       "3                      False                            False         en   \n",
       "4                      False                            False         en   \n",
       "5                       True                            False        und   \n",
       "\n",
       "  area_name  \n",
       "1  Portland  \n",
       "2  Portland  \n",
       "3  Portland  \n",
       "4  Portland  \n",
       "5  Portland  \n",
       "\n",
       "[5 rows x 21 columns]"
      ]
     },
     "execution_count": 60,
     "metadata": {},
     "output_type": "execute_result"
    }
   ],
   "source": [
    "tweets_data=read_folder('twitter0606')\n",
    "tweets_data.head()"
   ]
  },
  {
   "cell_type": "code",
   "execution_count": 61,
   "metadata": {},
   "outputs": [
    {
     "data": {
      "text/plain": [
       "52748"
      ]
     },
     "execution_count": 61,
     "metadata": {},
     "output_type": "execute_result"
    }
   ],
   "source": [
    "len(tweets_data)"
   ]
  },
  {
   "cell_type": "markdown",
   "metadata": {},
   "source": [
    "### collected data understanding"
   ]
  },
  {
   "cell_type": "code",
   "execution_count": 62,
   "metadata": {},
   "outputs": [
    {
     "name": "stdout",
     "output_type": "stream",
     "text": [
      "We collected 52748 Tweets from 2021-5-29 to 2021-6-6.\n"
     ]
    }
   ],
   "source": [
    "print('We collected {} Tweets from 2021-5-29 to 2021-6-6.'.format(len(tweets_data)))"
   ]
  },
  {
   "cell_type": "code",
   "execution_count": 63,
   "metadata": {},
   "outputs": [],
   "source": [
    "tweets_data_groupbyareas_count=tweets_data[['area_name','tweet.full_text']].groupby('area_name').count().reset_index()\n",
    "tweets_data_groupbyareas_count.columns=['area_name','count']"
   ]
  },
  {
   "cell_type": "code",
   "execution_count": 64,
   "metadata": {},
   "outputs": [
    {
     "data": {
      "text/html": [
       "<div>\n",
       "<style scoped>\n",
       "    .dataframe tbody tr th:only-of-type {\n",
       "        vertical-align: middle;\n",
       "    }\n",
       "\n",
       "    .dataframe tbody tr th {\n",
       "        vertical-align: top;\n",
       "    }\n",
       "\n",
       "    .dataframe thead th {\n",
       "        text-align: right;\n",
       "    }\n",
       "</style>\n",
       "<table border=\"1\" class=\"dataframe\">\n",
       "  <thead>\n",
       "    <tr style=\"text-align: right;\">\n",
       "      <th></th>\n",
       "      <th>area_name</th>\n",
       "      <th>count</th>\n",
       "    </tr>\n",
       "  </thead>\n",
       "  <tbody>\n",
       "    <tr>\n",
       "      <th>14</th>\n",
       "      <td>Philadelphia</td>\n",
       "      <td>10000</td>\n",
       "    </tr>\n",
       "    <tr>\n",
       "      <th>2</th>\n",
       "      <td>Burlington</td>\n",
       "      <td>8365</td>\n",
       "    </tr>\n",
       "    <tr>\n",
       "      <th>15</th>\n",
       "      <td>Portland</td>\n",
       "      <td>6913</td>\n",
       "    </tr>\n",
       "    <tr>\n",
       "      <th>13</th>\n",
       "      <td>NewYork</td>\n",
       "      <td>4838</td>\n",
       "    </tr>\n",
       "    <tr>\n",
       "      <th>5</th>\n",
       "      <td>ErieCounty</td>\n",
       "      <td>3761</td>\n",
       "    </tr>\n",
       "    <tr>\n",
       "      <th>4</th>\n",
       "      <td>Denver</td>\n",
       "      <td>3511</td>\n",
       "    </tr>\n",
       "    <tr>\n",
       "      <th>3</th>\n",
       "      <td>Chicago</td>\n",
       "      <td>3318</td>\n",
       "    </tr>\n",
       "    <tr>\n",
       "      <th>9</th>\n",
       "      <td>LosAngeles</td>\n",
       "      <td>2227</td>\n",
       "    </tr>\n",
       "    <tr>\n",
       "      <th>11</th>\n",
       "      <td>Milwaukee</td>\n",
       "      <td>2206</td>\n",
       "    </tr>\n",
       "    <tr>\n",
       "      <th>6</th>\n",
       "      <td>Jackson</td>\n",
       "      <td>1687</td>\n",
       "    </tr>\n",
       "    <tr>\n",
       "      <th>0</th>\n",
       "      <td>Atlanta</td>\n",
       "      <td>1530</td>\n",
       "    </tr>\n",
       "    <tr>\n",
       "      <th>1</th>\n",
       "      <td>Birmingham</td>\n",
       "      <td>1426</td>\n",
       "    </tr>\n",
       "    <tr>\n",
       "      <th>12</th>\n",
       "      <td>Moab</td>\n",
       "      <td>1039</td>\n",
       "    </tr>\n",
       "    <tr>\n",
       "      <th>16</th>\n",
       "      <td>SaltLakeCity</td>\n",
       "      <td>820</td>\n",
       "    </tr>\n",
       "    <tr>\n",
       "      <th>17</th>\n",
       "      <td>Seattle</td>\n",
       "      <td>510</td>\n",
       "    </tr>\n",
       "    <tr>\n",
       "      <th>10</th>\n",
       "      <td>Miami</td>\n",
       "      <td>384</td>\n",
       "    </tr>\n",
       "    <tr>\n",
       "      <th>7</th>\n",
       "      <td>LasVegas</td>\n",
       "      <td>180</td>\n",
       "    </tr>\n",
       "    <tr>\n",
       "      <th>8</th>\n",
       "      <td>Lordsburg</td>\n",
       "      <td>33</td>\n",
       "    </tr>\n",
       "  </tbody>\n",
       "</table>\n",
       "</div>"
      ],
      "text/plain": [
       "       area_name  count\n",
       "14  Philadelphia  10000\n",
       "2     Burlington   8365\n",
       "15      Portland   6913\n",
       "13       NewYork   4838\n",
       "5     ErieCounty   3761\n",
       "4         Denver   3511\n",
       "3        Chicago   3318\n",
       "9     LosAngeles   2227\n",
       "11     Milwaukee   2206\n",
       "6        Jackson   1687\n",
       "0        Atlanta   1530\n",
       "1     Birmingham   1426\n",
       "12          Moab   1039\n",
       "16  SaltLakeCity    820\n",
       "17       Seattle    510\n",
       "10         Miami    384\n",
       "7       LasVegas    180\n",
       "8      Lordsburg     33"
      ]
     },
     "execution_count": 64,
     "metadata": {},
     "output_type": "execute_result"
    }
   ],
   "source": [
    "tweets_data_groupbyareas_count=tweets_data_groupbyareas_count.sort_values(by='count', ascending=False)\n",
    "tweets_data_groupbyareas_count"
   ]
  },
  {
   "cell_type": "code",
   "execution_count": 65,
   "metadata": {},
   "outputs": [
    {
     "data": {
      "image/png": "[encoded data removed]",
      "text/plain": [
       "<Figure size 432x288 with 1 Axes>"
      ]
     },
     "metadata": {
      "needs_background": "light"
     },
     "output_type": "display_data"
    }
   ],
   "source": [
    "font = {'family' : 'Times New Roman',\n",
    "'weight' : 'normal',\n",
    "'size'   : 16,\n",
    "}\n",
    "plt.bar(tweets_data_groupbyareas_count['area_name'],tweets_data_groupbyareas_count['count'],color='black')\n",
    "plt.xlabel('Area name',font)\n",
    "plt.ylabel('Collected tweet number',font)\n",
    "plt.title('Collected Tweet Number in Different Areas',font)\n",
    "plt.xticks(rotation=50)\n",
    "plt.show()"
   ]
  },
  {
   "cell_type": "markdown",
   "metadata": {},
   "source": [
    "• Percentage of tweets that are (or contain) retweets."
   ]
  },
  {
   "cell_type": "code",
   "execution_count": 66,
   "metadata": {},
   "outputs": [],
   "source": [
    "def if_retweets(string):\n",
    "#     check if the string starts with RT, if it does, then return 1, else return 0\n",
    "    if string.startswith('RT '):\n",
    "        return 1\n",
    "    else:\n",
    "        return 0"
   ]
  },
  {
   "cell_type": "code",
   "execution_count": 67,
   "metadata": {},
   "outputs": [],
   "source": [
    "tweets_data['if_retweets']=tweets_data['tweet.full_text'].apply(lambda x:if_retweets(x))"
   ]
  },
  {
   "cell_type": "code",
   "execution_count": 68,
   "metadata": {},
   "outputs": [],
   "source": [
    "tweets_data_groupbyareas_1=tweets_data[['area_name','if_retweets']].groupby(\"area_name\").sum(['if_retweets']).reset_index()\n",
    "tweets_data_groupbyareas_2=tweets_data[['area_name','if_retweets']].groupby(\"area_name\").count().reset_index()\n",
    "tweets_data_groupbyareas_2.columns=['area_name','total_number']\n",
    "tweets_data_groupbyareas=pd.merge(tweets_data_groupbyareas_1,tweets_data_groupbyareas_2,how='left',on=[\"area_name\"],right_index=False)"
   ]
  },
  {
   "cell_type": "code",
   "execution_count": 69,
   "metadata": {},
   "outputs": [
    {
     "data": {
      "text/html": [
       "<div>\n",
       "<style scoped>\n",
       "    .dataframe tbody tr th:only-of-type {\n",
       "        vertical-align: middle;\n",
       "    }\n",
       "\n",
       "    .dataframe tbody tr th {\n",
       "        vertical-align: top;\n",
       "    }\n",
       "\n",
       "    .dataframe thead th {\n",
       "        text-align: right;\n",
       "    }\n",
       "</style>\n",
       "<table border=\"1\" class=\"dataframe\">\n",
       "  <thead>\n",
       "    <tr style=\"text-align: right;\">\n",
       "      <th></th>\n",
       "      <th>area_name</th>\n",
       "      <th>if_retweets</th>\n",
       "      <th>total_number</th>\n",
       "      <th>retweet_percentage</th>\n",
       "    </tr>\n",
       "  </thead>\n",
       "  <tbody>\n",
       "    <tr>\n",
       "      <th>16</th>\n",
       "      <td>SaltLakeCity</td>\n",
       "      <td>686</td>\n",
       "      <td>820</td>\n",
       "      <td>0.836585</td>\n",
       "    </tr>\n",
       "    <tr>\n",
       "      <th>12</th>\n",
       "      <td>Moab</td>\n",
       "      <td>734</td>\n",
       "      <td>1039</td>\n",
       "      <td>0.706449</td>\n",
       "    </tr>\n",
       "    <tr>\n",
       "      <th>15</th>\n",
       "      <td>Portland</td>\n",
       "      <td>4479</td>\n",
       "      <td>6913</td>\n",
       "      <td>0.647910</td>\n",
       "    </tr>\n",
       "    <tr>\n",
       "      <th>5</th>\n",
       "      <td>ErieCounty</td>\n",
       "      <td>2415</td>\n",
       "      <td>3761</td>\n",
       "      <td>0.642116</td>\n",
       "    </tr>\n",
       "    <tr>\n",
       "      <th>13</th>\n",
       "      <td>NewYork</td>\n",
       "      <td>3021</td>\n",
       "      <td>4838</td>\n",
       "      <td>0.624432</td>\n",
       "    </tr>\n",
       "    <tr>\n",
       "      <th>2</th>\n",
       "      <td>Burlington</td>\n",
       "      <td>5208</td>\n",
       "      <td>8365</td>\n",
       "      <td>0.622594</td>\n",
       "    </tr>\n",
       "    <tr>\n",
       "      <th>4</th>\n",
       "      <td>Denver</td>\n",
       "      <td>2133</td>\n",
       "      <td>3511</td>\n",
       "      <td>0.607519</td>\n",
       "    </tr>\n",
       "    <tr>\n",
       "      <th>14</th>\n",
       "      <td>Philadelphia</td>\n",
       "      <td>5679</td>\n",
       "      <td>10000</td>\n",
       "      <td>0.567900</td>\n",
       "    </tr>\n",
       "    <tr>\n",
       "      <th>9</th>\n",
       "      <td>LosAngeles</td>\n",
       "      <td>1132</td>\n",
       "      <td>2227</td>\n",
       "      <td>0.508307</td>\n",
       "    </tr>\n",
       "    <tr>\n",
       "      <th>17</th>\n",
       "      <td>Seattle</td>\n",
       "      <td>256</td>\n",
       "      <td>510</td>\n",
       "      <td>0.501961</td>\n",
       "    </tr>\n",
       "    <tr>\n",
       "      <th>3</th>\n",
       "      <td>Chicago</td>\n",
       "      <td>1590</td>\n",
       "      <td>3318</td>\n",
       "      <td>0.479204</td>\n",
       "    </tr>\n",
       "    <tr>\n",
       "      <th>8</th>\n",
       "      <td>Lordsburg</td>\n",
       "      <td>15</td>\n",
       "      <td>33</td>\n",
       "      <td>0.454545</td>\n",
       "    </tr>\n",
       "    <tr>\n",
       "      <th>10</th>\n",
       "      <td>Miami</td>\n",
       "      <td>172</td>\n",
       "      <td>384</td>\n",
       "      <td>0.447917</td>\n",
       "    </tr>\n",
       "    <tr>\n",
       "      <th>6</th>\n",
       "      <td>Jackson</td>\n",
       "      <td>718</td>\n",
       "      <td>1687</td>\n",
       "      <td>0.425608</td>\n",
       "    </tr>\n",
       "    <tr>\n",
       "      <th>7</th>\n",
       "      <td>LasVegas</td>\n",
       "      <td>74</td>\n",
       "      <td>180</td>\n",
       "      <td>0.411111</td>\n",
       "    </tr>\n",
       "    <tr>\n",
       "      <th>11</th>\n",
       "      <td>Milwaukee</td>\n",
       "      <td>905</td>\n",
       "      <td>2206</td>\n",
       "      <td>0.410245</td>\n",
       "    </tr>\n",
       "    <tr>\n",
       "      <th>0</th>\n",
       "      <td>Atlanta</td>\n",
       "      <td>594</td>\n",
       "      <td>1530</td>\n",
       "      <td>0.388235</td>\n",
       "    </tr>\n",
       "    <tr>\n",
       "      <th>1</th>\n",
       "      <td>Birmingham</td>\n",
       "      <td>499</td>\n",
       "      <td>1426</td>\n",
       "      <td>0.349930</td>\n",
       "    </tr>\n",
       "  </tbody>\n",
       "</table>\n",
       "</div>"
      ],
      "text/plain": [
       "       area_name  if_retweets  total_number  retweet_percentage\n",
       "16  SaltLakeCity          686           820            0.836585\n",
       "12          Moab          734          1039            0.706449\n",
       "15      Portland         4479          6913            0.647910\n",
       "5     ErieCounty         2415          3761            0.642116\n",
       "13       NewYork         3021          4838            0.624432\n",
       "2     Burlington         5208          8365            0.622594\n",
       "4         Denver         2133          3511            0.607519\n",
       "14  Philadelphia         5679         10000            0.567900\n",
       "9     LosAngeles         1132          2227            0.508307\n",
       "17       Seattle          256           510            0.501961\n",
       "3        Chicago         1590          3318            0.479204\n",
       "8      Lordsburg           15            33            0.454545\n",
       "10         Miami          172           384            0.447917\n",
       "6        Jackson          718          1687            0.425608\n",
       "7       LasVegas           74           180            0.411111\n",
       "11     Milwaukee          905          2206            0.410245\n",
       "0        Atlanta          594          1530            0.388235\n",
       "1     Birmingham          499          1426            0.349930"
      ]
     },
     "execution_count": 69,
     "metadata": {},
     "output_type": "execute_result"
    }
   ],
   "source": [
    "tweets_data_groupbyareas['retweet_percentage']=tweets_data_groupbyareas['if_retweets']/tweets_data_groupbyareas['total_number']\n",
    "tweets_data_groupbyareas=tweets_data_groupbyareas.sort_values(by='retweet_percentage', ascending=False)\n",
    "tweets_data_groupbyareas"
   ]
  },
  {
   "cell_type": "code",
   "execution_count": 70,
   "metadata": {},
   "outputs": [
    {
     "data": {
      "image/png": "[encoded data removed]",
      "text/plain": [
       "<Figure size 576x576 with 1 Axes>"
      ]
     },
     "metadata": {
      "needs_background": "light"
     },
     "output_type": "display_data"
    }
   ],
   "source": [
    "plt.figure(figsize=(8,8))\n",
    "plt.plot(tweets_data_groupbyareas['area_name'],tweets_data_groupbyareas['retweet_percentage'],'r--',linewidth=3)\n",
    "plt.xlabel('Area Name')\n",
    "plt.ylabel('retweets percentage')\n",
    "plt.title('Retweets Percentage in Different Areas')\n",
    "plt.xticks(rotation=30)\n",
    "plt.show()\n"
   ]
  },
  {
   "cell_type": "markdown",
   "metadata": {},
   "source": [
    "• Percentage of collected tweets that are English."
   ]
  },
  {
   "cell_type": "code",
   "execution_count": 71,
   "metadata": {},
   "outputs": [
    {
     "name": "stdout",
     "output_type": "stream",
     "text": [
      "The total percentage of the collected English Tweets is: 89.03%\n"
     ]
    }
   ],
   "source": [
    "print('The total percentage of the collected English Tweets is: {:.2%}'.format(tweets_data['tweet.lang'].value_counts()['en']/tweets_data['tweet.lang'].value_counts().sum()))"
   ]
  },
  {
   "cell_type": "markdown",
   "metadata": {},
   "source": [
    "• Percentage of tweets that contain URLs"
   ]
  },
  {
   "cell_type": "code",
   "execution_count": 72,
   "metadata": {},
   "outputs": [],
   "source": [
    "def if_URL(string):\n",
    "    # findall() has been used \n",
    "    # with valid conditions for urls in string\n",
    "    # return 1 if there is a URL in the string, else return 0\n",
    "    regex = r\"(?i)\\b((?:https?://|www\\d{0,3}[.]|[a-z0-9.\\-]+[.][a-z]{2,4}/)(?:[^\\s()<>]+|\\(([^\\s()<>]+|(\\([^\\s()<>]+\\)))*\\))+(?:\\(([^\\s()<>]+|(\\([^\\s()<>]+\\)))*\\)|[^\\s`!()\\[\\]{};:'\\\".,<>?«»“”‘’]))\"\n",
    "    url = re.findall(regex,string)      \n",
    "    if(len(url)>0):\n",
    "        return 1\n",
    "    else:\n",
    "        return 0"
   ]
  },
  {
   "cell_type": "code",
   "execution_count": 73,
   "metadata": {},
   "outputs": [
    {
     "name": "stdout",
     "output_type": "stream",
     "text": [
      "Percentage of tweets that contain URLs is: 38.38%\n"
     ]
    }
   ],
   "source": [
    "tweets_data['tweets_text_urls']=tweets_data['tweet.full_text'].apply(lambda x:if_URL(x))\n",
    "print(\"Percentage of tweets that contain URLs is: {:.2%}\".format(tweets_data['tweets_text_urls'].sum()/len(tweets_data['tweets_text_urls']),\"%\"))"
   ]
  },
  {
   "cell_type": "markdown",
   "metadata": {},
   "source": [
    "• Table of the 30 most frequent hashtags in the following format: [rank, hashtag, frequency]. Example: [1, #coronavirus, 2500]"
   ]
  },
  {
   "cell_type": "code",
   "execution_count": 74,
   "metadata": {},
   "outputs": [],
   "source": [
    "def find_hashtag(string):\n",
    "#     input a string and output a array of hashtag\n",
    "    return re.findall(r\"#(\\w+)\", string)"
   ]
  },
  {
   "cell_type": "code",
   "execution_count": 75,
   "metadata": {},
   "outputs": [],
   "source": [
    "tweets_data['hashtag_array']=tweets_data['tweet.full_text'].apply(lambda x:find_hashtag(x))"
   ]
  },
  {
   "cell_type": "code",
   "execution_count": 76,
   "metadata": {},
   "outputs": [],
   "source": [
    "sorted_hashtags=[(l,k) for k,l in sorted([(j,i) for i,j in Counter(tweets_data['hashtag_array'].sum()).items()], reverse=True)]"
   ]
  },
  {
   "cell_type": "code",
   "execution_count": 77,
   "metadata": {},
   "outputs": [
    {
     "name": "stdout",
     "output_type": "stream",
     "text": [
      "[1, #COVID19, 8737]\n",
      "[2, #GetVaccinated, 6906]\n",
      "[3, #vaccine, 5872]\n",
      "[4, #vaccinated, 4973]\n",
      "[5, #CovidVaccine, 4448]\n",
      "[6, #Vaccine, 3476]\n",
      "[7, #vaccination, 2452]\n",
      "[8, #Pfizer, 2119]\n",
      "[9, #COVID19Vaccine, 1925]\n",
      "[10, #COVID, 1561]\n",
      "[11, #Moderna, 1286]\n",
      "[12, #AstraZeneca, 1194]\n",
      "[13, #coronavirus, 972]\n",
      "[14, #IndianArmy, 800]\n",
      "[15, #Vaccination, 799]\n",
      "[16, #StaySafe, 764]\n",
      "[17, #COVIDVaccine, 761]\n",
      "[18, #covid, 739]\n",
      "[19, #WearAMask, 732]\n",
      "[20, #COVID19vaccine, 689]\n",
      "[21, #Kashmir, 650]\n",
      "[22, #covid19, 639]\n",
      "[23, #Awaam, 582]\n",
      "[24, #PfizerVaccine, 572]\n",
      "[25, #VaccinesWork, 534]\n",
      "[26, #vaccines, 527]\n",
      "[27, #pandemic, 524]\n",
      "[28, #Covid19, 485]\n",
      "[29, #covidvaccine, 478]\n",
      "[30, #Biden, 461]\n"
     ]
    }
   ],
   "source": [
    "for x,i in zip(sorted_hashtags[:30],range(30)):\n",
    "#     print('[',i+1,', #',x[0],',',x[0],']')\n",
    "    print('[{}, #{}, {}]'.format(i+1,x[0],x[1]))"
   ]
  },
  {
   "cell_type": "markdown",
   "metadata": {},
   "source": [
    "### Data preprocessing"
   ]
  },
  {
   "cell_type": "markdown",
   "metadata": {},
   "source": [
    "• Filter languages other than English"
   ]
  },
  {
   "cell_type": "code",
   "execution_count": 78,
   "metadata": {},
   "outputs": [],
   "source": [
    "pre_tweets_data_1=tweets_data[tweets_data['tweet.lang']=='en']"
   ]
  },
  {
   "cell_type": "code",
   "execution_count": 79,
   "metadata": {},
   "outputs": [
    {
     "data": {
      "text/html": [
       "<div>\n",
       "<style scoped>\n",
       "    .dataframe tbody tr th:only-of-type {\n",
       "        vertical-align: middle;\n",
       "    }\n",
       "\n",
       "    .dataframe tbody tr th {\n",
       "        vertical-align: top;\n",
       "    }\n",
       "\n",
       "    .dataframe thead th {\n",
       "        text-align: right;\n",
       "    }\n",
       "</style>\n",
       "<table border=\"1\" class=\"dataframe\">\n",
       "  <thead>\n",
       "    <tr style=\"text-align: right;\">\n",
       "      <th></th>\n",
       "      <th>tweet.full_text</th>\n",
       "      <th>tweet.created_at</th>\n",
       "      <th>tweet.id_str</th>\n",
       "      <th>tweet.user.name</th>\n",
       "      <th>tweet.user.screen_name</th>\n",
       "      <th>tweet.user.id_str</th>\n",
       "      <th>tweet.user.location</th>\n",
       "      <th>tweet.user.url</th>\n",
       "      <th>tweet.user.description</th>\n",
       "      <th>tweet.user.verified</th>\n",
       "      <th>...</th>\n",
       "      <th>tweet.user.listed_count</th>\n",
       "      <th>tweet.user.created_at</th>\n",
       "      <th>tweet.user.profile_image_url_https</th>\n",
       "      <th>tweet.user.default_profile</th>\n",
       "      <th>tweet.user.default_profile_image</th>\n",
       "      <th>tweet.lang</th>\n",
       "      <th>area_name</th>\n",
       "      <th>if_retweets</th>\n",
       "      <th>tweets_text_urls</th>\n",
       "      <th>hashtag_array</th>\n",
       "    </tr>\n",
       "  </thead>\n",
       "  <tbody>\n",
       "    <tr>\n",
       "      <th>1</th>\n",
       "      <td>I actually saw a woman wearing this shirt yest...</td>\n",
       "      <td>2021-06-06 13:04:14</td>\n",
       "      <td>1401525340195991553</td>\n",
       "      <td>CarianneH</td>\n",
       "      <td>CarianneHixson_</td>\n",
       "      <td>2384288732</td>\n",
       "      <td>Montclair, NJ</td>\n",
       "      <td>https://t.co/7I5te4MQGT</td>\n",
       "      <td>@cariannehixsonart</td>\n",
       "      <td>False</td>\n",
       "      <td>...</td>\n",
       "      <td>14</td>\n",
       "      <td>2014-03-11 22:45:16</td>\n",
       "      <td>https://pbs.twimg.com/profile_images/100628643...</td>\n",
       "      <td>False</td>\n",
       "      <td>False</td>\n",
       "      <td>en</td>\n",
       "      <td>Portland</td>\n",
       "      <td>0</td>\n",
       "      <td>1</td>\n",
       "      <td>[science, Pfizer, VaccineRegistration, COVID19...</td>\n",
       "    </tr>\n",
       "    <tr>\n",
       "      <th>2</th>\n",
       "      <td>RT @ESchattner: BUT I'm concerned that #olapar...</td>\n",
       "      <td>2021-06-06 13:03:46</td>\n",
       "      <td>1401525219676852224</td>\n",
       "      <td>Elaine Schattner</td>\n",
       "      <td>ESchattner</td>\n",
       "      <td>95273513</td>\n",
       "      <td>NYC</td>\n",
       "      <td>https://t.co/3LdHzkJO8s</td>\n",
       "      <td>Journalist. Physician. Book on cancer activism...</td>\n",
       "      <td>False</td>\n",
       "      <td>...</td>\n",
       "      <td>773</td>\n",
       "      <td>2009-12-07 20:37:11</td>\n",
       "      <td>https://pbs.twimg.com/profile_images/918579466...</td>\n",
       "      <td>False</td>\n",
       "      <td>False</td>\n",
       "      <td>en</td>\n",
       "      <td>Portland</td>\n",
       "      <td>1</td>\n",
       "      <td>0</td>\n",
       "      <td>[olaparib]</td>\n",
       "    </tr>\n",
       "    <tr>\n",
       "      <th>3</th>\n",
       "      <td>RT @tmprowell: Only 1.4% of US 12-15 yr olds, ...</td>\n",
       "      <td>2021-06-06 13:02:34</td>\n",
       "      <td>1401524918949453826</td>\n",
       "      <td>𝖉𝖆𝖛𝖊 𝖋𝖚𝖑𝖑𝖊𝖗</td>\n",
       "      <td>cd_fuller</td>\n",
       "      <td>931068577</td>\n",
       "      <td>HOU</td>\n",
       "      <td>https://t.co/vmzivwZfPG</td>\n",
       "      <td>Rad onc, informatician, imaging researcher, Sp...</td>\n",
       "      <td>False</td>\n",
       "      <td>...</td>\n",
       "      <td>489</td>\n",
       "      <td>2012-11-07 02:45:53</td>\n",
       "      <td>https://pbs.twimg.com/profile_images/941049282...</td>\n",
       "      <td>False</td>\n",
       "      <td>False</td>\n",
       "      <td>en</td>\n",
       "      <td>Portland</td>\n",
       "      <td>1</td>\n",
       "      <td>0</td>\n",
       "      <td>[COVID19, v]</td>\n",
       "    </tr>\n",
       "    <tr>\n",
       "      <th>4</th>\n",
       "      <td>Exciting news! We're giving out cool #NYCVaxCh...</td>\n",
       "      <td>2021-06-06 13:01:00</td>\n",
       "      <td>1401524525251055619</td>\n",
       "      <td>NYC Health + Hospitals/Bellevue</td>\n",
       "      <td>BellevueHosp</td>\n",
       "      <td>2962245395</td>\n",
       "      <td>NYC</td>\n",
       "      <td>https://t.co/jvDmLVp31c</td>\n",
       "      <td>NYC Health+Hospitals/Bellevue. Keeping communi...</td>\n",
       "      <td>True</td>\n",
       "      <td>...</td>\n",
       "      <td>132</td>\n",
       "      <td>2015-01-05 15:52:29</td>\n",
       "      <td>https://pbs.twimg.com/profile_images/128123803...</td>\n",
       "      <td>False</td>\n",
       "      <td>False</td>\n",
       "      <td>en</td>\n",
       "      <td>Portland</td>\n",
       "      <td>0</td>\n",
       "      <td>1</td>\n",
       "      <td>[NYCVaxChamp, COVID19vaccine]</td>\n",
       "    </tr>\n",
       "    <tr>\n",
       "      <th>6</th>\n",
       "      <td>RT @tmprowell: Only 1.4% of US 12-15 yr olds, ...</td>\n",
       "      <td>2021-06-06 12:56:57</td>\n",
       "      <td>1401523504336486401</td>\n",
       "      <td>Sarah Bernstein, MD, MHA, FAAP</td>\n",
       "      <td>sbernsteinmd</td>\n",
       "      <td>3303457302</td>\n",
       "      <td>Durham, NC</td>\n",
       "      <td>https://t.co/ybBF5I2C4u</td>\n",
       "      <td>NICU fellow @DukeHealth. MD from Emory, MHA Co...</td>\n",
       "      <td>True</td>\n",
       "      <td>...</td>\n",
       "      <td>304</td>\n",
       "      <td>2015-08-01 16:19:09</td>\n",
       "      <td>https://pbs.twimg.com/profile_images/123248749...</td>\n",
       "      <td>True</td>\n",
       "      <td>False</td>\n",
       "      <td>en</td>\n",
       "      <td>Portland</td>\n",
       "      <td>1</td>\n",
       "      <td>0</td>\n",
       "      <td>[COVID19, v]</td>\n",
       "    </tr>\n",
       "  </tbody>\n",
       "</table>\n",
       "<p>5 rows × 24 columns</p>\n",
       "</div>"
      ],
      "text/plain": [
       "                                     tweet.full_text     tweet.created_at  \\\n",
       "1  I actually saw a woman wearing this shirt yest...  2021-06-06 13:04:14   \n",
       "2  RT @ESchattner: BUT I'm concerned that #olapar...  2021-06-06 13:03:46   \n",
       "3  RT @tmprowell: Only 1.4% of US 12-15 yr olds, ...  2021-06-06 13:02:34   \n",
       "4  Exciting news! We're giving out cool #NYCVaxCh...  2021-06-06 13:01:00   \n",
       "6  RT @tmprowell: Only 1.4% of US 12-15 yr olds, ...  2021-06-06 12:56:57   \n",
       "\n",
       "          tweet.id_str                  tweet.user.name  \\\n",
       "1  1401525340195991553                        CarianneH   \n",
       "2  1401525219676852224                 Elaine Schattner   \n",
       "3  1401524918949453826                      𝖉𝖆𝖛𝖊 𝖋𝖚𝖑𝖑𝖊𝖗   \n",
       "4  1401524525251055619  NYC Health + Hospitals/Bellevue   \n",
       "6  1401523504336486401   Sarah Bernstein, MD, MHA, FAAP   \n",
       "\n",
       "  tweet.user.screen_name tweet.user.id_str tweet.user.location  \\\n",
       "1        CarianneHixson_        2384288732       Montclair, NJ   \n",
       "2             ESchattner          95273513                 NYC   \n",
       "3              cd_fuller         931068577                 HOU   \n",
       "4           BellevueHosp        2962245395                 NYC   \n",
       "6           sbernsteinmd        3303457302          Durham, NC   \n",
       "\n",
       "            tweet.user.url                             tweet.user.description  \\\n",
       "1  https://t.co/7I5te4MQGT                                 @cariannehixsonart   \n",
       "2  https://t.co/3LdHzkJO8s  Journalist. Physician. Book on cancer activism...   \n",
       "3  https://t.co/vmzivwZfPG  Rad onc, informatician, imaging researcher, Sp...   \n",
       "4  https://t.co/jvDmLVp31c  NYC Health+Hospitals/Bellevue. Keeping communi...   \n",
       "6  https://t.co/ybBF5I2C4u  NICU fellow @DukeHealth. MD from Emory, MHA Co...   \n",
       "\n",
       "  tweet.user.verified  ... tweet.user.listed_count tweet.user.created_at  \\\n",
       "1               False  ...                      14   2014-03-11 22:45:16   \n",
       "2               False  ...                     773   2009-12-07 20:37:11   \n",
       "3               False  ...                     489   2012-11-07 02:45:53   \n",
       "4                True  ...                     132   2015-01-05 15:52:29   \n",
       "6                True  ...                     304   2015-08-01 16:19:09   \n",
       "\n",
       "                  tweet.user.profile_image_url_https  \\\n",
       "1  https://pbs.twimg.com/profile_images/100628643...   \n",
       "2  https://pbs.twimg.com/profile_images/918579466...   \n",
       "3  https://pbs.twimg.com/profile_images/941049282...   \n",
       "4  https://pbs.twimg.com/profile_images/128123803...   \n",
       "6  https://pbs.twimg.com/profile_images/123248749...   \n",
       "\n",
       "  tweet.user.default_profile tweet.user.default_profile_image tweet.lang  \\\n",
       "1                      False                            False         en   \n",
       "2                      False                            False         en   \n",
       "3                      False                            False         en   \n",
       "4                      False                            False         en   \n",
       "6                       True                            False         en   \n",
       "\n",
       "  area_name if_retweets tweets_text_urls  \\\n",
       "1  Portland           0                1   \n",
       "2  Portland           1                0   \n",
       "3  Portland           1                0   \n",
       "4  Portland           0                1   \n",
       "6  Portland           1                0   \n",
       "\n",
       "                                       hashtag_array  \n",
       "1  [science, Pfizer, VaccineRegistration, COVID19...  \n",
       "2                                         [olaparib]  \n",
       "3                                       [COVID19, v]  \n",
       "4                      [NYCVaxChamp, COVID19vaccine]  \n",
       "6                                       [COVID19, v]  \n",
       "\n",
       "[5 rows x 24 columns]"
      ]
     },
     "execution_count": 79,
     "metadata": {},
     "output_type": "execute_result"
    }
   ],
   "source": [
    "pre_tweets_data_1.head()"
   ]
  },
  {
   "cell_type": "markdown",
   "metadata": {},
   "source": [
    "• data preprocess:  \n",
    "    1) Set the tweet to lowercase  \n",
    "    2) Filter URL links  \n",
    "    3) Remove user @ references and '#' from tweet  \n",
    "    4) Filter emoticons  \n",
    "    5) Filter punctuation  \n",
    "    6) Remove stopwords  "
   ]
  },
  {
   "cell_type": "code",
   "execution_count": 80,
   "metadata": {},
   "outputs": [],
   "source": [
    "def preprocess_tweet_text(tweet):\n",
    "#     set the tweet to lowercase\n",
    "    tweet=tweet.lower()\n",
    "#     Filter URL links\n",
    "    tweet=re.sub(r\"http\\S+|www\\S+|https\\S+\", '', tweet, flags=re.MULTILINE)\n",
    "# Remove user @ references and '#' from tweet\n",
    "    tweet = re.sub(r'\\@\\w+|\\#','', tweet)\n",
    "# Filter emoticons\n",
    "    emoj = re.compile(\"[\"\n",
    "        u\"\\U0001F600-\\U0001F64F\"  # emoticons\n",
    "        u\"\\U0001F300-\\U0001F5FF\"  # symbols & pictographs\n",
    "        u\"\\U0001F680-\\U0001F6FF\"  # transport & map symbols\n",
    "        u\"\\U0001F1E0-\\U0001F1FF\"  # flags (iOS)\n",
    "        u\"\\U00002500-\\U00002BEF\"  # chinese char\n",
    "        u\"\\U00002702-\\U000027B0\"\n",
    "        u\"\\U00002702-\\U000027B0\"\n",
    "        u\"\\U000024C2-\\U0001F251\"\n",
    "        u\"\\U0001f926-\\U0001f937\"\n",
    "        u\"\\U00010000-\\U0010ffff\"\n",
    "        u\"\\u2640-\\u2642\" \n",
    "        u\"\\u2600-\\u2B55\"\n",
    "        u\"\\u200d\"\n",
    "        u\"\\u23cf\"\n",
    "        u\"\\u23e9\"\n",
    "        u\"\\u231a\"\n",
    "        u\"\\ufe0f\"  # dingbats\n",
    "        u\"\\u3030\"\n",
    "                      \"]+\", re.UNICODE)\n",
    "    tweet=re.sub(emoj, '', tweet)    \n",
    "#     Remove non-alphabetic characters \n",
    "    tweet =re.sub(\"[^a-zA-Z]+\", \" \", tweet)\n",
    "#     Break sentences into words.\n",
    "    tweet=tweet.split()\n",
    "# Lemmatization: converting a word to its base form\n",
    "    lemmatizer = WordNetLemmatizer()\n",
    "    tweet=[lemmatizer.lemmatize(word) for word in tweet]\n",
    "# Remove common English words\n",
    "    tweet=[word for word in tweet if not word in stop_words]\n",
    "#   Remove short words (length strictly less than 3 characters)\n",
    "    tweet=[word for word in tweet if len(word) > 2]\n",
    "    \n",
    "    return \" \".join(tweet)\n",
    "#     return tweet"
   ]
  },
  {
   "cell_type": "code",
   "execution_count": 81,
   "metadata": {},
   "outputs": [
    {
     "name": "stderr",
     "output_type": "stream",
     "text": [
      "<ipython-input-81-8c8891e6fe13>:1: SettingWithCopyWarning: \n",
      "A value is trying to be set on a copy of a slice from a DataFrame.\n",
      "Try using .loc[row_indexer,col_indexer] = value instead\n",
      "\n",
      "See the caveats in the documentation: https://pandas.pydata.org/pandas-docs/stable/user_guide/indexing.html#returning-a-view-versus-a-copy\n",
      "  pre_tweets_data_1['tweet.full_text']=pre_tweets_data_1['tweet.full_text'].apply(lambda x:preprocess_tweet_text(x))\n"
     ]
    }
   ],
   "source": [
    "pre_tweets_data_1['tweet.full_text']=pre_tweets_data_1['tweet.full_text'].apply(lambda x:preprocess_tweet_text(x))"
   ]
  },
  {
   "cell_type": "code",
   "execution_count": 82,
   "metadata": {},
   "outputs": [
    {
     "data": {
      "text/html": [
       "<div>\n",
       "<style scoped>\n",
       "    .dataframe tbody tr th:only-of-type {\n",
       "        vertical-align: middle;\n",
       "    }\n",
       "\n",
       "    .dataframe tbody tr th {\n",
       "        vertical-align: top;\n",
       "    }\n",
       "\n",
       "    .dataframe thead th {\n",
       "        text-align: right;\n",
       "    }\n",
       "</style>\n",
       "<table border=\"1\" class=\"dataframe\">\n",
       "  <thead>\n",
       "    <tr style=\"text-align: right;\">\n",
       "      <th></th>\n",
       "      <th>tweet.full_text</th>\n",
       "      <th>tweet.created_at</th>\n",
       "      <th>tweet.id_str</th>\n",
       "      <th>tweet.user.name</th>\n",
       "      <th>tweet.user.screen_name</th>\n",
       "      <th>tweet.user.id_str</th>\n",
       "      <th>tweet.user.location</th>\n",
       "      <th>tweet.user.url</th>\n",
       "      <th>tweet.user.description</th>\n",
       "      <th>tweet.user.verified</th>\n",
       "      <th>...</th>\n",
       "      <th>tweet.user.listed_count</th>\n",
       "      <th>tweet.user.created_at</th>\n",
       "      <th>tweet.user.profile_image_url_https</th>\n",
       "      <th>tweet.user.default_profile</th>\n",
       "      <th>tweet.user.default_profile_image</th>\n",
       "      <th>tweet.lang</th>\n",
       "      <th>area_name</th>\n",
       "      <th>if_retweets</th>\n",
       "      <th>tweets_text_urls</th>\n",
       "      <th>hashtag_array</th>\n",
       "    </tr>\n",
       "  </thead>\n",
       "  <tbody>\n",
       "    <tr>\n",
       "      <th>1</th>\n",
       "      <td>actually saw woman wearing shirt yesterday lib...</td>\n",
       "      <td>2021-06-06 13:04:14</td>\n",
       "      <td>1401525340195991553</td>\n",
       "      <td>CarianneH</td>\n",
       "      <td>CarianneHixson_</td>\n",
       "      <td>2384288732</td>\n",
       "      <td>Montclair, NJ</td>\n",
       "      <td>https://t.co/7I5te4MQGT</td>\n",
       "      <td>@cariannehixsonart</td>\n",
       "      <td>False</td>\n",
       "      <td>...</td>\n",
       "      <td>14</td>\n",
       "      <td>2014-03-11 22:45:16</td>\n",
       "      <td>https://pbs.twimg.com/profile_images/100628643...</td>\n",
       "      <td>False</td>\n",
       "      <td>False</td>\n",
       "      <td>en</td>\n",
       "      <td>Portland</td>\n",
       "      <td>0</td>\n",
       "      <td>1</td>\n",
       "      <td>[science, Pfizer, VaccineRegistration, COVID19...</td>\n",
       "    </tr>\n",
       "    <tr>\n",
       "      <th>2</th>\n",
       "      <td>concerned olaparib oversold even paper title p...</td>\n",
       "      <td>2021-06-06 13:03:46</td>\n",
       "      <td>1401525219676852224</td>\n",
       "      <td>Elaine Schattner</td>\n",
       "      <td>ESchattner</td>\n",
       "      <td>95273513</td>\n",
       "      <td>NYC</td>\n",
       "      <td>https://t.co/3LdHzkJO8s</td>\n",
       "      <td>Journalist. Physician. Book on cancer activism...</td>\n",
       "      <td>False</td>\n",
       "      <td>...</td>\n",
       "      <td>773</td>\n",
       "      <td>2009-12-07 20:37:11</td>\n",
       "      <td>https://pbs.twimg.com/profile_images/918579466...</td>\n",
       "      <td>False</td>\n",
       "      <td>False</td>\n",
       "      <td>en</td>\n",
       "      <td>Portland</td>\n",
       "      <td>1</td>\n",
       "      <td>0</td>\n",
       "      <td>[olaparib]</td>\n",
       "    </tr>\n",
       "    <tr>\n",
       "      <th>3</th>\n",
       "      <td>old old amp old received least one dose covid</td>\n",
       "      <td>2021-06-06 13:02:34</td>\n",
       "      <td>1401524918949453826</td>\n",
       "      <td>𝖉𝖆𝖛𝖊 𝖋𝖚𝖑𝖑𝖊𝖗</td>\n",
       "      <td>cd_fuller</td>\n",
       "      <td>931068577</td>\n",
       "      <td>HOU</td>\n",
       "      <td>https://t.co/vmzivwZfPG</td>\n",
       "      <td>Rad onc, informatician, imaging researcher, Sp...</td>\n",
       "      <td>False</td>\n",
       "      <td>...</td>\n",
       "      <td>489</td>\n",
       "      <td>2012-11-07 02:45:53</td>\n",
       "      <td>https://pbs.twimg.com/profile_images/941049282...</td>\n",
       "      <td>False</td>\n",
       "      <td>False</td>\n",
       "      <td>en</td>\n",
       "      <td>Portland</td>\n",
       "      <td>1</td>\n",
       "      <td>0</td>\n",
       "      <td>[COVID19, v]</td>\n",
       "    </tr>\n",
       "    <tr>\n",
       "      <th>4</th>\n",
       "      <td>exciting news giving cool nycvaxchamp gift bag...</td>\n",
       "      <td>2021-06-06 13:01:00</td>\n",
       "      <td>1401524525251055619</td>\n",
       "      <td>NYC Health + Hospitals/Bellevue</td>\n",
       "      <td>BellevueHosp</td>\n",
       "      <td>2962245395</td>\n",
       "      <td>NYC</td>\n",
       "      <td>https://t.co/jvDmLVp31c</td>\n",
       "      <td>NYC Health+Hospitals/Bellevue. Keeping communi...</td>\n",
       "      <td>True</td>\n",
       "      <td>...</td>\n",
       "      <td>132</td>\n",
       "      <td>2015-01-05 15:52:29</td>\n",
       "      <td>https://pbs.twimg.com/profile_images/128123803...</td>\n",
       "      <td>False</td>\n",
       "      <td>False</td>\n",
       "      <td>en</td>\n",
       "      <td>Portland</td>\n",
       "      <td>0</td>\n",
       "      <td>1</td>\n",
       "      <td>[NYCVaxChamp, COVID19vaccine]</td>\n",
       "    </tr>\n",
       "    <tr>\n",
       "      <th>6</th>\n",
       "      <td>old old amp old received least one dose covid</td>\n",
       "      <td>2021-06-06 12:56:57</td>\n",
       "      <td>1401523504336486401</td>\n",
       "      <td>Sarah Bernstein, MD, MHA, FAAP</td>\n",
       "      <td>sbernsteinmd</td>\n",
       "      <td>3303457302</td>\n",
       "      <td>Durham, NC</td>\n",
       "      <td>https://t.co/ybBF5I2C4u</td>\n",
       "      <td>NICU fellow @DukeHealth. MD from Emory, MHA Co...</td>\n",
       "      <td>True</td>\n",
       "      <td>...</td>\n",
       "      <td>304</td>\n",
       "      <td>2015-08-01 16:19:09</td>\n",
       "      <td>https://pbs.twimg.com/profile_images/123248749...</td>\n",
       "      <td>True</td>\n",
       "      <td>False</td>\n",
       "      <td>en</td>\n",
       "      <td>Portland</td>\n",
       "      <td>1</td>\n",
       "      <td>0</td>\n",
       "      <td>[COVID19, v]</td>\n",
       "    </tr>\n",
       "  </tbody>\n",
       "</table>\n",
       "<p>5 rows × 24 columns</p>\n",
       "</div>"
      ],
      "text/plain": [
       "                                     tweet.full_text     tweet.created_at  \\\n",
       "1  actually saw woman wearing shirt yesterday lib...  2021-06-06 13:04:14   \n",
       "2  concerned olaparib oversold even paper title p...  2021-06-06 13:03:46   \n",
       "3      old old amp old received least one dose covid  2021-06-06 13:02:34   \n",
       "4  exciting news giving cool nycvaxchamp gift bag...  2021-06-06 13:01:00   \n",
       "6      old old amp old received least one dose covid  2021-06-06 12:56:57   \n",
       "\n",
       "          tweet.id_str                  tweet.user.name  \\\n",
       "1  1401525340195991553                        CarianneH   \n",
       "2  1401525219676852224                 Elaine Schattner   \n",
       "3  1401524918949453826                      𝖉𝖆𝖛𝖊 𝖋𝖚𝖑𝖑𝖊𝖗   \n",
       "4  1401524525251055619  NYC Health + Hospitals/Bellevue   \n",
       "6  1401523504336486401   Sarah Bernstein, MD, MHA, FAAP   \n",
       "\n",
       "  tweet.user.screen_name tweet.user.id_str tweet.user.location  \\\n",
       "1        CarianneHixson_        2384288732       Montclair, NJ   \n",
       "2             ESchattner          95273513                 NYC   \n",
       "3              cd_fuller         931068577                 HOU   \n",
       "4           BellevueHosp        2962245395                 NYC   \n",
       "6           sbernsteinmd        3303457302          Durham, NC   \n",
       "\n",
       "            tweet.user.url                             tweet.user.description  \\\n",
       "1  https://t.co/7I5te4MQGT                                 @cariannehixsonart   \n",
       "2  https://t.co/3LdHzkJO8s  Journalist. Physician. Book on cancer activism...   \n",
       "3  https://t.co/vmzivwZfPG  Rad onc, informatician, imaging researcher, Sp...   \n",
       "4  https://t.co/jvDmLVp31c  NYC Health+Hospitals/Bellevue. Keeping communi...   \n",
       "6  https://t.co/ybBF5I2C4u  NICU fellow @DukeHealth. MD from Emory, MHA Co...   \n",
       "\n",
       "  tweet.user.verified  ... tweet.user.listed_count tweet.user.created_at  \\\n",
       "1               False  ...                      14   2014-03-11 22:45:16   \n",
       "2               False  ...                     773   2009-12-07 20:37:11   \n",
       "3               False  ...                     489   2012-11-07 02:45:53   \n",
       "4                True  ...                     132   2015-01-05 15:52:29   \n",
       "6                True  ...                     304   2015-08-01 16:19:09   \n",
       "\n",
       "                  tweet.user.profile_image_url_https  \\\n",
       "1  https://pbs.twimg.com/profile_images/100628643...   \n",
       "2  https://pbs.twimg.com/profile_images/918579466...   \n",
       "3  https://pbs.twimg.com/profile_images/941049282...   \n",
       "4  https://pbs.twimg.com/profile_images/128123803...   \n",
       "6  https://pbs.twimg.com/profile_images/123248749...   \n",
       "\n",
       "  tweet.user.default_profile tweet.user.default_profile_image tweet.lang  \\\n",
       "1                      False                            False         en   \n",
       "2                      False                            False         en   \n",
       "3                      False                            False         en   \n",
       "4                      False                            False         en   \n",
       "6                       True                            False         en   \n",
       "\n",
       "  area_name if_retweets tweets_text_urls  \\\n",
       "1  Portland           0                1   \n",
       "2  Portland           1                0   \n",
       "3  Portland           1                0   \n",
       "4  Portland           0                1   \n",
       "6  Portland           1                0   \n",
       "\n",
       "                                       hashtag_array  \n",
       "1  [science, Pfizer, VaccineRegistration, COVID19...  \n",
       "2                                         [olaparib]  \n",
       "3                                       [COVID19, v]  \n",
       "4                      [NYCVaxChamp, COVID19vaccine]  \n",
       "6                                       [COVID19, v]  \n",
       "\n",
       "[5 rows x 24 columns]"
      ]
     },
     "execution_count": 82,
     "metadata": {},
     "output_type": "execute_result"
    }
   ],
   "source": [
    "pre_tweets_data_1.head()"
   ]
  },
  {
   "cell_type": "markdown",
   "metadata": {},
   "source": [
    "### Sentiment Analysis on Twitter"
   ]
  },
  {
   "cell_type": "markdown",
   "metadata": {},
   "source": [
    "This dataset encoded the target variable with a 3-point ordinal scale: 0 = negative, 2 = neutral, 4 = positive.\n",
    "\n",
    "Dataset: https://www.dropbox.com/s/du1z2m910a68ehk/training.csv?dl=0"
   ]
  },
  {
   "cell_type": "code",
   "execution_count": 83,
   "metadata": {},
   "outputs": [],
   "source": [
    "def load_dataset(filename, cols):\n",
    "    dataset = pd.read_csv(filename, encoding='latin-1')\n",
    "    dataset.columns = cols\n",
    "    return dataset"
   ]
  },
  {
   "cell_type": "code",
   "execution_count": 84,
   "metadata": {},
   "outputs": [],
   "source": [
    "def remove_unwanted_cols(dataset, cols):\n",
    "    for col in cols:\n",
    "        del dataset[col]\n",
    "    return dataset"
   ]
  },
  {
   "cell_type": "code",
   "execution_count": 85,
   "metadata": {},
   "outputs": [],
   "source": [
    "# implement vectorization using tf-idf\n",
    "def get_feature_vector(train_fit):\n",
    "    vector = TfidfVectorizer(sublinear_tf=True)\n",
    "    vector.fit(train_fit)\n",
    "    return vector"
   ]
  },
  {
   "cell_type": "markdown",
   "metadata": {},
   "source": [
    "• The target column is comprised of the integer values 0, 2, and 4. To convert the integer results to be easily understood by users, which is Negative, Neutral and positive."
   ]
  },
  {
   "cell_type": "code",
   "execution_count": 86,
   "metadata": {},
   "outputs": [],
   "source": [
    "def int_to_string(sentiment):\n",
    "    if sentiment == 0:\n",
    "        return \"Negative\"\n",
    "    elif sentiment == 2:\n",
    "        return \"Neutral\"\n",
    "    else:\n",
    "        return \"Positive\""
   ]
  },
  {
   "cell_type": "code",
   "execution_count": 87,
   "metadata": {},
   "outputs": [],
   "source": [
    "# Load dataset\n",
    "dataset = load_dataset(\"training.csv\", ['target', 't_id', 'created_at', 'query', 'user', 'text'])\n",
    "# Remove unwanted columns from dataset\n",
    "dataset = remove_unwanted_cols(dataset, ['t_id', 'created_at', 'query', 'user'])\n",
    "#Preprocess data\n",
    "dataset.text = dataset['text'].apply(preprocess_tweet_text)"
   ]
  },
  {
   "cell_type": "code",
   "execution_count": null,
   "metadata": {},
   "outputs": [],
   "source": []
  },
  {
   "cell_type": "code",
   "execution_count": 88,
   "metadata": {},
   "outputs": [
    {
     "name": "stdout",
     "output_type": "stream",
     "text": [
      "0.761440625\n",
      "0.777440625\n"
     ]
    }
   ],
   "source": [
    "# Split dataset into Train, Test\n",
    "# Same tf vector will be used for Testing sentiments on unseen trending data\n",
    "tf_vector = get_feature_vector(np.array(dataset.iloc[:, 1]).ravel())\n",
    "X = tf_vector.transform(np.array(dataset.iloc[:, 1]).ravel())\n",
    "y = np.array(dataset.iloc[:, 0]).ravel()\n",
    "X_train, X_test, y_train, y_test = train_test_split(X, y, test_size=0.2, random_state=30)\n",
    "\n",
    "# Training Naive Bayes model\n",
    "NB_model = MultinomialNB()\n",
    "NB_model.fit(X_train, y_train)\n",
    "y_predict_nb = NB_model.predict(X_test)\n",
    "print(accuracy_score(y_test, y_predict_nb))\n",
    "\n",
    "# Training Logistics Regression model\n",
    "LR_model = LogisticRegression(solver='lbfgs',max_iter=10000)\n",
    "LR_model.fit(X_train, y_train)\n",
    "y_predict_lr = LR_model.predict(X_test)\n",
    "print(accuracy_score(y_test, y_predict_lr))"
   ]
  },
  {
   "cell_type": "markdown",
   "metadata": {},
   "source": [
    "#### predict the Tweet sentiment"
   ]
  },
  {
   "cell_type": "code",
   "execution_count": 89,
   "metadata": {},
   "outputs": [],
   "source": [
    "test_ds = pre_tweets_data_1[['area_name','tweet.full_text']]\n",
    "\n",
    "# Creating text feature\n",
    "\n",
    "test_feature = tf_vector.transform(np.array(test_ds.iloc[:, 1]).ravel())\n",
    "\n",
    "# Using Logistic Regression model for prediction\n",
    "test_prediction_lr = LR_model.predict(test_feature)\n",
    "\n",
    "# get the sentiment result to a table\n",
    "test_result_ds = pd.DataFrame({'area_name': test_ds.area_name, 'prediction':test_prediction_lr})\n",
    "# convert int to string\n",
    "test_result_ds['prediction']=test_result_ds['prediction'].apply(lambda x:int_to_string(x))"
   ]
  },
  {
   "cell_type": "code",
   "execution_count": 90,
   "metadata": {},
   "outputs": [
    {
     "data": {
      "text/html": [
       "<div>\n",
       "<style scoped>\n",
       "    .dataframe tbody tr th:only-of-type {\n",
       "        vertical-align: middle;\n",
       "    }\n",
       "\n",
       "    .dataframe tbody tr th {\n",
       "        vertical-align: top;\n",
       "    }\n",
       "\n",
       "    .dataframe thead th {\n",
       "        text-align: right;\n",
       "    }\n",
       "</style>\n",
       "<table border=\"1\" class=\"dataframe\">\n",
       "  <thead>\n",
       "    <tr style=\"text-align: right;\">\n",
       "      <th></th>\n",
       "      <th>area_name</th>\n",
       "      <th>prediction</th>\n",
       "      <th>count</th>\n",
       "    </tr>\n",
       "  </thead>\n",
       "  <tbody>\n",
       "    <tr>\n",
       "      <th>1</th>\n",
       "      <td>Portland</td>\n",
       "      <td>Positive</td>\n",
       "      <td>1</td>\n",
       "    </tr>\n",
       "    <tr>\n",
       "      <th>2</th>\n",
       "      <td>Portland</td>\n",
       "      <td>Negative</td>\n",
       "      <td>1</td>\n",
       "    </tr>\n",
       "    <tr>\n",
       "      <th>3</th>\n",
       "      <td>Portland</td>\n",
       "      <td>Positive</td>\n",
       "      <td>1</td>\n",
       "    </tr>\n",
       "    <tr>\n",
       "      <th>4</th>\n",
       "      <td>Portland</td>\n",
       "      <td>Positive</td>\n",
       "      <td>1</td>\n",
       "    </tr>\n",
       "    <tr>\n",
       "      <th>6</th>\n",
       "      <td>Portland</td>\n",
       "      <td>Positive</td>\n",
       "      <td>1</td>\n",
       "    </tr>\n",
       "    <tr>\n",
       "      <th>...</th>\n",
       "      <td>...</td>\n",
       "      <td>...</td>\n",
       "      <td>...</td>\n",
       "    </tr>\n",
       "    <tr>\n",
       "      <th>52744</th>\n",
       "      <td>SaltLakeCity</td>\n",
       "      <td>Positive</td>\n",
       "      <td>1</td>\n",
       "    </tr>\n",
       "    <tr>\n",
       "      <th>52745</th>\n",
       "      <td>SaltLakeCity</td>\n",
       "      <td>Positive</td>\n",
       "      <td>1</td>\n",
       "    </tr>\n",
       "    <tr>\n",
       "      <th>52746</th>\n",
       "      <td>SaltLakeCity</td>\n",
       "      <td>Negative</td>\n",
       "      <td>1</td>\n",
       "    </tr>\n",
       "    <tr>\n",
       "      <th>52747</th>\n",
       "      <td>SaltLakeCity</td>\n",
       "      <td>Negative</td>\n",
       "      <td>1</td>\n",
       "    </tr>\n",
       "    <tr>\n",
       "      <th>52748</th>\n",
       "      <td>SaltLakeCity</td>\n",
       "      <td>Positive</td>\n",
       "      <td>1</td>\n",
       "    </tr>\n",
       "  </tbody>\n",
       "</table>\n",
       "<p>46959 rows × 3 columns</p>\n",
       "</div>"
      ],
      "text/plain": [
       "          area_name prediction  count\n",
       "1          Portland   Positive      1\n",
       "2          Portland   Negative      1\n",
       "3          Portland   Positive      1\n",
       "4          Portland   Positive      1\n",
       "6          Portland   Positive      1\n",
       "...             ...        ...    ...\n",
       "52744  SaltLakeCity   Positive      1\n",
       "52745  SaltLakeCity   Positive      1\n",
       "52746  SaltLakeCity   Negative      1\n",
       "52747  SaltLakeCity   Negative      1\n",
       "52748  SaltLakeCity   Positive      1\n",
       "\n",
       "[46959 rows x 3 columns]"
      ]
     },
     "execution_count": 90,
     "metadata": {},
     "output_type": "execute_result"
    }
   ],
   "source": [
    "test_result_ds['count']=1\n",
    "test_result_ds"
   ]
  },
  {
   "cell_type": "code",
   "execution_count": 91,
   "metadata": {},
   "outputs": [
    {
     "data": {
      "text/html": [
       "<div>\n",
       "<style scoped>\n",
       "    .dataframe tbody tr th:only-of-type {\n",
       "        vertical-align: middle;\n",
       "    }\n",
       "\n",
       "    .dataframe tbody tr th {\n",
       "        vertical-align: top;\n",
       "    }\n",
       "\n",
       "    .dataframe thead th {\n",
       "        text-align: right;\n",
       "    }\n",
       "</style>\n",
       "<table border=\"1\" class=\"dataframe\">\n",
       "  <thead>\n",
       "    <tr style=\"text-align: right;\">\n",
       "      <th></th>\n",
       "      <th>area_name</th>\n",
       "      <th>prediction</th>\n",
       "      <th>count</th>\n",
       "    </tr>\n",
       "  </thead>\n",
       "  <tbody>\n",
       "    <tr>\n",
       "      <th>0</th>\n",
       "      <td>Atlanta</td>\n",
       "      <td>Negative</td>\n",
       "      <td>672</td>\n",
       "    </tr>\n",
       "    <tr>\n",
       "      <th>1</th>\n",
       "      <td>Atlanta</td>\n",
       "      <td>Positive</td>\n",
       "      <td>619</td>\n",
       "    </tr>\n",
       "    <tr>\n",
       "      <th>2</th>\n",
       "      <td>Birmingham</td>\n",
       "      <td>Negative</td>\n",
       "      <td>644</td>\n",
       "    </tr>\n",
       "    <tr>\n",
       "      <th>3</th>\n",
       "      <td>Birmingham</td>\n",
       "      <td>Positive</td>\n",
       "      <td>535</td>\n",
       "    </tr>\n",
       "    <tr>\n",
       "      <th>4</th>\n",
       "      <td>Burlington</td>\n",
       "      <td>Negative</td>\n",
       "      <td>3070</td>\n",
       "    </tr>\n",
       "    <tr>\n",
       "      <th>5</th>\n",
       "      <td>Burlington</td>\n",
       "      <td>Positive</td>\n",
       "      <td>4063</td>\n",
       "    </tr>\n",
       "    <tr>\n",
       "      <th>6</th>\n",
       "      <td>Chicago</td>\n",
       "      <td>Negative</td>\n",
       "      <td>1419</td>\n",
       "    </tr>\n",
       "    <tr>\n",
       "      <th>7</th>\n",
       "      <td>Chicago</td>\n",
       "      <td>Positive</td>\n",
       "      <td>1573</td>\n",
       "    </tr>\n",
       "    <tr>\n",
       "      <th>8</th>\n",
       "      <td>Denver</td>\n",
       "      <td>Negative</td>\n",
       "      <td>1699</td>\n",
       "    </tr>\n",
       "    <tr>\n",
       "      <th>9</th>\n",
       "      <td>Denver</td>\n",
       "      <td>Positive</td>\n",
       "      <td>1503</td>\n",
       "    </tr>\n",
       "    <tr>\n",
       "      <th>10</th>\n",
       "      <td>ErieCounty</td>\n",
       "      <td>Negative</td>\n",
       "      <td>1738</td>\n",
       "    </tr>\n",
       "    <tr>\n",
       "      <th>11</th>\n",
       "      <td>ErieCounty</td>\n",
       "      <td>Positive</td>\n",
       "      <td>1822</td>\n",
       "    </tr>\n",
       "    <tr>\n",
       "      <th>12</th>\n",
       "      <td>Jackson</td>\n",
       "      <td>Negative</td>\n",
       "      <td>781</td>\n",
       "    </tr>\n",
       "    <tr>\n",
       "      <th>13</th>\n",
       "      <td>Jackson</td>\n",
       "      <td>Positive</td>\n",
       "      <td>689</td>\n",
       "    </tr>\n",
       "    <tr>\n",
       "      <th>14</th>\n",
       "      <td>LasVegas</td>\n",
       "      <td>Negative</td>\n",
       "      <td>74</td>\n",
       "    </tr>\n",
       "    <tr>\n",
       "      <th>15</th>\n",
       "      <td>LasVegas</td>\n",
       "      <td>Positive</td>\n",
       "      <td>83</td>\n",
       "    </tr>\n",
       "    <tr>\n",
       "      <th>16</th>\n",
       "      <td>Lordsburg</td>\n",
       "      <td>Negative</td>\n",
       "      <td>13</td>\n",
       "    </tr>\n",
       "    <tr>\n",
       "      <th>17</th>\n",
       "      <td>Lordsburg</td>\n",
       "      <td>Positive</td>\n",
       "      <td>18</td>\n",
       "    </tr>\n",
       "    <tr>\n",
       "      <th>18</th>\n",
       "      <td>LosAngeles</td>\n",
       "      <td>Negative</td>\n",
       "      <td>834</td>\n",
       "    </tr>\n",
       "    <tr>\n",
       "      <th>19</th>\n",
       "      <td>LosAngeles</td>\n",
       "      <td>Positive</td>\n",
       "      <td>1251</td>\n",
       "    </tr>\n",
       "    <tr>\n",
       "      <th>20</th>\n",
       "      <td>Miami</td>\n",
       "      <td>Negative</td>\n",
       "      <td>178</td>\n",
       "    </tr>\n",
       "    <tr>\n",
       "      <th>21</th>\n",
       "      <td>Miami</td>\n",
       "      <td>Positive</td>\n",
       "      <td>140</td>\n",
       "    </tr>\n",
       "    <tr>\n",
       "      <th>22</th>\n",
       "      <td>Milwaukee</td>\n",
       "      <td>Negative</td>\n",
       "      <td>970</td>\n",
       "    </tr>\n",
       "    <tr>\n",
       "      <th>23</th>\n",
       "      <td>Milwaukee</td>\n",
       "      <td>Positive</td>\n",
       "      <td>951</td>\n",
       "    </tr>\n",
       "    <tr>\n",
       "      <th>24</th>\n",
       "      <td>Moab</td>\n",
       "      <td>Negative</td>\n",
       "      <td>247</td>\n",
       "    </tr>\n",
       "    <tr>\n",
       "      <th>25</th>\n",
       "      <td>Moab</td>\n",
       "      <td>Positive</td>\n",
       "      <td>703</td>\n",
       "    </tr>\n",
       "    <tr>\n",
       "      <th>26</th>\n",
       "      <td>NewYork</td>\n",
       "      <td>Negative</td>\n",
       "      <td>1920</td>\n",
       "    </tr>\n",
       "    <tr>\n",
       "      <th>27</th>\n",
       "      <td>NewYork</td>\n",
       "      <td>Positive</td>\n",
       "      <td>2550</td>\n",
       "    </tr>\n",
       "    <tr>\n",
       "      <th>28</th>\n",
       "      <td>Philadelphia</td>\n",
       "      <td>Negative</td>\n",
       "      <td>4137</td>\n",
       "    </tr>\n",
       "    <tr>\n",
       "      <th>29</th>\n",
       "      <td>Philadelphia</td>\n",
       "      <td>Positive</td>\n",
       "      <td>4994</td>\n",
       "    </tr>\n",
       "    <tr>\n",
       "      <th>30</th>\n",
       "      <td>Portland</td>\n",
       "      <td>Negative</td>\n",
       "      <td>2577</td>\n",
       "    </tr>\n",
       "    <tr>\n",
       "      <th>31</th>\n",
       "      <td>Portland</td>\n",
       "      <td>Positive</td>\n",
       "      <td>3245</td>\n",
       "    </tr>\n",
       "    <tr>\n",
       "      <th>32</th>\n",
       "      <td>SaltLakeCity</td>\n",
       "      <td>Negative</td>\n",
       "      <td>155</td>\n",
       "    </tr>\n",
       "    <tr>\n",
       "      <th>33</th>\n",
       "      <td>SaltLakeCity</td>\n",
       "      <td>Positive</td>\n",
       "      <td>605</td>\n",
       "    </tr>\n",
       "    <tr>\n",
       "      <th>34</th>\n",
       "      <td>Seattle</td>\n",
       "      <td>Negative</td>\n",
       "      <td>194</td>\n",
       "    </tr>\n",
       "    <tr>\n",
       "      <th>35</th>\n",
       "      <td>Seattle</td>\n",
       "      <td>Positive</td>\n",
       "      <td>293</td>\n",
       "    </tr>\n",
       "  </tbody>\n",
       "</table>\n",
       "</div>"
      ],
      "text/plain": [
       "       area_name prediction  count\n",
       "0        Atlanta   Negative    672\n",
       "1        Atlanta   Positive    619\n",
       "2     Birmingham   Negative    644\n",
       "3     Birmingham   Positive    535\n",
       "4     Burlington   Negative   3070\n",
       "5     Burlington   Positive   4063\n",
       "6        Chicago   Negative   1419\n",
       "7        Chicago   Positive   1573\n",
       "8         Denver   Negative   1699\n",
       "9         Denver   Positive   1503\n",
       "10    ErieCounty   Negative   1738\n",
       "11    ErieCounty   Positive   1822\n",
       "12       Jackson   Negative    781\n",
       "13       Jackson   Positive    689\n",
       "14      LasVegas   Negative     74\n",
       "15      LasVegas   Positive     83\n",
       "16     Lordsburg   Negative     13\n",
       "17     Lordsburg   Positive     18\n",
       "18    LosAngeles   Negative    834\n",
       "19    LosAngeles   Positive   1251\n",
       "20         Miami   Negative    178\n",
       "21         Miami   Positive    140\n",
       "22     Milwaukee   Negative    970\n",
       "23     Milwaukee   Positive    951\n",
       "24          Moab   Negative    247\n",
       "25          Moab   Positive    703\n",
       "26       NewYork   Negative   1920\n",
       "27       NewYork   Positive   2550\n",
       "28  Philadelphia   Negative   4137\n",
       "29  Philadelphia   Positive   4994\n",
       "30      Portland   Negative   2577\n",
       "31      Portland   Positive   3245\n",
       "32  SaltLakeCity   Negative    155\n",
       "33  SaltLakeCity   Positive    605\n",
       "34       Seattle   Negative    194\n",
       "35       Seattle   Positive    293"
      ]
     },
     "execution_count": 91,
     "metadata": {},
     "output_type": "execute_result"
    }
   ],
   "source": [
    "test_result_ds=test_result_ds.groupby(['area_name','prediction']).count().reset_index()\n",
    "test_result_ds"
   ]
  },
  {
   "cell_type": "code",
   "execution_count": 92,
   "metadata": {},
   "outputs": [
    {
     "data": {
      "text/html": [
       "<div>\n",
       "<style scoped>\n",
       "    .dataframe tbody tr th:only-of-type {\n",
       "        vertical-align: middle;\n",
       "    }\n",
       "\n",
       "    .dataframe tbody tr th {\n",
       "        vertical-align: top;\n",
       "    }\n",
       "\n",
       "    .dataframe thead th {\n",
       "        text-align: right;\n",
       "    }\n",
       "</style>\n",
       "<table border=\"1\" class=\"dataframe\">\n",
       "  <thead>\n",
       "    <tr style=\"text-align: right;\">\n",
       "      <th></th>\n",
       "      <th>area_name</th>\n",
       "      <th>sum</th>\n",
       "    </tr>\n",
       "  </thead>\n",
       "  <tbody>\n",
       "    <tr>\n",
       "      <th>0</th>\n",
       "      <td>Atlanta</td>\n",
       "      <td>1291</td>\n",
       "    </tr>\n",
       "    <tr>\n",
       "      <th>1</th>\n",
       "      <td>Birmingham</td>\n",
       "      <td>1179</td>\n",
       "    </tr>\n",
       "    <tr>\n",
       "      <th>2</th>\n",
       "      <td>Burlington</td>\n",
       "      <td>7133</td>\n",
       "    </tr>\n",
       "    <tr>\n",
       "      <th>3</th>\n",
       "      <td>Chicago</td>\n",
       "      <td>2992</td>\n",
       "    </tr>\n",
       "    <tr>\n",
       "      <th>4</th>\n",
       "      <td>Denver</td>\n",
       "      <td>3202</td>\n",
       "    </tr>\n",
       "    <tr>\n",
       "      <th>5</th>\n",
       "      <td>ErieCounty</td>\n",
       "      <td>3560</td>\n",
       "    </tr>\n",
       "    <tr>\n",
       "      <th>6</th>\n",
       "      <td>Jackson</td>\n",
       "      <td>1470</td>\n",
       "    </tr>\n",
       "    <tr>\n",
       "      <th>7</th>\n",
       "      <td>LasVegas</td>\n",
       "      <td>157</td>\n",
       "    </tr>\n",
       "    <tr>\n",
       "      <th>8</th>\n",
       "      <td>Lordsburg</td>\n",
       "      <td>31</td>\n",
       "    </tr>\n",
       "    <tr>\n",
       "      <th>9</th>\n",
       "      <td>LosAngeles</td>\n",
       "      <td>2085</td>\n",
       "    </tr>\n",
       "    <tr>\n",
       "      <th>10</th>\n",
       "      <td>Miami</td>\n",
       "      <td>318</td>\n",
       "    </tr>\n",
       "    <tr>\n",
       "      <th>11</th>\n",
       "      <td>Milwaukee</td>\n",
       "      <td>1921</td>\n",
       "    </tr>\n",
       "    <tr>\n",
       "      <th>12</th>\n",
       "      <td>Moab</td>\n",
       "      <td>950</td>\n",
       "    </tr>\n",
       "    <tr>\n",
       "      <th>13</th>\n",
       "      <td>NewYork</td>\n",
       "      <td>4470</td>\n",
       "    </tr>\n",
       "    <tr>\n",
       "      <th>14</th>\n",
       "      <td>Philadelphia</td>\n",
       "      <td>9131</td>\n",
       "    </tr>\n",
       "    <tr>\n",
       "      <th>15</th>\n",
       "      <td>Portland</td>\n",
       "      <td>5822</td>\n",
       "    </tr>\n",
       "    <tr>\n",
       "      <th>16</th>\n",
       "      <td>SaltLakeCity</td>\n",
       "      <td>760</td>\n",
       "    </tr>\n",
       "    <tr>\n",
       "      <th>17</th>\n",
       "      <td>Seattle</td>\n",
       "      <td>487</td>\n",
       "    </tr>\n",
       "  </tbody>\n",
       "</table>\n",
       "</div>"
      ],
      "text/plain": [
       "       area_name   sum\n",
       "0        Atlanta  1291\n",
       "1     Birmingham  1179\n",
       "2     Burlington  7133\n",
       "3        Chicago  2992\n",
       "4         Denver  3202\n",
       "5     ErieCounty  3560\n",
       "6        Jackson  1470\n",
       "7       LasVegas   157\n",
       "8      Lordsburg    31\n",
       "9     LosAngeles  2085\n",
       "10         Miami   318\n",
       "11     Milwaukee  1921\n",
       "12          Moab   950\n",
       "13       NewYork  4470\n",
       "14  Philadelphia  9131\n",
       "15      Portland  5822\n",
       "16  SaltLakeCity   760\n",
       "17       Seattle   487"
      ]
     },
     "execution_count": 92,
     "metadata": {},
     "output_type": "execute_result"
    }
   ],
   "source": [
    "test_result_ds_sum=test_result_ds.groupby('area_name').sum().reset_index()\n",
    "test_result_ds_sum.columns=['area_name','sum']\n",
    "test_result_ds_sum"
   ]
  },
  {
   "cell_type": "code",
   "execution_count": 93,
   "metadata": {},
   "outputs": [],
   "source": [
    "test_result_ds=pd.merge(test_result_ds,test_result_ds_sum,how='left',on=[\"area_name\"],right_index=False)"
   ]
  },
  {
   "cell_type": "code",
   "execution_count": 94,
   "metadata": {},
   "outputs": [
    {
     "data": {
      "text/html": [
       "<div>\n",
       "<style scoped>\n",
       "    .dataframe tbody tr th:only-of-type {\n",
       "        vertical-align: middle;\n",
       "    }\n",
       "\n",
       "    .dataframe tbody tr th {\n",
       "        vertical-align: top;\n",
       "    }\n",
       "\n",
       "    .dataframe thead th {\n",
       "        text-align: right;\n",
       "    }\n",
       "</style>\n",
       "<table border=\"1\" class=\"dataframe\">\n",
       "  <thead>\n",
       "    <tr style=\"text-align: right;\">\n",
       "      <th></th>\n",
       "      <th>area_name</th>\n",
       "      <th>prediction</th>\n",
       "      <th>count</th>\n",
       "      <th>sum</th>\n",
       "    </tr>\n",
       "  </thead>\n",
       "  <tbody>\n",
       "    <tr>\n",
       "      <th>0</th>\n",
       "      <td>Atlanta</td>\n",
       "      <td>Negative</td>\n",
       "      <td>672</td>\n",
       "      <td>1291</td>\n",
       "    </tr>\n",
       "    <tr>\n",
       "      <th>1</th>\n",
       "      <td>Atlanta</td>\n",
       "      <td>Positive</td>\n",
       "      <td>619</td>\n",
       "      <td>1291</td>\n",
       "    </tr>\n",
       "    <tr>\n",
       "      <th>2</th>\n",
       "      <td>Birmingham</td>\n",
       "      <td>Negative</td>\n",
       "      <td>644</td>\n",
       "      <td>1179</td>\n",
       "    </tr>\n",
       "    <tr>\n",
       "      <th>3</th>\n",
       "      <td>Birmingham</td>\n",
       "      <td>Positive</td>\n",
       "      <td>535</td>\n",
       "      <td>1179</td>\n",
       "    </tr>\n",
       "    <tr>\n",
       "      <th>4</th>\n",
       "      <td>Burlington</td>\n",
       "      <td>Negative</td>\n",
       "      <td>3070</td>\n",
       "      <td>7133</td>\n",
       "    </tr>\n",
       "    <tr>\n",
       "      <th>5</th>\n",
       "      <td>Burlington</td>\n",
       "      <td>Positive</td>\n",
       "      <td>4063</td>\n",
       "      <td>7133</td>\n",
       "    </tr>\n",
       "    <tr>\n",
       "      <th>6</th>\n",
       "      <td>Chicago</td>\n",
       "      <td>Negative</td>\n",
       "      <td>1419</td>\n",
       "      <td>2992</td>\n",
       "    </tr>\n",
       "    <tr>\n",
       "      <th>7</th>\n",
       "      <td>Chicago</td>\n",
       "      <td>Positive</td>\n",
       "      <td>1573</td>\n",
       "      <td>2992</td>\n",
       "    </tr>\n",
       "    <tr>\n",
       "      <th>8</th>\n",
       "      <td>Denver</td>\n",
       "      <td>Negative</td>\n",
       "      <td>1699</td>\n",
       "      <td>3202</td>\n",
       "    </tr>\n",
       "    <tr>\n",
       "      <th>9</th>\n",
       "      <td>Denver</td>\n",
       "      <td>Positive</td>\n",
       "      <td>1503</td>\n",
       "      <td>3202</td>\n",
       "    </tr>\n",
       "    <tr>\n",
       "      <th>10</th>\n",
       "      <td>ErieCounty</td>\n",
       "      <td>Negative</td>\n",
       "      <td>1738</td>\n",
       "      <td>3560</td>\n",
       "    </tr>\n",
       "    <tr>\n",
       "      <th>11</th>\n",
       "      <td>ErieCounty</td>\n",
       "      <td>Positive</td>\n",
       "      <td>1822</td>\n",
       "      <td>3560</td>\n",
       "    </tr>\n",
       "    <tr>\n",
       "      <th>12</th>\n",
       "      <td>Jackson</td>\n",
       "      <td>Negative</td>\n",
       "      <td>781</td>\n",
       "      <td>1470</td>\n",
       "    </tr>\n",
       "    <tr>\n",
       "      <th>13</th>\n",
       "      <td>Jackson</td>\n",
       "      <td>Positive</td>\n",
       "      <td>689</td>\n",
       "      <td>1470</td>\n",
       "    </tr>\n",
       "    <tr>\n",
       "      <th>14</th>\n",
       "      <td>LasVegas</td>\n",
       "      <td>Negative</td>\n",
       "      <td>74</td>\n",
       "      <td>157</td>\n",
       "    </tr>\n",
       "    <tr>\n",
       "      <th>15</th>\n",
       "      <td>LasVegas</td>\n",
       "      <td>Positive</td>\n",
       "      <td>83</td>\n",
       "      <td>157</td>\n",
       "    </tr>\n",
       "    <tr>\n",
       "      <th>16</th>\n",
       "      <td>Lordsburg</td>\n",
       "      <td>Negative</td>\n",
       "      <td>13</td>\n",
       "      <td>31</td>\n",
       "    </tr>\n",
       "    <tr>\n",
       "      <th>17</th>\n",
       "      <td>Lordsburg</td>\n",
       "      <td>Positive</td>\n",
       "      <td>18</td>\n",
       "      <td>31</td>\n",
       "    </tr>\n",
       "    <tr>\n",
       "      <th>18</th>\n",
       "      <td>LosAngeles</td>\n",
       "      <td>Negative</td>\n",
       "      <td>834</td>\n",
       "      <td>2085</td>\n",
       "    </tr>\n",
       "    <tr>\n",
       "      <th>19</th>\n",
       "      <td>LosAngeles</td>\n",
       "      <td>Positive</td>\n",
       "      <td>1251</td>\n",
       "      <td>2085</td>\n",
       "    </tr>\n",
       "    <tr>\n",
       "      <th>20</th>\n",
       "      <td>Miami</td>\n",
       "      <td>Negative</td>\n",
       "      <td>178</td>\n",
       "      <td>318</td>\n",
       "    </tr>\n",
       "    <tr>\n",
       "      <th>21</th>\n",
       "      <td>Miami</td>\n",
       "      <td>Positive</td>\n",
       "      <td>140</td>\n",
       "      <td>318</td>\n",
       "    </tr>\n",
       "    <tr>\n",
       "      <th>22</th>\n",
       "      <td>Milwaukee</td>\n",
       "      <td>Negative</td>\n",
       "      <td>970</td>\n",
       "      <td>1921</td>\n",
       "    </tr>\n",
       "    <tr>\n",
       "      <th>23</th>\n",
       "      <td>Milwaukee</td>\n",
       "      <td>Positive</td>\n",
       "      <td>951</td>\n",
       "      <td>1921</td>\n",
       "    </tr>\n",
       "    <tr>\n",
       "      <th>24</th>\n",
       "      <td>Moab</td>\n",
       "      <td>Negative</td>\n",
       "      <td>247</td>\n",
       "      <td>950</td>\n",
       "    </tr>\n",
       "    <tr>\n",
       "      <th>25</th>\n",
       "      <td>Moab</td>\n",
       "      <td>Positive</td>\n",
       "      <td>703</td>\n",
       "      <td>950</td>\n",
       "    </tr>\n",
       "    <tr>\n",
       "      <th>26</th>\n",
       "      <td>NewYork</td>\n",
       "      <td>Negative</td>\n",
       "      <td>1920</td>\n",
       "      <td>4470</td>\n",
       "    </tr>\n",
       "    <tr>\n",
       "      <th>27</th>\n",
       "      <td>NewYork</td>\n",
       "      <td>Positive</td>\n",
       "      <td>2550</td>\n",
       "      <td>4470</td>\n",
       "    </tr>\n",
       "    <tr>\n",
       "      <th>28</th>\n",
       "      <td>Philadelphia</td>\n",
       "      <td>Negative</td>\n",
       "      <td>4137</td>\n",
       "      <td>9131</td>\n",
       "    </tr>\n",
       "    <tr>\n",
       "      <th>29</th>\n",
       "      <td>Philadelphia</td>\n",
       "      <td>Positive</td>\n",
       "      <td>4994</td>\n",
       "      <td>9131</td>\n",
       "    </tr>\n",
       "    <tr>\n",
       "      <th>30</th>\n",
       "      <td>Portland</td>\n",
       "      <td>Negative</td>\n",
       "      <td>2577</td>\n",
       "      <td>5822</td>\n",
       "    </tr>\n",
       "    <tr>\n",
       "      <th>31</th>\n",
       "      <td>Portland</td>\n",
       "      <td>Positive</td>\n",
       "      <td>3245</td>\n",
       "      <td>5822</td>\n",
       "    </tr>\n",
       "    <tr>\n",
       "      <th>32</th>\n",
       "      <td>SaltLakeCity</td>\n",
       "      <td>Negative</td>\n",
       "      <td>155</td>\n",
       "      <td>760</td>\n",
       "    </tr>\n",
       "    <tr>\n",
       "      <th>33</th>\n",
       "      <td>SaltLakeCity</td>\n",
       "      <td>Positive</td>\n",
       "      <td>605</td>\n",
       "      <td>760</td>\n",
       "    </tr>\n",
       "    <tr>\n",
       "      <th>34</th>\n",
       "      <td>Seattle</td>\n",
       "      <td>Negative</td>\n",
       "      <td>194</td>\n",
       "      <td>487</td>\n",
       "    </tr>\n",
       "    <tr>\n",
       "      <th>35</th>\n",
       "      <td>Seattle</td>\n",
       "      <td>Positive</td>\n",
       "      <td>293</td>\n",
       "      <td>487</td>\n",
       "    </tr>\n",
       "  </tbody>\n",
       "</table>\n",
       "</div>"
      ],
      "text/plain": [
       "       area_name prediction  count   sum\n",
       "0        Atlanta   Negative    672  1291\n",
       "1        Atlanta   Positive    619  1291\n",
       "2     Birmingham   Negative    644  1179\n",
       "3     Birmingham   Positive    535  1179\n",
       "4     Burlington   Negative   3070  7133\n",
       "5     Burlington   Positive   4063  7133\n",
       "6        Chicago   Negative   1419  2992\n",
       "7        Chicago   Positive   1573  2992\n",
       "8         Denver   Negative   1699  3202\n",
       "9         Denver   Positive   1503  3202\n",
       "10    ErieCounty   Negative   1738  3560\n",
       "11    ErieCounty   Positive   1822  3560\n",
       "12       Jackson   Negative    781  1470\n",
       "13       Jackson   Positive    689  1470\n",
       "14      LasVegas   Negative     74   157\n",
       "15      LasVegas   Positive     83   157\n",
       "16     Lordsburg   Negative     13    31\n",
       "17     Lordsburg   Positive     18    31\n",
       "18    LosAngeles   Negative    834  2085\n",
       "19    LosAngeles   Positive   1251  2085\n",
       "20         Miami   Negative    178   318\n",
       "21         Miami   Positive    140   318\n",
       "22     Milwaukee   Negative    970  1921\n",
       "23     Milwaukee   Positive    951  1921\n",
       "24          Moab   Negative    247   950\n",
       "25          Moab   Positive    703   950\n",
       "26       NewYork   Negative   1920  4470\n",
       "27       NewYork   Positive   2550  4470\n",
       "28  Philadelphia   Negative   4137  9131\n",
       "29  Philadelphia   Positive   4994  9131\n",
       "30      Portland   Negative   2577  5822\n",
       "31      Portland   Positive   3245  5822\n",
       "32  SaltLakeCity   Negative    155   760\n",
       "33  SaltLakeCity   Positive    605   760\n",
       "34       Seattle   Negative    194   487\n",
       "35       Seattle   Positive    293   487"
      ]
     },
     "execution_count": 94,
     "metadata": {},
     "output_type": "execute_result"
    }
   ],
   "source": [
    "test_result_ds"
   ]
  },
  {
   "cell_type": "code",
   "execution_count": 95,
   "metadata": {},
   "outputs": [],
   "source": [
    "test_result_ds['rate']=test_result_ds['count']/test_result_ds['sum']"
   ]
  },
  {
   "cell_type": "code",
   "execution_count": 96,
   "metadata": {},
   "outputs": [],
   "source": [
    "positive_rate=test_result_ds[test_result_ds['prediction']=='Positive'].sort_values(by='rate', ascending=False)"
   ]
  },
  {
   "cell_type": "code",
   "execution_count": 97,
   "metadata": {},
   "outputs": [
    {
     "data": {
      "text/html": [
       "<div>\n",
       "<style scoped>\n",
       "    .dataframe tbody tr th:only-of-type {\n",
       "        vertical-align: middle;\n",
       "    }\n",
       "\n",
       "    .dataframe tbody tr th {\n",
       "        vertical-align: top;\n",
       "    }\n",
       "\n",
       "    .dataframe thead th {\n",
       "        text-align: right;\n",
       "    }\n",
       "</style>\n",
       "<table border=\"1\" class=\"dataframe\">\n",
       "  <thead>\n",
       "    <tr style=\"text-align: right;\">\n",
       "      <th></th>\n",
       "      <th>area_name</th>\n",
       "      <th>prediction</th>\n",
       "      <th>count</th>\n",
       "      <th>sum</th>\n",
       "      <th>rate</th>\n",
       "    </tr>\n",
       "  </thead>\n",
       "  <tbody>\n",
       "    <tr>\n",
       "      <th>33</th>\n",
       "      <td>SaltLakeCity</td>\n",
       "      <td>Positive</td>\n",
       "      <td>605</td>\n",
       "      <td>760</td>\n",
       "      <td>0.796053</td>\n",
       "    </tr>\n",
       "    <tr>\n",
       "      <th>25</th>\n",
       "      <td>Moab</td>\n",
       "      <td>Positive</td>\n",
       "      <td>703</td>\n",
       "      <td>950</td>\n",
       "      <td>0.740000</td>\n",
       "    </tr>\n",
       "    <tr>\n",
       "      <th>35</th>\n",
       "      <td>Seattle</td>\n",
       "      <td>Positive</td>\n",
       "      <td>293</td>\n",
       "      <td>487</td>\n",
       "      <td>0.601643</td>\n",
       "    </tr>\n",
       "    <tr>\n",
       "      <th>19</th>\n",
       "      <td>LosAngeles</td>\n",
       "      <td>Positive</td>\n",
       "      <td>1251</td>\n",
       "      <td>2085</td>\n",
       "      <td>0.600000</td>\n",
       "    </tr>\n",
       "    <tr>\n",
       "      <th>17</th>\n",
       "      <td>Lordsburg</td>\n",
       "      <td>Positive</td>\n",
       "      <td>18</td>\n",
       "      <td>31</td>\n",
       "      <td>0.580645</td>\n",
       "    </tr>\n",
       "    <tr>\n",
       "      <th>27</th>\n",
       "      <td>NewYork</td>\n",
       "      <td>Positive</td>\n",
       "      <td>2550</td>\n",
       "      <td>4470</td>\n",
       "      <td>0.570470</td>\n",
       "    </tr>\n",
       "    <tr>\n",
       "      <th>5</th>\n",
       "      <td>Burlington</td>\n",
       "      <td>Positive</td>\n",
       "      <td>4063</td>\n",
       "      <td>7133</td>\n",
       "      <td>0.569606</td>\n",
       "    </tr>\n",
       "    <tr>\n",
       "      <th>31</th>\n",
       "      <td>Portland</td>\n",
       "      <td>Positive</td>\n",
       "      <td>3245</td>\n",
       "      <td>5822</td>\n",
       "      <td>0.557369</td>\n",
       "    </tr>\n",
       "    <tr>\n",
       "      <th>29</th>\n",
       "      <td>Philadelphia</td>\n",
       "      <td>Positive</td>\n",
       "      <td>4994</td>\n",
       "      <td>9131</td>\n",
       "      <td>0.546928</td>\n",
       "    </tr>\n",
       "    <tr>\n",
       "      <th>15</th>\n",
       "      <td>LasVegas</td>\n",
       "      <td>Positive</td>\n",
       "      <td>83</td>\n",
       "      <td>157</td>\n",
       "      <td>0.528662</td>\n",
       "    </tr>\n",
       "    <tr>\n",
       "      <th>7</th>\n",
       "      <td>Chicago</td>\n",
       "      <td>Positive</td>\n",
       "      <td>1573</td>\n",
       "      <td>2992</td>\n",
       "      <td>0.525735</td>\n",
       "    </tr>\n",
       "    <tr>\n",
       "      <th>11</th>\n",
       "      <td>ErieCounty</td>\n",
       "      <td>Positive</td>\n",
       "      <td>1822</td>\n",
       "      <td>3560</td>\n",
       "      <td>0.511798</td>\n",
       "    </tr>\n",
       "    <tr>\n",
       "      <th>23</th>\n",
       "      <td>Milwaukee</td>\n",
       "      <td>Positive</td>\n",
       "      <td>951</td>\n",
       "      <td>1921</td>\n",
       "      <td>0.495055</td>\n",
       "    </tr>\n",
       "    <tr>\n",
       "      <th>1</th>\n",
       "      <td>Atlanta</td>\n",
       "      <td>Positive</td>\n",
       "      <td>619</td>\n",
       "      <td>1291</td>\n",
       "      <td>0.479473</td>\n",
       "    </tr>\n",
       "    <tr>\n",
       "      <th>9</th>\n",
       "      <td>Denver</td>\n",
       "      <td>Positive</td>\n",
       "      <td>1503</td>\n",
       "      <td>3202</td>\n",
       "      <td>0.469394</td>\n",
       "    </tr>\n",
       "    <tr>\n",
       "      <th>13</th>\n",
       "      <td>Jackson</td>\n",
       "      <td>Positive</td>\n",
       "      <td>689</td>\n",
       "      <td>1470</td>\n",
       "      <td>0.468707</td>\n",
       "    </tr>\n",
       "    <tr>\n",
       "      <th>3</th>\n",
       "      <td>Birmingham</td>\n",
       "      <td>Positive</td>\n",
       "      <td>535</td>\n",
       "      <td>1179</td>\n",
       "      <td>0.453774</td>\n",
       "    </tr>\n",
       "    <tr>\n",
       "      <th>21</th>\n",
       "      <td>Miami</td>\n",
       "      <td>Positive</td>\n",
       "      <td>140</td>\n",
       "      <td>318</td>\n",
       "      <td>0.440252</td>\n",
       "    </tr>\n",
       "  </tbody>\n",
       "</table>\n",
       "</div>"
      ],
      "text/plain": [
       "       area_name prediction  count   sum      rate\n",
       "33  SaltLakeCity   Positive    605   760  0.796053\n",
       "25          Moab   Positive    703   950  0.740000\n",
       "35       Seattle   Positive    293   487  0.601643\n",
       "19    LosAngeles   Positive   1251  2085  0.600000\n",
       "17     Lordsburg   Positive     18    31  0.580645\n",
       "27       NewYork   Positive   2550  4470  0.570470\n",
       "5     Burlington   Positive   4063  7133  0.569606\n",
       "31      Portland   Positive   3245  5822  0.557369\n",
       "29  Philadelphia   Positive   4994  9131  0.546928\n",
       "15      LasVegas   Positive     83   157  0.528662\n",
       "7        Chicago   Positive   1573  2992  0.525735\n",
       "11    ErieCounty   Positive   1822  3560  0.511798\n",
       "23     Milwaukee   Positive    951  1921  0.495055\n",
       "1        Atlanta   Positive    619  1291  0.479473\n",
       "9         Denver   Positive   1503  3202  0.469394\n",
       "13       Jackson   Positive    689  1470  0.468707\n",
       "3     Birmingham   Positive    535  1179  0.453774\n",
       "21         Miami   Positive    140   318  0.440252"
      ]
     },
     "execution_count": 97,
     "metadata": {},
     "output_type": "execute_result"
    }
   ],
   "source": [
    "positive_rate"
   ]
  },
  {
   "cell_type": "code",
   "execution_count": 98,
   "metadata": {},
   "outputs": [
    {
     "data": {
      "image/png": "[encoded data removed]",
      "text/plain": [
       "<Figure size 432x288 with 1 Axes>"
      ]
     },
     "metadata": {
      "needs_background": "light"
     },
     "output_type": "display_data"
    }
   ],
   "source": [
    "font = {'family' : 'Times New Roman',\n",
    "'weight' : 'normal',\n",
    "'size'   : 16,\n",
    "}\n",
    "plt.bar(positive_rate['area_name'],positive_rate['rate'],color='black')\n",
    "plt.xlabel('Area name',font)\n",
    "plt.ylabel('positive level',font)\n",
    "plt.title('Positive level in Different Areas',font)\n",
    "plt.xticks(rotation=90)\n",
    "plt.show()"
   ]
  },
  {
   "cell_type": "markdown",
   "metadata": {},
   "source": [
    "We can read from the sentiment analysis result that the highest positive level is Seattle, which is 73%. And we can see that the lowest is Las Vegas, which positive level is only 53.5%. For big cities like Seattle, Los Angeles, Miami, they both have over 60% positive level."
   ]
  },
  {
   "cell_type": "code",
   "execution_count": 99,
   "metadata": {},
   "outputs": [],
   "source": [
    "# 结合一下新冠疫情的感染率"
   ]
  },
  {
   "cell_type": "code",
   "execution_count": 100,
   "metadata": {},
   "outputs": [
    {
     "data": {
      "text/plain": [
       "33    SaltLakeCity\n",
       "25            Moab\n",
       "35         Seattle\n",
       "19      LosAngeles\n",
       "17       Lordsburg\n",
       "27         NewYork\n",
       "5       Burlington\n",
       "31        Portland\n",
       "29    Philadelphia\n",
       "15        LasVegas\n",
       "7          Chicago\n",
       "11      ErieCounty\n",
       "23       Milwaukee\n",
       "1          Atlanta\n",
       "9           Denver\n",
       "13         Jackson\n",
       "3       Birmingham\n",
       "21           Miami\n",
       "Name: area_name, dtype: object"
      ]
     },
     "execution_count": 100,
     "metadata": {},
     "output_type": "execute_result"
    }
   ],
   "source": [
    "positive_rate['area_name']"
   ]
  },
  {
   "cell_type": "code",
   "execution_count": 101,
   "metadata": {},
   "outputs": [],
   "source": [
    "city_info=positive_rate[['area_name','rate']]"
   ]
  },
  {
   "cell_type": "code",
   "execution_count": 102,
   "metadata": {},
   "outputs": [
    {
     "name": "stderr",
     "output_type": "stream",
     "text": [
      "<ipython-input-102-ddaa611b1326>:2: SettingWithCopyWarning: \n",
      "A value is trying to be set on a copy of a slice from a DataFrame.\n",
      "Try using .loc[row_indexer,col_indexer] = value instead\n",
      "\n",
      "See the caveats in the documentation: https://pandas.pydata.org/pandas-docs/stable/user_guide/indexing.html#returning-a-view-versus-a-copy\n",
      "  city_info['positive_rate']=[0.034,0.096,0.026,0.003,0.011,0.005,0.016,0.011,0.025,0.037,0.019,0.016,0.016,0.023,0.015,0.021,0.055,0.022]\n"
     ]
    }
   ],
   "source": [
    "# covidactnow.org\n",
    "city_info['positive_rate']=[0.034,0.096,0.026,0.003,0.011,0.005,0.016,0.011,0.025,0.037,0.019,0.016,0.016,0.023,0.015,0.021,0.055,0.022]"
   ]
  },
  {
   "cell_type": "code",
   "execution_count": 103,
   "metadata": {},
   "outputs": [
    {
     "name": "stderr",
     "output_type": "stream",
     "text": [
      "<ipython-input-103-bbc3004ef8e5>:1: SettingWithCopyWarning: \n",
      "A value is trying to be set on a copy of a slice from a DataFrame.\n",
      "Try using .loc[row_indexer,col_indexer] = value instead\n",
      "\n",
      "See the caveats in the documentation: https://pandas.pydata.org/pandas-docs/stable/user_guide/indexing.html#returning-a-view-versus-a-copy\n",
      "  city_info['vaccinated']=[0.494,0.526,0.548,0.552,0.412,0.645,0.553,0.654,0.425,0.419,0.581,0.563,0.46,0.364,0.447,0.431,0.373,0.378]\n"
     ]
    }
   ],
   "source": [
    "city_info['vaccinated']=[0.494,0.526,0.548,0.552,0.412,0.645,0.553,0.654,0.425,0.419,0.581,0.563,0.46,0.364,0.447,0.431,0.373,0.378]"
   ]
  },
  {
   "cell_type": "code",
   "execution_count": 104,
   "metadata": {},
   "outputs": [
    {
     "data": {
      "text/html": [
       "<div>\n",
       "<style scoped>\n",
       "    .dataframe tbody tr th:only-of-type {\n",
       "        vertical-align: middle;\n",
       "    }\n",
       "\n",
       "    .dataframe tbody tr th {\n",
       "        vertical-align: top;\n",
       "    }\n",
       "\n",
       "    .dataframe thead th {\n",
       "        text-align: right;\n",
       "    }\n",
       "</style>\n",
       "<table border=\"1\" class=\"dataframe\">\n",
       "  <thead>\n",
       "    <tr style=\"text-align: right;\">\n",
       "      <th></th>\n",
       "      <th>area_name</th>\n",
       "      <th>rate</th>\n",
       "      <th>positive_rate</th>\n",
       "      <th>vaccinated</th>\n",
       "    </tr>\n",
       "  </thead>\n",
       "  <tbody>\n",
       "    <tr>\n",
       "      <th>33</th>\n",
       "      <td>SaltLakeCity</td>\n",
       "      <td>0.796053</td>\n",
       "      <td>0.034</td>\n",
       "      <td>0.494</td>\n",
       "    </tr>\n",
       "    <tr>\n",
       "      <th>25</th>\n",
       "      <td>Moab</td>\n",
       "      <td>0.740000</td>\n",
       "      <td>0.096</td>\n",
       "      <td>0.526</td>\n",
       "    </tr>\n",
       "    <tr>\n",
       "      <th>35</th>\n",
       "      <td>Seattle</td>\n",
       "      <td>0.601643</td>\n",
       "      <td>0.026</td>\n",
       "      <td>0.548</td>\n",
       "    </tr>\n",
       "    <tr>\n",
       "      <th>19</th>\n",
       "      <td>LosAngeles</td>\n",
       "      <td>0.600000</td>\n",
       "      <td>0.003</td>\n",
       "      <td>0.552</td>\n",
       "    </tr>\n",
       "    <tr>\n",
       "      <th>17</th>\n",
       "      <td>Lordsburg</td>\n",
       "      <td>0.580645</td>\n",
       "      <td>0.011</td>\n",
       "      <td>0.412</td>\n",
       "    </tr>\n",
       "    <tr>\n",
       "      <th>27</th>\n",
       "      <td>NewYork</td>\n",
       "      <td>0.570470</td>\n",
       "      <td>0.005</td>\n",
       "      <td>0.645</td>\n",
       "    </tr>\n",
       "    <tr>\n",
       "      <th>5</th>\n",
       "      <td>Burlington</td>\n",
       "      <td>0.569606</td>\n",
       "      <td>0.016</td>\n",
       "      <td>0.553</td>\n",
       "    </tr>\n",
       "    <tr>\n",
       "      <th>31</th>\n",
       "      <td>Portland</td>\n",
       "      <td>0.557369</td>\n",
       "      <td>0.011</td>\n",
       "      <td>0.654</td>\n",
       "    </tr>\n",
       "    <tr>\n",
       "      <th>29</th>\n",
       "      <td>Philadelphia</td>\n",
       "      <td>0.546928</td>\n",
       "      <td>0.025</td>\n",
       "      <td>0.425</td>\n",
       "    </tr>\n",
       "    <tr>\n",
       "      <th>15</th>\n",
       "      <td>LasVegas</td>\n",
       "      <td>0.528662</td>\n",
       "      <td>0.037</td>\n",
       "      <td>0.419</td>\n",
       "    </tr>\n",
       "    <tr>\n",
       "      <th>7</th>\n",
       "      <td>Chicago</td>\n",
       "      <td>0.525735</td>\n",
       "      <td>0.019</td>\n",
       "      <td>0.581</td>\n",
       "    </tr>\n",
       "    <tr>\n",
       "      <th>11</th>\n",
       "      <td>ErieCounty</td>\n",
       "      <td>0.511798</td>\n",
       "      <td>0.016</td>\n",
       "      <td>0.563</td>\n",
       "    </tr>\n",
       "    <tr>\n",
       "      <th>23</th>\n",
       "      <td>Milwaukee</td>\n",
       "      <td>0.495055</td>\n",
       "      <td>0.016</td>\n",
       "      <td>0.460</td>\n",
       "    </tr>\n",
       "    <tr>\n",
       "      <th>1</th>\n",
       "      <td>Atlanta</td>\n",
       "      <td>0.479473</td>\n",
       "      <td>0.023</td>\n",
       "      <td>0.364</td>\n",
       "    </tr>\n",
       "    <tr>\n",
       "      <th>9</th>\n",
       "      <td>Denver</td>\n",
       "      <td>0.469394</td>\n",
       "      <td>0.015</td>\n",
       "      <td>0.447</td>\n",
       "    </tr>\n",
       "    <tr>\n",
       "      <th>13</th>\n",
       "      <td>Jackson</td>\n",
       "      <td>0.468707</td>\n",
       "      <td>0.021</td>\n",
       "      <td>0.431</td>\n",
       "    </tr>\n",
       "    <tr>\n",
       "      <th>3</th>\n",
       "      <td>Birmingham</td>\n",
       "      <td>0.453774</td>\n",
       "      <td>0.055</td>\n",
       "      <td>0.373</td>\n",
       "    </tr>\n",
       "    <tr>\n",
       "      <th>21</th>\n",
       "      <td>Miami</td>\n",
       "      <td>0.440252</td>\n",
       "      <td>0.022</td>\n",
       "      <td>0.378</td>\n",
       "    </tr>\n",
       "  </tbody>\n",
       "</table>\n",
       "</div>"
      ],
      "text/plain": [
       "       area_name      rate  positive_rate  vaccinated\n",
       "33  SaltLakeCity  0.796053          0.034       0.494\n",
       "25          Moab  0.740000          0.096       0.526\n",
       "35       Seattle  0.601643          0.026       0.548\n",
       "19    LosAngeles  0.600000          0.003       0.552\n",
       "17     Lordsburg  0.580645          0.011       0.412\n",
       "27       NewYork  0.570470          0.005       0.645\n",
       "5     Burlington  0.569606          0.016       0.553\n",
       "31      Portland  0.557369          0.011       0.654\n",
       "29  Philadelphia  0.546928          0.025       0.425\n",
       "15      LasVegas  0.528662          0.037       0.419\n",
       "7        Chicago  0.525735          0.019       0.581\n",
       "11    ErieCounty  0.511798          0.016       0.563\n",
       "23     Milwaukee  0.495055          0.016       0.460\n",
       "1        Atlanta  0.479473          0.023       0.364\n",
       "9         Denver  0.469394          0.015       0.447\n",
       "13       Jackson  0.468707          0.021       0.431\n",
       "3     Birmingham  0.453774          0.055       0.373\n",
       "21         Miami  0.440252          0.022       0.378"
      ]
     },
     "execution_count": 104,
     "metadata": {},
     "output_type": "execute_result"
    }
   ],
   "source": [
    "city_info"
   ]
  },
  {
   "cell_type": "code",
   "execution_count": 105,
   "metadata": {},
   "outputs": [
    {
     "data": {
      "text/plain": [
       "0.555575538094531"
      ]
     },
     "execution_count": 105,
     "metadata": {},
     "output_type": "execute_result"
    }
   ],
   "source": [
    "city_info.sort_values(by=['positive_rate'])[:5]['rate'].mean()"
   ]
  },
  {
   "cell_type": "code",
   "execution_count": 106,
   "metadata": {},
   "outputs": [
    {
     "data": {
      "text/plain": [
       "0.6240264295010975"
      ]
     },
     "execution_count": 106,
     "metadata": {},
     "output_type": "execute_result"
    }
   ],
   "source": [
    "city_info.sort_values(by=['positive_rate'])[-5:]['rate'].mean()"
   ]
  },
  {
   "cell_type": "code",
   "execution_count": 107,
   "metadata": {},
   "outputs": [
    {
     "data": {
      "text/plain": [
       "0.4965613631202898"
      ]
     },
     "execution_count": 107,
     "metadata": {},
     "output_type": "execute_result"
    }
   ],
   "source": [
    "city_info.sort_values(by=['vaccinated'])[:5]['rate'].mean()"
   ]
  },
  {
   "cell_type": "code",
   "execution_count": 108,
   "metadata": {},
   "outputs": [
    {
     "data": {
      "text/plain": [
       "0.546995500759432"
      ]
     },
     "execution_count": 108,
     "metadata": {},
     "output_type": "execute_result"
    }
   ],
   "source": [
    "city_info.sort_values(by=['vaccinated'])[-5:]['rate'].mean()"
   ]
  },
  {
   "cell_type": "code",
   "execution_count": 109,
   "metadata": {},
   "outputs": [],
   "source": [
    "city_info.to_csv('city_info.csv',index=False,header=True)"
   ]
  },
  {
   "cell_type": "code",
   "execution_count": 110,
   "metadata": {},
   "outputs": [
    {
     "name": "stderr",
     "output_type": "stream",
     "text": [
      "/Library/Frameworks/Python.framework/Versions/3.8/lib/python3.8/site-packages/seaborn/_decorators.py:36: FutureWarning: Pass the following variables as keyword args: x, y. From version 0.12, the only valid positional argument will be `data`, and passing other arguments without an explicit keyword will result in an error or misinterpretation.\n",
      "  warnings.warn(\n"
     ]
    },
    {
     "data": {
      "text/plain": [
       "Text(6.799999999999997, 0.5, 'rate')"
      ]
     },
     "execution_count": 110,
     "metadata": {},
     "output_type": "execute_result"
    },
    {
     "data": {
      "image/png": "[encoded data removed]",
      "text/plain": [
       "<Figure size 360x360 with 1 Axes>"
      ]
     },
     "metadata": {
      "needs_background": "light"
     },
     "output_type": "display_data"
    }
   ],
   "source": [
    "import seaborn as sn\n",
    "from scipy import stats\n",
    "senti_positive_rate = city_info[['rate','positive_rate','vaccinated']]\n",
    "sn.lmplot('positive_rate','rate', data=senti_positive_rate)\n",
    "plt.xlabel(\"positive_rate\")\n",
    "plt.ylabel(\"rate\")"
   ]
  },
  {
   "cell_type": "code",
   "execution_count": 111,
   "metadata": {},
   "outputs": [
    {
     "name": "stdout",
     "output_type": "stream",
     "text": [
      "(0.38017109004565874, 0.11965082269225445)\n"
     ]
    }
   ],
   "source": [
    "print(stats.pearsonr(senti_positive_rate['positive_rate'],senti_positive_rate['rate']))"
   ]
  },
  {
   "cell_type": "code",
   "execution_count": 112,
   "metadata": {},
   "outputs": [],
   "source": [
    "# There is a small (0.38), and not significant (p > 0.05) positive correlation."
   ]
  },
  {
   "cell_type": "code",
   "execution_count": 113,
   "metadata": {},
   "outputs": [
    {
     "name": "stderr",
     "output_type": "stream",
     "text": [
      "/Library/Frameworks/Python.framework/Versions/3.8/lib/python3.8/site-packages/seaborn/_decorators.py:36: FutureWarning: Pass the following variables as keyword args: x, y. From version 0.12, the only valid positional argument will be `data`, and passing other arguments without an explicit keyword will result in an error or misinterpretation.\n",
      "  warnings.warn(\n"
     ]
    },
    {
     "data": {
      "text/plain": [
       "Text(0.42499999999999716, 0.5, 'rate')"
      ]
     },
     "execution_count": 113,
     "metadata": {},
     "output_type": "execute_result"
    },
    {
     "data": {
      "image/png": "[encoded data removed]",
      "text/plain": [
       "<Figure size 360x360 with 1 Axes>"
      ]
     },
     "metadata": {
      "needs_background": "light"
     },
     "output_type": "display_data"
    }
   ],
   "source": [
    "import seaborn as sn\n",
    "from scipy import stats\n",
    "senti_positive_rate = city_info[['rate','positive_rate','vaccinated']]\n",
    "sn.lmplot('vaccinated','rate', data=senti_positive_rate)\n",
    "plt.xlabel(\"vaccinated\")\n",
    "plt.ylabel(\"rate\")"
   ]
  },
  {
   "cell_type": "code",
   "execution_count": 114,
   "metadata": {},
   "outputs": [
    {
     "name": "stdout",
     "output_type": "stream",
     "text": [
      "(0.38885861697945096, 0.11074353640670945)\n"
     ]
    }
   ],
   "source": [
    "print(stats.pearsonr(senti_positive_rate['vaccinated'],senti_positive_rate['rate']))"
   ]
  },
  {
   "cell_type": "code",
   "execution_count": 115,
   "metadata": {},
   "outputs": [],
   "source": [
    "# There is a small (0.39), and not significant (p > 0.05) positive correlation."
   ]
  },
  {
   "cell_type": "code",
   "execution_count": null,
   "metadata": {},
   "outputs": [],
   "source": []
  },
  {
   "cell_type": "code",
   "execution_count": null,
   "metadata": {},
   "outputs": [],
   "source": []
  }
 ],
 "metadata": {
  "kernelspec": {
   "display_name": "Python 3",
   "language": "python",
   "name": "python3"
  },
  "language_info": {
   "codemirror_mode": {
    "name": "ipython",
    "version": 3
   },
   "file_extension": ".py",
   "mimetype": "text/x-python",
   "name": "python",
   "nbconvert_exporter": "python",
   "pygments_lexer": "ipython3",
   "version": "3.8.5"
  }
 },
 "nbformat": 4,
 "nbformat_minor": 4
}
