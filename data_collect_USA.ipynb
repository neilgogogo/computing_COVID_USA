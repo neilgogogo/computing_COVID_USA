{
 "cells": [
  {
   "cell_type": "code",
   "execution_count": 386,
   "metadata": {},
   "outputs": [],
   "source": [
    "import re\n",
    "import os\n",
    "import tweepy \n",
    "import seaborn as sns\n",
    "import numpy as np\n",
    "import pandas as pd\n",
    "from collections import Counter\n",
    "import matplotlib.pyplot as plt"
   ]
  },
  {
   "cell_type": "code",
   "execution_count": 379,
   "metadata": {},
   "outputs": [
    {
     "name": "stderr",
     "output_type": "stream",
     "text": [
      "[nltk_data] Downloading package stopwords to\n",
      "[nltk_data]     /Users/lihangqian/nltk_data...\n",
      "[nltk_data]   Package stopwords is already up-to-date!\n"
     ]
    }
   ],
   "source": [
    "import nltk\n",
    "from nltk.corpus import stopwords\n",
    "from nltk.tokenize import word_tokenize\n",
    "from sklearn.feature_extraction.text import TfidfVectorizer\n",
    "from sklearn.model_selection import train_test_split\n",
    "from nltk.stem import PorterStemmer\n",
    "from nltk.stem import WordNetLemmatizer\n",
    "# ML Libraries\n",
    "from sklearn.metrics import accuracy_score\n",
    "from sklearn.naive_bayes import MultinomialNB\n",
    "from sklearn.linear_model import LogisticRegression\n",
    "from sklearn.svm import SVC\n",
    "\n",
    "nltk.download('stopwords')\n",
    "# Global Parameters\n",
    "stop_words = set(stopwords.words('english'))"
   ]
  },
  {
   "cell_type": "code",
   "execution_count": 50,
   "metadata": {},
   "outputs": [],
   "source": [
    "API_key = \"BMKPfpLYmWL4FlQ3xBYwHyR3C\"   \n",
    "API_key_secret = \"bw78ZRgeRGUF9PW8oq5VgdyaxCXKqpLj0TDrEf4Spb9knByPMt\"   \n",
    "access_token = \"1227382295839072256-fikcUBGnAkBzS6JL30izpm7TEibIbj\"   \n",
    "access_token_secret = \"4OldcYBWQSa3Cc6tGmjUhxGREuMM7Myv6XOM2enrg8Zsh\" \n",
    "auth = tweepy.OAuthHandler(API_key, API_key_secret)    \n",
    "auth.set_access_token(access_token, access_token_secret)   \n",
    "api = tweepy.API(auth,wait_on_rate_limit=True,wait_on_rate_limit_notify=True)"
   ]
  },
  {
   "cell_type": "markdown",
   "metadata": {},
   "source": [
    "### data collection：\n",
    "\n",
    "As for different cities and areas, we are going to choose different cities and areas: including the cities and rural areas."
   ]
  },
  {
   "cell_type": "code",
   "execution_count": 77,
   "metadata": {},
   "outputs": [],
   "source": [
    "# hashtag: \n",
    "\n",
    "# vaccine,covid19vaccine,vaccinated,getvaccinated,covidvaccine,vaccinated,astrazeneca,oxfordastrazeneca,pfizer,pfizerbiontech,pfizervaccine,moderna,modernavaccine,sputnik,sputnikvaccinated,janssen,johnsonandjohnson"
   ]
  },
  {
   "cell_type": "code",
   "execution_count": 4,
   "metadata": {},
   "outputs": [],
   "source": [
    "text_query = '#vaccine OR #vaccination OR #vaccineforall OR #vaccinated OR #covidvaccine OR #covid19vaccine OR #getvaccinated OR #astrazeneca OR #oxfordastrazeneca OR #pfizer OR #pfizerbiontech OR #pfizervaccine OR #moderna OR #modernavaccine OR #sputnik OR #sputnikvaccinated OR #janssen OR #johnsonandjohnson'\n",
    "max_tweets= 10000"
   ]
  },
  {
   "cell_type": "code",
   "execution_count": 182,
   "metadata": {},
   "outputs": [],
   "source": [
    "def get_twitter_by_location(text_query,max_tweets,coordinates):\n",
    "    \n",
    "    # within a 50-mile radius of Las Vegas, NV (Lat 36.169786, Long -115.139858) that have the keyword Coronavirus.\n",
    "    #coordinates = '36.169786,-115.139858,100mi'\n",
    "    # Creation of query method using parameters\n",
    "    tweets = tweepy.Cursor(api.search, tweet_mode='extended', q = text_query, geocode = coordinates, count = 100).items(max_tweets)\n",
    "#     tweets = tweepy.Cursor(api.search, q = text_query, geocode = coordinates, count = 100).items(max_tweets)\n",
    "    # Pulling information from tweets iterable object\n",
    "    # Add or remove tweet information you want in the below list comprehension\n",
    "    tweets_list = [[tweet.full_text, tweet.created_at, tweet.id_str, tweet.user.name, tweet.user.screen_name, tweet.user.id_str, tweet.user.location, tweet.user.url, tweet.user.description, tweet.user.verified, tweet.user.followers_count, tweet.user.friends_count, tweet.user.favourites_count, tweet.user.statuses_count, tweet.user.listed_count, tweet.user.created_at, tweet.user.profile_image_url_https, tweet.user.default_profile, tweet.user.default_profile_image, tweet.lang] for tweet in tweets]\n",
    "    \n",
    "    # Creation of dataframe from tweets_list\n",
    "    # Did not include column names to simplify code\n",
    "    tweets_df = pd.DataFrame(tweets_list)\n",
    "    return tweets_df"
   ]
  },
  {
   "cell_type": "markdown",
   "metadata": {},
   "source": [
    "#### Las Vegas, NV (Lat 36.169786, Long -115.139858)"
   ]
  },
  {
   "cell_type": "code",
   "execution_count": 183,
   "metadata": {},
   "outputs": [],
   "source": [
    "# tweets_df_LasVegas=get_twitter_by_location(text_query,max_tweets,'36.169786,-115.139858,100mi')\n",
    "# tweets_df_LasVegas.to_csv('twitter0427/tweets_df_LasVegas.csv',index=False,header=False)"
   ]
  },
  {
   "cell_type": "code",
   "execution_count": 248,
   "metadata": {},
   "outputs": [],
   "source": [
    "# tweets_df_LasVegas.head()"
   ]
  },
  {
   "cell_type": "markdown",
   "metadata": {},
   "source": [
    "#### Centerville Township (Lat 38.22183, Long -95.01414) \n",
    "which is the poorest town in the USA"
   ]
  },
  {
   "cell_type": "code",
   "execution_count": 184,
   "metadata": {},
   "outputs": [],
   "source": [
    "# tweets_df_CentervilleTownship=get_twitter_by_location(text_query,max_tweets,'38.22183,-95.01414,100mi')\n",
    "# tweets_df_CentervilleTownship.to_csv('twitter0427/tweets_df_CentervilleTownship.csv',index=False,header=False)"
   ]
  },
  {
   "cell_type": "code",
   "execution_count": 249,
   "metadata": {},
   "outputs": [],
   "source": [
    "# tweets_df_CentervilleTownship.head()"
   ]
  },
  {
   "cell_type": "markdown",
   "metadata": {},
   "source": [
    "#### Los Angeles (Lat 34.04679, Long -118.25081)"
   ]
  },
  {
   "cell_type": "code",
   "execution_count": 186,
   "metadata": {},
   "outputs": [],
   "source": [
    "# tweets_df_LosAngeles=get_twitter_by_location(text_query,max_tweets,'34.04679,-118.25081,100mi')\n",
    "# tweets_df_LosAngeles.to_csv('twitter0427/tweets_df_LosAngeles.csv',index=False,header=False)"
   ]
  },
  {
   "cell_type": "code",
   "execution_count": 250,
   "metadata": {},
   "outputs": [],
   "source": [
    "# tweets_df_LosAngeles.head()"
   ]
  },
  {
   "cell_type": "markdown",
   "metadata": {},
   "source": [
    "#### New York (Lat 40.70833, Long -74.00986)"
   ]
  },
  {
   "cell_type": "code",
   "execution_count": 188,
   "metadata": {},
   "outputs": [],
   "source": [
    "# tweets_df_NewYork=get_twitter_by_location(text_query,max_tweets,'40.70833,-74.00986,100mi')\n",
    "# tweets_df_NewYork.to_csv('twitter0427/tweets_df_NewYork.csv',index=False,header=False)"
   ]
  },
  {
   "cell_type": "code",
   "execution_count": 251,
   "metadata": {},
   "outputs": [],
   "source": [
    "# tweets_df_NewYork.head()"
   ]
  },
  {
   "cell_type": "markdown",
   "metadata": {},
   "source": [
    "#### Erie County (Lat 42.88352, Long -78.82283)"
   ]
  },
  {
   "cell_type": "code",
   "execution_count": 216,
   "metadata": {},
   "outputs": [],
   "source": [
    "# tweets_df_ErieCounty =get_twitter_by_location(text_query,max_tweets,'42.88352,-78.82283,100mi')\n",
    "# tweets_df_ErieCounty.to_csv('twitter0427/tweets_df_ErieCounty.csv',index=False,header=False)"
   ]
  },
  {
   "cell_type": "code",
   "execution_count": 252,
   "metadata": {},
   "outputs": [],
   "source": [
    "# tweets_df_ErieCounty.head()"
   ]
  },
  {
   "cell_type": "markdown",
   "metadata": {},
   "source": [
    "#### Moab (Lat 38.57912, Long -109.55270)"
   ]
  },
  {
   "cell_type": "code",
   "execution_count": 196,
   "metadata": {},
   "outputs": [],
   "source": [
    "# tweets_df_Moab =get_twitter_by_location(text_query,max_tweets,'38.57912,-109.55270,300mi')\n",
    "# tweets_df_Moab.to_csv('twitter0427/tweets_df_Moab.csv',index=False,header=False)"
   ]
  },
  {
   "cell_type": "code",
   "execution_count": 253,
   "metadata": {},
   "outputs": [],
   "source": [
    "# tweets_df_Moab.head()"
   ]
  },
  {
   "cell_type": "markdown",
   "metadata": {},
   "source": [
    "#### Seattle (Lat 47.61313, Long -122.32833)"
   ]
  },
  {
   "cell_type": "code",
   "execution_count": 197,
   "metadata": {},
   "outputs": [],
   "source": [
    "# tweets_df_Seattle =get_twitter_by_location(text_query,max_tweets,'47.61313,-122.32833,100mi')\n",
    "# tweets_df_Seattle.to_csv('twitter0427/tweets_df_Seattle.csv',index=False,header=False)"
   ]
  },
  {
   "cell_type": "code",
   "execution_count": 254,
   "metadata": {},
   "outputs": [],
   "source": [
    "# tweets_df_Seattle.head()"
   ]
  },
  {
   "cell_type": "markdown",
   "metadata": {},
   "source": [
    "#### Miami (Lat 25.76318, Long -80.19102)"
   ]
  },
  {
   "cell_type": "code",
   "execution_count": 198,
   "metadata": {},
   "outputs": [],
   "source": [
    "# tweets_df_Miami =get_twitter_by_location(text_query,max_tweets,'25.76318,-80.19102,100mi')\n",
    "# tweets_df_Miami.to_csv('twitter0427/tweets_df_Miami.csv',index=False,header=False)"
   ]
  },
  {
   "cell_type": "code",
   "execution_count": 255,
   "metadata": {},
   "outputs": [],
   "source": [
    "# tweets_df_Miami.head()"
   ]
  },
  {
   "cell_type": "markdown",
   "metadata": {},
   "source": [
    "#### Lordsburg (Lat 32.34859, Long -108.70160)"
   ]
  },
  {
   "cell_type": "code",
   "execution_count": 199,
   "metadata": {},
   "outputs": [],
   "source": [
    "# tweets_df_Lordsburg =get_twitter_by_location(text_query,max_tweets,'32.34859,-108.70160,100mi')\n",
    "# tweets_df_Lordsburg.to_csv('twitter0427/tweets_df_Lordsburg.csv',index=False,header=False)"
   ]
  },
  {
   "cell_type": "code",
   "execution_count": 256,
   "metadata": {},
   "outputs": [],
   "source": [
    "# tweets_df_Lordsburg.head()"
   ]
  },
  {
   "cell_type": "markdown",
   "metadata": {},
   "source": [
    "### Read collected data\n",
    "\n",
    "can read the collected data directly without re-running the Twitter API."
   ]
  },
  {
   "cell_type": "code",
   "execution_count": 221,
   "metadata": {},
   "outputs": [],
   "source": [
    "def read_folder(file_dir):\n",
    "    all_file_list=os.listdir(file_dir)\n",
    "    for single_file in all_file_list:\n",
    "#         print(single_file)\n",
    "        #read one by one\n",
    "        single_data_frame=pd.read_csv(os.path.join(file_dir,single_file),header=None, names=['tweet.full_text', 'tweet.created_at', 'tweet.id_str', 'tweet.user.name', 'tweet.user.screen_name', 'tweet.user.id_str', 'tweet.user.location', 'tweet.user.url', 'tweet.user.description', 'tweet.user.verified', 'tweet.user.followers_count', 'tweet.user.friends_count', 'tweet.user.favourites_count', 'tweet.user.statuses_count', 'tweet.user.listed_count', 'tweet.user.created_at', 'tweet.user.profile_image_url_https', 'tweet.user.default_profile', 'tweet.user.default_profile_image', 'tweet.lang'],engine='python')\n",
    "        single_data_frame['area_name']=re.findall(r\"tweets_df_(.+?).csv\",single_file)[0]\n",
    "        if single_file ==all_file_list[0]:\n",
    "            all_data_frame=single_data_frame\n",
    "        else:  #concat different dataframe    \n",
    "             all_data_frame=pd.concat([all_data_frame, single_data_frame],ignore_index=True)\n",
    "    all_data_frame=all_data_frame[1:]\n",
    "    return all_data_frame"
   ]
  },
  {
   "cell_type": "code",
   "execution_count": 274,
   "metadata": {
    "scrolled": true
   },
   "outputs": [
    {
     "data": {
      "text/html": [
       "<div>\n",
       "<style scoped>\n",
       "    .dataframe tbody tr th:only-of-type {\n",
       "        vertical-align: middle;\n",
       "    }\n",
       "\n",
       "    .dataframe tbody tr th {\n",
       "        vertical-align: top;\n",
       "    }\n",
       "\n",
       "    .dataframe thead th {\n",
       "        text-align: right;\n",
       "    }\n",
       "</style>\n",
       "<table border=\"1\" class=\"dataframe\">\n",
       "  <thead>\n",
       "    <tr style=\"text-align: right;\">\n",
       "      <th></th>\n",
       "      <th>tweet.full_text</th>\n",
       "      <th>tweet.created_at</th>\n",
       "      <th>tweet.id_str</th>\n",
       "      <th>tweet.user.name</th>\n",
       "      <th>tweet.user.screen_name</th>\n",
       "      <th>tweet.user.id_str</th>\n",
       "      <th>tweet.user.location</th>\n",
       "      <th>tweet.user.url</th>\n",
       "      <th>tweet.user.description</th>\n",
       "      <th>tweet.user.verified</th>\n",
       "      <th>...</th>\n",
       "      <th>tweet.user.friends_count</th>\n",
       "      <th>tweet.user.favourites_count</th>\n",
       "      <th>tweet.user.statuses_count</th>\n",
       "      <th>tweet.user.listed_count</th>\n",
       "      <th>tweet.user.created_at</th>\n",
       "      <th>tweet.user.profile_image_url_https</th>\n",
       "      <th>tweet.user.default_profile</th>\n",
       "      <th>tweet.user.default_profile_image</th>\n",
       "      <th>tweet.lang</th>\n",
       "      <th>area_name</th>\n",
       "    </tr>\n",
       "  </thead>\n",
       "  <tbody>\n",
       "    <tr>\n",
       "      <th>1</th>\n",
       "      <td>@labyrinthweaver Happy to get whatever vaccine...</td>\n",
       "      <td>2021-04-27 13:51:23</td>\n",
       "      <td>1387041690276360203</td>\n",
       "      <td>Hira Ambrosino</td>\n",
       "      <td>HiraAmbrosino</td>\n",
       "      <td>334675619</td>\n",
       "      <td>Los Angeles</td>\n",
       "      <td>http://t.co/KwpfYtGAN9</td>\n",
       "      <td>Grew up in Japan, LA is my home.  Actor on ABC...</td>\n",
       "      <td>True</td>\n",
       "      <td>...</td>\n",
       "      <td>189</td>\n",
       "      <td>6027.0</td>\n",
       "      <td>2191.0</td>\n",
       "      <td>40.0</td>\n",
       "      <td>2011-07-13 13:55:27</td>\n",
       "      <td>https://pbs.twimg.com/profile_images/115811806...</td>\n",
       "      <td>False</td>\n",
       "      <td>False</td>\n",
       "      <td>en</td>\n",
       "      <td>LosAngeles</td>\n",
       "    </tr>\n",
       "    <tr>\n",
       "      <th>2</th>\n",
       "      <td>RT @JessLint: 👏👏 Thank you to @Bruce_Power and...</td>\n",
       "      <td>2021-04-27 13:50:50</td>\n",
       "      <td>1387041551973425165</td>\n",
       "      <td>NPX</td>\n",
       "      <td>npxinnovation</td>\n",
       "      <td>988083645603766272</td>\n",
       "      <td>Toronto, Ontario</td>\n",
       "      <td>https://t.co/jfATmtuMrU</td>\n",
       "      <td>Innovation in Everything We Do</td>\n",
       "      <td>False</td>\n",
       "      <td>...</td>\n",
       "      <td>187</td>\n",
       "      <td>475.0</td>\n",
       "      <td>572.0</td>\n",
       "      <td>0.0</td>\n",
       "      <td>2018-04-22 15:54:33</td>\n",
       "      <td>https://pbs.twimg.com/profile_images/131459343...</td>\n",
       "      <td>True</td>\n",
       "      <td>False</td>\n",
       "      <td>en</td>\n",
       "      <td>LosAngeles</td>\n",
       "    </tr>\n",
       "    <tr>\n",
       "      <th>3</th>\n",
       "      <td>おはようございます🌞今日はファイザーの２回目のワクチン接種してきます。色んな人に２回目の副作...</td>\n",
       "      <td>2021-04-27 13:46:55</td>\n",
       "      <td>1387040564617433091</td>\n",
       "      <td>Hozumi Berger</td>\n",
       "      <td>HozumiBerger</td>\n",
       "      <td>459839310</td>\n",
       "      <td>Ventura, CA</td>\n",
       "      <td>NaN</td>\n",
       "      <td>I'm an Japanese artist in SoCal. Penguin Afici...</td>\n",
       "      <td>False</td>\n",
       "      <td>...</td>\n",
       "      <td>897</td>\n",
       "      <td>47608.0</td>\n",
       "      <td>9440.0</td>\n",
       "      <td>19.0</td>\n",
       "      <td>2012-01-10 03:25:06</td>\n",
       "      <td>https://pbs.twimg.com/profile_images/318685054...</td>\n",
       "      <td>False</td>\n",
       "      <td>False</td>\n",
       "      <td>ja</td>\n",
       "      <td>LosAngeles</td>\n",
       "    </tr>\n",
       "    <tr>\n",
       "      <th>4</th>\n",
       "      <td>42% of Americans have at least one dose of #CO...</td>\n",
       "      <td>2021-04-27 13:40:55</td>\n",
       "      <td>1387039054546366468</td>\n",
       "      <td>DrRPalmquist</td>\n",
       "      <td>DrPalmquist</td>\n",
       "      <td>1141340430514003968</td>\n",
       "      <td>Los Angeles, CA</td>\n",
       "      <td>https://t.co/oqar5Baxjy</td>\n",
       "      <td>Veterinarian changing life one poem, one herb ...</td>\n",
       "      <td>False</td>\n",
       "      <td>...</td>\n",
       "      <td>1324</td>\n",
       "      <td>23689.0</td>\n",
       "      <td>17165.0</td>\n",
       "      <td>8.0</td>\n",
       "      <td>2019-06-19 13:42:18</td>\n",
       "      <td>https://pbs.twimg.com/profile_images/114134099...</td>\n",
       "      <td>True</td>\n",
       "      <td>False</td>\n",
       "      <td>en</td>\n",
       "      <td>LosAngeles</td>\n",
       "    </tr>\n",
       "    <tr>\n",
       "      <th>5</th>\n",
       "      <td>#NEJM #COVID19Vaccine related immune thrombocy...</td>\n",
       "      <td>2021-04-27 13:36:00</td>\n",
       "      <td>1387037816748576777</td>\n",
       "      <td>DrRPalmquist</td>\n",
       "      <td>DrPalmquist</td>\n",
       "      <td>1141340430514003968</td>\n",
       "      <td>Los Angeles, CA</td>\n",
       "      <td>https://t.co/oqar5Baxjy</td>\n",
       "      <td>Veterinarian changing life one poem, one herb ...</td>\n",
       "      <td>False</td>\n",
       "      <td>...</td>\n",
       "      <td>1324</td>\n",
       "      <td>23689.0</td>\n",
       "      <td>17165.0</td>\n",
       "      <td>8.0</td>\n",
       "      <td>2019-06-19 13:42:18</td>\n",
       "      <td>https://pbs.twimg.com/profile_images/114134099...</td>\n",
       "      <td>True</td>\n",
       "      <td>False</td>\n",
       "      <td>en</td>\n",
       "      <td>LosAngeles</td>\n",
       "    </tr>\n",
       "  </tbody>\n",
       "</table>\n",
       "<p>5 rows × 21 columns</p>\n",
       "</div>"
      ],
      "text/plain": [
       "                                     tweet.full_text     tweet.created_at  \\\n",
       "1  @labyrinthweaver Happy to get whatever vaccine...  2021-04-27 13:51:23   \n",
       "2  RT @JessLint: 👏👏 Thank you to @Bruce_Power and...  2021-04-27 13:50:50   \n",
       "3  おはようございます🌞今日はファイザーの２回目のワクチン接種してきます。色んな人に２回目の副作...  2021-04-27 13:46:55   \n",
       "4  42% of Americans have at least one dose of #CO...  2021-04-27 13:40:55   \n",
       "5  #NEJM #COVID19Vaccine related immune thrombocy...  2021-04-27 13:36:00   \n",
       "\n",
       "          tweet.id_str tweet.user.name tweet.user.screen_name  \\\n",
       "1  1387041690276360203  Hira Ambrosino          HiraAmbrosino   \n",
       "2  1387041551973425165             NPX          npxinnovation   \n",
       "3  1387040564617433091   Hozumi Berger           HozumiBerger   \n",
       "4  1387039054546366468    DrRPalmquist            DrPalmquist   \n",
       "5  1387037816748576777    DrRPalmquist            DrPalmquist   \n",
       "\n",
       "     tweet.user.id_str tweet.user.location           tweet.user.url  \\\n",
       "1            334675619         Los Angeles   http://t.co/KwpfYtGAN9   \n",
       "2   988083645603766272    Toronto, Ontario  https://t.co/jfATmtuMrU   \n",
       "3            459839310         Ventura, CA                      NaN   \n",
       "4  1141340430514003968     Los Angeles, CA  https://t.co/oqar5Baxjy   \n",
       "5  1141340430514003968     Los Angeles, CA  https://t.co/oqar5Baxjy   \n",
       "\n",
       "                              tweet.user.description tweet.user.verified  ...  \\\n",
       "1  Grew up in Japan, LA is my home.  Actor on ABC...                True  ...   \n",
       "2                     Innovation in Everything We Do               False  ...   \n",
       "3  I'm an Japanese artist in SoCal. Penguin Afici...               False  ...   \n",
       "4  Veterinarian changing life one poem, one herb ...               False  ...   \n",
       "5  Veterinarian changing life one poem, one herb ...               False  ...   \n",
       "\n",
       "  tweet.user.friends_count tweet.user.favourites_count  \\\n",
       "1                      189                      6027.0   \n",
       "2                      187                       475.0   \n",
       "3                      897                     47608.0   \n",
       "4                     1324                     23689.0   \n",
       "5                     1324                     23689.0   \n",
       "\n",
       "   tweet.user.statuses_count  tweet.user.listed_count  tweet.user.created_at  \\\n",
       "1                     2191.0                     40.0    2011-07-13 13:55:27   \n",
       "2                      572.0                      0.0    2018-04-22 15:54:33   \n",
       "3                     9440.0                     19.0    2012-01-10 03:25:06   \n",
       "4                    17165.0                      8.0    2019-06-19 13:42:18   \n",
       "5                    17165.0                      8.0    2019-06-19 13:42:18   \n",
       "\n",
       "                  tweet.user.profile_image_url_https  \\\n",
       "1  https://pbs.twimg.com/profile_images/115811806...   \n",
       "2  https://pbs.twimg.com/profile_images/131459343...   \n",
       "3  https://pbs.twimg.com/profile_images/318685054...   \n",
       "4  https://pbs.twimg.com/profile_images/114134099...   \n",
       "5  https://pbs.twimg.com/profile_images/114134099...   \n",
       "\n",
       "  tweet.user.default_profile tweet.user.default_profile_image tweet.lang  \\\n",
       "1                      False                            False         en   \n",
       "2                       True                            False         en   \n",
       "3                      False                            False         ja   \n",
       "4                       True                            False         en   \n",
       "5                       True                            False         en   \n",
       "\n",
       "    area_name  \n",
       "1  LosAngeles  \n",
       "2  LosAngeles  \n",
       "3  LosAngeles  \n",
       "4  LosAngeles  \n",
       "5  LosAngeles  \n",
       "\n",
       "[5 rows x 21 columns]"
      ]
     },
     "execution_count": 274,
     "metadata": {},
     "output_type": "execute_result"
    }
   ],
   "source": [
    "tweets_data=read_folder('twitter0427')\n",
    "tweets_data.head()"
   ]
  },
  {
   "cell_type": "markdown",
   "metadata": {},
   "source": [
    "### collected data understanding"
   ]
  },
  {
   "cell_type": "code",
   "execution_count": 275,
   "metadata": {},
   "outputs": [
    {
     "name": "stdout",
     "output_type": "stream",
     "text": [
      "We collected 29937 Tweets from 2021-4-18 to 2021-4-27.\n"
     ]
    }
   ],
   "source": [
    "print('We collected {} Tweets from 2021-4-18 to 2021-4-27.'.format(len(tweets_data)))"
   ]
  },
  {
   "cell_type": "code",
   "execution_count": 345,
   "metadata": {},
   "outputs": [],
   "source": [
    "tweets_data_groupbyareas_count=tweets_data[['area_name','tweet.full_text']].groupby('area_name').count().reset_index()\n",
    "tweets_data_groupbyareas_count.columns=['area_name','count']"
   ]
  },
  {
   "cell_type": "code",
   "execution_count": 354,
   "metadata": {},
   "outputs": [
    {
     "data": {
      "text/html": [
       "<div>\n",
       "<style scoped>\n",
       "    .dataframe tbody tr th:only-of-type {\n",
       "        vertical-align: middle;\n",
       "    }\n",
       "\n",
       "    .dataframe tbody tr th {\n",
       "        vertical-align: top;\n",
       "    }\n",
       "\n",
       "    .dataframe thead th {\n",
       "        text-align: right;\n",
       "    }\n",
       "</style>\n",
       "<table border=\"1\" class=\"dataframe\">\n",
       "  <thead>\n",
       "    <tr style=\"text-align: right;\">\n",
       "      <th></th>\n",
       "      <th>area_name</th>\n",
       "      <th>count</th>\n",
       "    </tr>\n",
       "  </thead>\n",
       "  <tbody>\n",
       "    <tr>\n",
       "      <th>1</th>\n",
       "      <td>ErieCounty</td>\n",
       "      <td>10001</td>\n",
       "    </tr>\n",
       "    <tr>\n",
       "      <th>7</th>\n",
       "      <td>NewYork</td>\n",
       "      <td>10000</td>\n",
       "    </tr>\n",
       "    <tr>\n",
       "      <th>4</th>\n",
       "      <td>LosAngeles</td>\n",
       "      <td>4255</td>\n",
       "    </tr>\n",
       "    <tr>\n",
       "      <th>8</th>\n",
       "      <td>Seattle</td>\n",
       "      <td>2225</td>\n",
       "    </tr>\n",
       "    <tr>\n",
       "      <th>6</th>\n",
       "      <td>Moab</td>\n",
       "      <td>1809</td>\n",
       "    </tr>\n",
       "    <tr>\n",
       "      <th>5</th>\n",
       "      <td>Miami</td>\n",
       "      <td>725</td>\n",
       "    </tr>\n",
       "    <tr>\n",
       "      <th>0</th>\n",
       "      <td>CentervilleTownship</td>\n",
       "      <td>436</td>\n",
       "    </tr>\n",
       "    <tr>\n",
       "      <th>2</th>\n",
       "      <td>LasVegas</td>\n",
       "      <td>398</td>\n",
       "    </tr>\n",
       "    <tr>\n",
       "      <th>3</th>\n",
       "      <td>Lordsburg</td>\n",
       "      <td>88</td>\n",
       "    </tr>\n",
       "  </tbody>\n",
       "</table>\n",
       "</div>"
      ],
      "text/plain": [
       "             area_name  count\n",
       "1           ErieCounty  10001\n",
       "7              NewYork  10000\n",
       "4           LosAngeles   4255\n",
       "8              Seattle   2225\n",
       "6                 Moab   1809\n",
       "5                Miami    725\n",
       "0  CentervilleTownship    436\n",
       "2             LasVegas    398\n",
       "3            Lordsburg     88"
      ]
     },
     "execution_count": 354,
     "metadata": {},
     "output_type": "execute_result"
    }
   ],
   "source": [
    "tweets_data_groupbyareas_count=tweets_data_groupbyareas_count.sort_values(by='count', ascending=False)\n",
    "tweets_data_groupbyareas_count"
   ]
  },
  {
   "cell_type": "code",
   "execution_count": 353,
   "metadata": {},
   "outputs": [
    {
     "data": {
      "image/png": "[encoded data removed]",
      "text/plain": [
       "<Figure size 432x288 with 1 Axes>"
      ]
     },
     "metadata": {
      "needs_background": "light"
     },
     "output_type": "display_data"
    }
   ],
   "source": [
    "plt.bar(tweets_data_groupbyareas_count['area_name'],tweets_data_groupbyareas_count['count'])\n",
    "plt.xlabel('Area name')\n",
    "plt.ylabel('Collected tweet number')\n",
    "plt.title('Collected Tweet Number in Different Areas')\n",
    "plt.xticks(rotation=50)\n",
    "plt.show()"
   ]
  },
  {
   "cell_type": "markdown",
   "metadata": {},
   "source": [
    "• Percentage of tweets that are (or contain) retweets."
   ]
  },
  {
   "cell_type": "code",
   "execution_count": 158,
   "metadata": {},
   "outputs": [],
   "source": [
    "def if_retweets(string):\n",
    "#     check if the string starts with RT, if it does, then return 1, else return 0\n",
    "    if string.startswith('RT '):\n",
    "        return 1\n",
    "    else:\n",
    "        return 0"
   ]
  },
  {
   "cell_type": "code",
   "execution_count": 159,
   "metadata": {},
   "outputs": [],
   "source": [
    "tweets_data['if_retweets']=tweets_data['tweet.full_text'].apply(lambda x:if_retweets(x))"
   ]
  },
  {
   "cell_type": "code",
   "execution_count": 160,
   "metadata": {},
   "outputs": [],
   "source": [
    "tweets_data_groupbyareas_1=tweets_data[['area_name','if_retweets']].groupby(\"area_name\").sum(['if_retweets']).reset_index()\n",
    "tweets_data_groupbyareas_2=tweets_data[['area_name','if_retweets']].groupby(\"area_name\").count().reset_index()\n",
    "tweets_data_groupbyareas_2.columns=['area_name','total_number']\n",
    "tweets_data_groupbyareas=pd.merge(tweets_data_groupbyareas_1,tweets_data_groupbyareas_2,how='left',on=[\"area_name\"],right_index=False)"
   ]
  },
  {
   "cell_type": "code",
   "execution_count": 167,
   "metadata": {},
   "outputs": [
    {
     "data": {
      "text/html": [
       "<div>\n",
       "<style scoped>\n",
       "    .dataframe tbody tr th:only-of-type {\n",
       "        vertical-align: middle;\n",
       "    }\n",
       "\n",
       "    .dataframe tbody tr th {\n",
       "        vertical-align: top;\n",
       "    }\n",
       "\n",
       "    .dataframe thead th {\n",
       "        text-align: right;\n",
       "    }\n",
       "</style>\n",
       "<table border=\"1\" class=\"dataframe\">\n",
       "  <thead>\n",
       "    <tr style=\"text-align: right;\">\n",
       "      <th></th>\n",
       "      <th>area_name</th>\n",
       "      <th>if_retweets</th>\n",
       "      <th>total_number</th>\n",
       "      <th>retweet_percentage</th>\n",
       "    </tr>\n",
       "  </thead>\n",
       "  <tbody>\n",
       "    <tr>\n",
       "      <th>1</th>\n",
       "      <td>ErieCounty</td>\n",
       "      <td>6965</td>\n",
       "      <td>10000</td>\n",
       "      <td>0.696500</td>\n",
       "    </tr>\n",
       "    <tr>\n",
       "      <th>8</th>\n",
       "      <td>Seattle</td>\n",
       "      <td>1510</td>\n",
       "      <td>2210</td>\n",
       "      <td>0.683258</td>\n",
       "    </tr>\n",
       "    <tr>\n",
       "      <th>7</th>\n",
       "      <td>NewYork</td>\n",
       "      <td>6406</td>\n",
       "      <td>10000</td>\n",
       "      <td>0.640600</td>\n",
       "    </tr>\n",
       "    <tr>\n",
       "      <th>6</th>\n",
       "      <td>Moab</td>\n",
       "      <td>1064</td>\n",
       "      <td>1709</td>\n",
       "      <td>0.622586</td>\n",
       "    </tr>\n",
       "    <tr>\n",
       "      <th>0</th>\n",
       "      <td>CentervilleTownship</td>\n",
       "      <td>213</td>\n",
       "      <td>437</td>\n",
       "      <td>0.487414</td>\n",
       "    </tr>\n",
       "    <tr>\n",
       "      <th>2</th>\n",
       "      <td>LasVegas</td>\n",
       "      <td>193</td>\n",
       "      <td>396</td>\n",
       "      <td>0.487374</td>\n",
       "    </tr>\n",
       "    <tr>\n",
       "      <th>4</th>\n",
       "      <td>LosAngeles</td>\n",
       "      <td>1951</td>\n",
       "      <td>4260</td>\n",
       "      <td>0.457981</td>\n",
       "    </tr>\n",
       "    <tr>\n",
       "      <th>5</th>\n",
       "      <td>Miami</td>\n",
       "      <td>260</td>\n",
       "      <td>731</td>\n",
       "      <td>0.355677</td>\n",
       "    </tr>\n",
       "    <tr>\n",
       "      <th>3</th>\n",
       "      <td>Lordsburg</td>\n",
       "      <td>17</td>\n",
       "      <td>88</td>\n",
       "      <td>0.193182</td>\n",
       "    </tr>\n",
       "  </tbody>\n",
       "</table>\n",
       "</div>"
      ],
      "text/plain": [
       "             area_name  if_retweets  total_number  retweet_percentage\n",
       "1           ErieCounty         6965         10000            0.696500\n",
       "8              Seattle         1510          2210            0.683258\n",
       "7              NewYork         6406         10000            0.640600\n",
       "6                 Moab         1064          1709            0.622586\n",
       "0  CentervilleTownship          213           437            0.487414\n",
       "2             LasVegas          193           396            0.487374\n",
       "4           LosAngeles         1951          4260            0.457981\n",
       "5                Miami          260           731            0.355677\n",
       "3            Lordsburg           17            88            0.193182"
      ]
     },
     "execution_count": 167,
     "metadata": {},
     "output_type": "execute_result"
    }
   ],
   "source": [
    "tweets_data_groupbyareas['retweet_percentage']=tweets_data_groupbyareas['if_retweets']/tweets_data_groupbyareas['total_number']\n",
    "tweets_data_groupbyareas=tweets_data_groupbyareas.sort_values(by='retweet_percentage', ascending=False)\n",
    "tweets_data_groupbyareas"
   ]
  },
  {
   "cell_type": "code",
   "execution_count": 180,
   "metadata": {},
   "outputs": [
    {
     "data": {
      "image/png": "[encoded data removed]",
      "text/plain": [
       "<Figure size 576x576 with 1 Axes>"
      ]
     },
     "metadata": {
      "needs_background": "light"
     },
     "output_type": "display_data"
    }
   ],
   "source": [
    "plt.figure(figsize=(8,8))\n",
    "plt.plot(tweets_data_groupbyareas['area_name'],tweets_data_groupbyareas['retweet_percentage'],'r--',linewidth=3)\n",
    "plt.xlabel('Area Name')\n",
    "plt.ylabel('retweets percentage')\n",
    "plt.title('Retweets Percentage in Different Areas')\n",
    "plt.xticks(rotation=30)\n",
    "plt.show()\n"
   ]
  },
  {
   "cell_type": "markdown",
   "metadata": {},
   "source": [
    "• Percentage of collected tweets that are English."
   ]
  },
  {
   "cell_type": "code",
   "execution_count": 234,
   "metadata": {},
   "outputs": [
    {
     "name": "stdout",
     "output_type": "stream",
     "text": [
      "The total percentage of the collected English Tweets is: 93.49%\n"
     ]
    }
   ],
   "source": [
    "print('The total percentage of the collected English Tweets is: {:.2%}'.format(tweets_data['tweet.lang'].value_counts()['en']/tweets_data['tweet.lang'].value_counts().sum()))"
   ]
  },
  {
   "cell_type": "markdown",
   "metadata": {},
   "source": [
    "• Percentage of tweets that contain URLs"
   ]
  },
  {
   "cell_type": "code",
   "execution_count": 236,
   "metadata": {},
   "outputs": [],
   "source": [
    "def if_URL(string):\n",
    "    # findall() has been used \n",
    "    # with valid conditions for urls in string\n",
    "    # return 1 if there is a URL in the string, else return 0\n",
    "    regex = r\"(?i)\\b((?:https?://|www\\d{0,3}[.]|[a-z0-9.\\-]+[.][a-z]{2,4}/)(?:[^\\s()<>]+|\\(([^\\s()<>]+|(\\([^\\s()<>]+\\)))*\\))+(?:\\(([^\\s()<>]+|(\\([^\\s()<>]+\\)))*\\)|[^\\s`!()\\[\\]{};:'\\\".,<>?«»“”‘’]))\"\n",
    "    url = re.findall(regex,string)      \n",
    "    if(len(url)>0):\n",
    "        return 1\n",
    "    else:\n",
    "        return 0"
   ]
  },
  {
   "cell_type": "code",
   "execution_count": 240,
   "metadata": {},
   "outputs": [
    {
     "name": "stdout",
     "output_type": "stream",
     "text": [
      "Percentage of tweets that contain URLs is: 35.67%\n"
     ]
    }
   ],
   "source": [
    "tweets_data['tweets_text_urls']=tweets_data['tweet.full_text'].apply(lambda x:if_URL(x))\n",
    "print(\"Percentage of tweets that contain URLs is: {:.2%}\".format(tweets_data['tweets_text_urls'].sum()/len(tweets_data['tweets_text_urls']),\"%\"))"
   ]
  },
  {
   "cell_type": "markdown",
   "metadata": {},
   "source": [
    "• Table of the 30 most frequent hashtags in the following format: [rank, hashtag, frequency]. Example: [1, #coronavirus, 2500]"
   ]
  },
  {
   "cell_type": "code",
   "execution_count": 241,
   "metadata": {},
   "outputs": [],
   "source": [
    "def find_hashtag(string):\n",
    "#     input a string and output a array of hashtag\n",
    "    return re.findall(r\"#(\\w+)\", string)"
   ]
  },
  {
   "cell_type": "code",
   "execution_count": 243,
   "metadata": {},
   "outputs": [],
   "source": [
    "tweets_data['hashtag_array']=tweets_data['tweet.full_text'].apply(lambda x:find_hashtag(x))"
   ]
  },
  {
   "cell_type": "code",
   "execution_count": 245,
   "metadata": {},
   "outputs": [],
   "source": [
    "sorted_hashtags=[(l,k) for k,l in sorted([(j,i) for i,j in Counter(tweets_data['hashtag_array'].sum()).items()], reverse=True)]"
   ]
  },
  {
   "cell_type": "code",
   "execution_count": 261,
   "metadata": {},
   "outputs": [
    {
     "name": "stdout",
     "output_type": "stream",
     "text": [
      "[1, #COVID19, 4234]\n",
      "[2, #vaccine, 4104]\n",
      "[3, #GetVaccinated, 3285]\n",
      "[4, #CovidVaccine, 2937]\n",
      "[5, #AstraZeneca, 2929]\n",
      "[6, #vaccinated, 2254]\n",
      "[7, #COVID19Vaccine, 1997]\n",
      "[8, #Vaccine, 1309]\n",
      "[9, #Pfizer, 1012]\n",
      "[10, #Moderna, 767]\n",
      "[11, #vaccination, 679]\n",
      "[12, #Ontario, 673]\n",
      "[13, #StaySafe, 497]\n",
      "[14, #covidvaccine, 469]\n",
      "[15, #COVID, 468]\n",
      "[16, #Friends, 463]\n",
      "[17, #animatedmockumentry, 461]\n",
      "[18, #PolishRoyaltyandtheGoat, 461]\n",
      "[19, #India, 461]\n",
      "[20, #VaccinesWork, 458]\n",
      "[21, #coronavirus, 440]\n",
      "[22, #astrazeneca, 407]\n",
      "[23, #JohnsonandJohnson, 377]\n",
      "[24, #covid19, 351]\n",
      "[25, #COVID19vaccine, 327]\n",
      "[26, #Vaccinated, 322]\n",
      "[27, #Kashmir, 322]\n",
      "[28, #PfizerVaccine, 299]\n",
      "[29, #covid, 297]\n",
      "[30, #WearAMask, 289]\n"
     ]
    }
   ],
   "source": [
    "for x,i in zip(sorted_hashtags[:30],range(30)):\n",
    "#     print('[',i+1,', #',x[0],',',x[0],']')\n",
    "    print('[{}, #{}, {}]'.format(i+1,x[0],x[1]))"
   ]
  },
  {
   "cell_type": "markdown",
   "metadata": {},
   "source": [
    "### Data preprocessing"
   ]
  },
  {
   "cell_type": "markdown",
   "metadata": {},
   "source": [
    "• Filter languages other than English"
   ]
  },
  {
   "cell_type": "code",
   "execution_count": 358,
   "metadata": {},
   "outputs": [],
   "source": [
    "pre_tweets_data_1=tweets_data[tweets_data['tweet.lang']=='en']"
   ]
  },
  {
   "cell_type": "markdown",
   "metadata": {},
   "source": [
    "• data preprocess:  \n",
    "    1) Set the tweet to lowercase  \n",
    "    2) Filter URL links  \n",
    "    3) Remove user @ references and '#' from tweet  \n",
    "    4) Filter emoticons  \n",
    "    5) Filter punctuation  \n",
    "    6) Remove stopwords  "
   ]
  },
  {
   "cell_type": "code",
   "execution_count": 382,
   "metadata": {},
   "outputs": [],
   "source": [
    "def preprocess_tweet_text(tweet):\n",
    "#     set the tweet to lowercase\n",
    "    tweet=tweet.lower()\n",
    "#     Filter URL links\n",
    "    tweet=re.sub(r\"http\\S+|www\\S+|https\\S+\", '', tweet, flags=re.MULTILINE)\n",
    "# Remove user @ references and '#' from tweet\n",
    "    tweet = re.sub(r'\\@\\w+|\\#','', tweet)\n",
    "# Filter emoticons\n",
    "    emoj = re.compile(\"[\"\n",
    "        u\"\\U0001F600-\\U0001F64F\"  # emoticons\n",
    "        u\"\\U0001F300-\\U0001F5FF\"  # symbols & pictographs\n",
    "        u\"\\U0001F680-\\U0001F6FF\"  # transport & map symbols\n",
    "        u\"\\U0001F1E0-\\U0001F1FF\"  # flags (iOS)\n",
    "        u\"\\U00002500-\\U00002BEF\"  # chinese char\n",
    "        u\"\\U00002702-\\U000027B0\"\n",
    "        u\"\\U00002702-\\U000027B0\"\n",
    "        u\"\\U000024C2-\\U0001F251\"\n",
    "        u\"\\U0001f926-\\U0001f937\"\n",
    "        u\"\\U00010000-\\U0010ffff\"\n",
    "        u\"\\u2640-\\u2642\" \n",
    "        u\"\\u2600-\\u2B55\"\n",
    "        u\"\\u200d\"\n",
    "        u\"\\u23cf\"\n",
    "        u\"\\u23e9\"\n",
    "        u\"\\u231a\"\n",
    "        u\"\\ufe0f\"  # dingbats\n",
    "        u\"\\u3030\"\n",
    "                      \"]+\", re.UNICODE)\n",
    "    tweet=re.sub(emoj, '', tweet)\n",
    "#     Filter punctuation\n",
    "    tweet=re.sub(r'[^\\w\\s]', '', tweet)\n",
    "    # Remove stopwords\n",
    "    tweet_tokens = word_tokenize(tweet)\n",
    "    filtered_words = [w for w in tweet_tokens if not w in stop_words]\n",
    "    \n",
    "# Do not apply both. Remember that stemming and lemmatization are normalization techniques, \n",
    "# and it is recommended to use only one approach to normalize.\n",
    "    #ps = PorterStemmer()\n",
    "    #stemmed_words = [ps.stem(w) for w in filtered_words]\n",
    "    #lemmatizer = WordNetLemmatizer()\n",
    "    #lemma_words = [lemmatizer.lemmatize(w, pos='a') for w in stemmed_words]\n",
    "    \n",
    "    return \" \".join(filtered_words)"
   ]
  },
  {
   "cell_type": "code",
   "execution_count": 371,
   "metadata": {},
   "outputs": [
    {
     "name": "stderr",
     "output_type": "stream",
     "text": [
      "<ipython-input-371-8c8891e6fe13>:1: SettingWithCopyWarning: \n",
      "A value is trying to be set on a copy of a slice from a DataFrame.\n",
      "Try using .loc[row_indexer,col_indexer] = value instead\n",
      "\n",
      "See the caveats in the documentation: https://pandas.pydata.org/pandas-docs/stable/user_guide/indexing.html#returning-a-view-versus-a-copy\n",
      "  pre_tweets_data_1['tweet.full_text']=pre_tweets_data_1['tweet.full_text'].apply(lambda x:preprocess_tweet_text(x))\n"
     ]
    }
   ],
   "source": [
    "pre_tweets_data_1['tweet.full_text']=pre_tweets_data_1['tweet.full_text'].apply(lambda x:preprocess_tweet_text(x))"
   ]
  },
  {
   "cell_type": "code",
   "execution_count": 334,
   "metadata": {},
   "outputs": [
    {
     "data": {
      "text/html": [
       "<div>\n",
       "<style scoped>\n",
       "    .dataframe tbody tr th:only-of-type {\n",
       "        vertical-align: middle;\n",
       "    }\n",
       "\n",
       "    .dataframe tbody tr th {\n",
       "        vertical-align: top;\n",
       "    }\n",
       "\n",
       "    .dataframe thead th {\n",
       "        text-align: right;\n",
       "    }\n",
       "</style>\n",
       "<table border=\"1\" class=\"dataframe\">\n",
       "  <thead>\n",
       "    <tr style=\"text-align: right;\">\n",
       "      <th></th>\n",
       "      <th>tweet.full_text</th>\n",
       "      <th>tweet.created_at</th>\n",
       "      <th>tweet.id_str</th>\n",
       "      <th>tweet.user.name</th>\n",
       "      <th>tweet.user.screen_name</th>\n",
       "      <th>tweet.user.id_str</th>\n",
       "      <th>tweet.user.location</th>\n",
       "      <th>tweet.user.url</th>\n",
       "      <th>tweet.user.description</th>\n",
       "      <th>tweet.user.verified</th>\n",
       "      <th>...</th>\n",
       "      <th>tweet.user.friends_count</th>\n",
       "      <th>tweet.user.favourites_count</th>\n",
       "      <th>tweet.user.statuses_count</th>\n",
       "      <th>tweet.user.listed_count</th>\n",
       "      <th>tweet.user.created_at</th>\n",
       "      <th>tweet.user.profile_image_url_https</th>\n",
       "      <th>tweet.user.default_profile</th>\n",
       "      <th>tweet.user.default_profile_image</th>\n",
       "      <th>tweet.lang</th>\n",
       "      <th>area_name</th>\n",
       "    </tr>\n",
       "  </thead>\n",
       "  <tbody>\n",
       "    <tr>\n",
       "      <th>1</th>\n",
       "      <td>labyrinthweaver Happy to get whatever vaccine ...</td>\n",
       "      <td>2021-04-27 13:51:23</td>\n",
       "      <td>1387041690276360203</td>\n",
       "      <td>Hira Ambrosino</td>\n",
       "      <td>HiraAmbrosino</td>\n",
       "      <td>334675619</td>\n",
       "      <td>Los Angeles</td>\n",
       "      <td>http://t.co/KwpfYtGAN9</td>\n",
       "      <td>Grew up in Japan, LA is my home.  Actor on ABC...</td>\n",
       "      <td>True</td>\n",
       "      <td>...</td>\n",
       "      <td>189</td>\n",
       "      <td>6027.0</td>\n",
       "      <td>2191.0</td>\n",
       "      <td>40.0</td>\n",
       "      <td>2011-07-13 13:55:27</td>\n",
       "      <td>https://pbs.twimg.com/profile_images/115811806...</td>\n",
       "      <td>False</td>\n",
       "      <td>False</td>\n",
       "      <td>en</td>\n",
       "      <td>LosAngeles</td>\n",
       "    </tr>\n",
       "    <tr>\n",
       "      <th>2</th>\n",
       "      <td>RT JessLint  Thank you to Bruce_Power and npxi...</td>\n",
       "      <td>2021-04-27 13:50:50</td>\n",
       "      <td>1387041551973425165</td>\n",
       "      <td>NPX</td>\n",
       "      <td>npxinnovation</td>\n",
       "      <td>988083645603766272</td>\n",
       "      <td>Toronto, Ontario</td>\n",
       "      <td>https://t.co/jfATmtuMrU</td>\n",
       "      <td>Innovation in Everything We Do</td>\n",
       "      <td>False</td>\n",
       "      <td>...</td>\n",
       "      <td>187</td>\n",
       "      <td>475.0</td>\n",
       "      <td>572.0</td>\n",
       "      <td>0.0</td>\n",
       "      <td>2018-04-22 15:54:33</td>\n",
       "      <td>https://pbs.twimg.com/profile_images/131459343...</td>\n",
       "      <td>True</td>\n",
       "      <td>False</td>\n",
       "      <td>en</td>\n",
       "      <td>LosAngeles</td>\n",
       "    </tr>\n",
       "    <tr>\n",
       "      <th>4</th>\n",
       "      <td>42 of Americans have at least one dose of COVI...</td>\n",
       "      <td>2021-04-27 13:40:55</td>\n",
       "      <td>1387039054546366468</td>\n",
       "      <td>DrRPalmquist</td>\n",
       "      <td>DrPalmquist</td>\n",
       "      <td>1141340430514003968</td>\n",
       "      <td>Los Angeles, CA</td>\n",
       "      <td>https://t.co/oqar5Baxjy</td>\n",
       "      <td>Veterinarian changing life one poem, one herb ...</td>\n",
       "      <td>False</td>\n",
       "      <td>...</td>\n",
       "      <td>1324</td>\n",
       "      <td>23689.0</td>\n",
       "      <td>17165.0</td>\n",
       "      <td>8.0</td>\n",
       "      <td>2019-06-19 13:42:18</td>\n",
       "      <td>https://pbs.twimg.com/profile_images/114134099...</td>\n",
       "      <td>True</td>\n",
       "      <td>False</td>\n",
       "      <td>en</td>\n",
       "      <td>LosAngeles</td>\n",
       "    </tr>\n",
       "    <tr>\n",
       "      <th>5</th>\n",
       "      <td>NEJM COVID19Vaccine related immune thrombocyto...</td>\n",
       "      <td>2021-04-27 13:36:00</td>\n",
       "      <td>1387037816748576777</td>\n",
       "      <td>DrRPalmquist</td>\n",
       "      <td>DrPalmquist</td>\n",
       "      <td>1141340430514003968</td>\n",
       "      <td>Los Angeles, CA</td>\n",
       "      <td>https://t.co/oqar5Baxjy</td>\n",
       "      <td>Veterinarian changing life one poem, one herb ...</td>\n",
       "      <td>False</td>\n",
       "      <td>...</td>\n",
       "      <td>1324</td>\n",
       "      <td>23689.0</td>\n",
       "      <td>17165.0</td>\n",
       "      <td>8.0</td>\n",
       "      <td>2019-06-19 13:42:18</td>\n",
       "      <td>https://pbs.twimg.com/profile_images/114134099...</td>\n",
       "      <td>True</td>\n",
       "      <td>False</td>\n",
       "      <td>en</td>\n",
       "      <td>LosAngeles</td>\n",
       "    </tr>\n",
       "    <tr>\n",
       "      <th>6</th>\n",
       "      <td>Another reason to moderate your alcohol intake...</td>\n",
       "      <td>2021-04-27 13:32:22</td>\n",
       "      <td>1387036905976434697</td>\n",
       "      <td>Jon Burk</td>\n",
       "      <td>MrJonBurk</td>\n",
       "      <td>300963571</td>\n",
       "      <td>Los Angeles, CA</td>\n",
       "      <td>https://t.co/JQkQP1fRvE</td>\n",
       "      <td>Marketing | Writing | Production | Digital Str...</td>\n",
       "      <td>False</td>\n",
       "      <td>...</td>\n",
       "      <td>894</td>\n",
       "      <td>3259.0</td>\n",
       "      <td>17937.0</td>\n",
       "      <td>152.0</td>\n",
       "      <td>2011-05-18 17:02:01</td>\n",
       "      <td>https://pbs.twimg.com/profile_images/133016494...</td>\n",
       "      <td>False</td>\n",
       "      <td>False</td>\n",
       "      <td>en</td>\n",
       "      <td>LosAngeles</td>\n",
       "    </tr>\n",
       "  </tbody>\n",
       "</table>\n",
       "<p>5 rows × 21 columns</p>\n",
       "</div>"
      ],
      "text/plain": [
       "                                     tweet.full_text     tweet.created_at  \\\n",
       "1  labyrinthweaver Happy to get whatever vaccine ...  2021-04-27 13:51:23   \n",
       "2  RT JessLint  Thank you to Bruce_Power and npxi...  2021-04-27 13:50:50   \n",
       "4  42 of Americans have at least one dose of COVI...  2021-04-27 13:40:55   \n",
       "5  NEJM COVID19Vaccine related immune thrombocyto...  2021-04-27 13:36:00   \n",
       "6  Another reason to moderate your alcohol intake...  2021-04-27 13:32:22   \n",
       "\n",
       "          tweet.id_str tweet.user.name tweet.user.screen_name  \\\n",
       "1  1387041690276360203  Hira Ambrosino          HiraAmbrosino   \n",
       "2  1387041551973425165             NPX          npxinnovation   \n",
       "4  1387039054546366468    DrRPalmquist            DrPalmquist   \n",
       "5  1387037816748576777    DrRPalmquist            DrPalmquist   \n",
       "6  1387036905976434697        Jon Burk              MrJonBurk   \n",
       "\n",
       "     tweet.user.id_str tweet.user.location           tweet.user.url  \\\n",
       "1            334675619         Los Angeles   http://t.co/KwpfYtGAN9   \n",
       "2   988083645603766272    Toronto, Ontario  https://t.co/jfATmtuMrU   \n",
       "4  1141340430514003968     Los Angeles, CA  https://t.co/oqar5Baxjy   \n",
       "5  1141340430514003968     Los Angeles, CA  https://t.co/oqar5Baxjy   \n",
       "6            300963571     Los Angeles, CA  https://t.co/JQkQP1fRvE   \n",
       "\n",
       "                              tweet.user.description tweet.user.verified  ...  \\\n",
       "1  Grew up in Japan, LA is my home.  Actor on ABC...                True  ...   \n",
       "2                     Innovation in Everything We Do               False  ...   \n",
       "4  Veterinarian changing life one poem, one herb ...               False  ...   \n",
       "5  Veterinarian changing life one poem, one herb ...               False  ...   \n",
       "6  Marketing | Writing | Production | Digital Str...               False  ...   \n",
       "\n",
       "  tweet.user.friends_count tweet.user.favourites_count  \\\n",
       "1                      189                      6027.0   \n",
       "2                      187                       475.0   \n",
       "4                     1324                     23689.0   \n",
       "5                     1324                     23689.0   \n",
       "6                      894                      3259.0   \n",
       "\n",
       "   tweet.user.statuses_count  tweet.user.listed_count  tweet.user.created_at  \\\n",
       "1                     2191.0                     40.0    2011-07-13 13:55:27   \n",
       "2                      572.0                      0.0    2018-04-22 15:54:33   \n",
       "4                    17165.0                      8.0    2019-06-19 13:42:18   \n",
       "5                    17165.0                      8.0    2019-06-19 13:42:18   \n",
       "6                    17937.0                    152.0    2011-05-18 17:02:01   \n",
       "\n",
       "                  tweet.user.profile_image_url_https  \\\n",
       "1  https://pbs.twimg.com/profile_images/115811806...   \n",
       "2  https://pbs.twimg.com/profile_images/131459343...   \n",
       "4  https://pbs.twimg.com/profile_images/114134099...   \n",
       "5  https://pbs.twimg.com/profile_images/114134099...   \n",
       "6  https://pbs.twimg.com/profile_images/133016494...   \n",
       "\n",
       "  tweet.user.default_profile tweet.user.default_profile_image tweet.lang  \\\n",
       "1                      False                            False         en   \n",
       "2                       True                            False         en   \n",
       "4                       True                            False         en   \n",
       "5                       True                            False         en   \n",
       "6                      False                            False         en   \n",
       "\n",
       "    area_name  \n",
       "1  LosAngeles  \n",
       "2  LosAngeles  \n",
       "4  LosAngeles  \n",
       "5  LosAngeles  \n",
       "6  LosAngeles  \n",
       "\n",
       "[5 rows x 21 columns]"
      ]
     },
     "execution_count": 334,
     "metadata": {},
     "output_type": "execute_result"
    }
   ],
   "source": [
    "pre_tweets_data_1.head()"
   ]
  },
  {
   "cell_type": "markdown",
   "metadata": {},
   "source": [
    "### Sentiment Analysis on Twitter"
   ]
  },
  {
   "cell_type": "markdown",
   "metadata": {},
   "source": [
    "This dataset encoded the target variable with a 3-point ordinal scale: 0 = negative, 2 = neutral, 4 = positive.\n",
    "\n",
    "Dataset: https://www.dropbox.com/s/du1z2m910a68ehk/training.csv?dl=0"
   ]
  },
  {
   "cell_type": "code",
   "execution_count": 380,
   "metadata": {},
   "outputs": [],
   "source": [
    "def load_dataset(filename, cols):\n",
    "    dataset = pd.read_csv(filename, encoding='latin-1')\n",
    "    dataset.columns = cols\n",
    "    return dataset"
   ]
  },
  {
   "cell_type": "code",
   "execution_count": 381,
   "metadata": {},
   "outputs": [],
   "source": [
    "def remove_unwanted_cols(dataset, cols):\n",
    "    for col in cols:\n",
    "        del dataset[col]\n",
    "    return dataset"
   ]
  },
  {
   "cell_type": "code",
   "execution_count": 376,
   "metadata": {},
   "outputs": [],
   "source": [
    "# implement vectorization using tf-idf\n",
    "def get_feature_vector(train_fit):\n",
    "    vector = TfidfVectorizer(sublinear_tf=True)\n",
    "    vector.fit(train_fit)\n",
    "    return vector"
   ]
  },
  {
   "cell_type": "markdown",
   "metadata": {},
   "source": [
    "• The target column is comprised of the integer values 0, 2, and 4. To convert the integer results to be easily understood by users, which is Negative, Neutral and positive."
   ]
  },
  {
   "cell_type": "code",
   "execution_count": 378,
   "metadata": {},
   "outputs": [],
   "source": [
    "def int_to_string(sentiment):\n",
    "    if sentiment == 0:\n",
    "        return \"Negative\"\n",
    "    elif sentiment == 2:\n",
    "        return \"Neutral\"\n",
    "    else:\n",
    "        return \"Positive\""
   ]
  },
  {
   "cell_type": "code",
   "execution_count": 384,
   "metadata": {},
   "outputs": [],
   "source": [
    "# Load dataset\n",
    "dataset = load_dataset(\"training.csv\", ['target', 't_id', 'created_at', 'query', 'user', 'text'])\n",
    "# Remove unwanted columns from dataset\n",
    "dataset = remove_unwanted_cols(dataset, ['t_id', 'created_at', 'query', 'user'])\n",
    "#Preprocess data\n",
    "dataset.text = dataset['text'].apply(preprocess_tweet_text)"
   ]
  },
  {
   "cell_type": "code",
   "execution_count": 388,
   "metadata": {},
   "outputs": [
    {
     "name": "stdout",
     "output_type": "stream",
     "text": [
      "0.766403125\n",
      "0.785259375\n"
     ]
    }
   ],
   "source": [
    "# Split dataset into Train, Test\n",
    "# Same tf vector will be used for Testing sentiments on unseen trending data\n",
    "tf_vector = get_feature_vector(np.array(dataset.iloc[:, 1]).ravel())\n",
    "X = tf_vector.transform(np.array(dataset.iloc[:, 1]).ravel())\n",
    "y = np.array(dataset.iloc[:, 0]).ravel()\n",
    "X_train, X_test, y_train, y_test = train_test_split(X, y, test_size=0.2, random_state=30)\n",
    "\n",
    "# Training Naive Bayes model\n",
    "NB_model = MultinomialNB()\n",
    "NB_model.fit(X_train, y_train)\n",
    "y_predict_nb = NB_model.predict(X_test)\n",
    "print(accuracy_score(y_test, y_predict_nb))\n",
    "\n",
    "# Training Logistics Regression model\n",
    "LR_model = LogisticRegression(solver='lbfgs',max_iter=10000)\n",
    "LR_model.fit(X_train, y_train)\n",
    "y_predict_lr = LR_model.predict(X_test)\n",
    "print(accuracy_score(y_test, y_predict_lr))"
   ]
  },
  {
   "cell_type": "markdown",
   "metadata": {},
   "source": [
    "#### predict the Tweet sentiment"
   ]
  },
  {
   "cell_type": "code",
   "execution_count": 443,
   "metadata": {},
   "outputs": [
    {
     "name": "stderr",
     "output_type": "stream",
     "text": [
      "<ipython-input-443-9454589f8cec>:4: SettingWithCopyWarning: \n",
      "A value is trying to be set on a copy of a slice from a DataFrame.\n",
      "Try using .loc[row_indexer,col_indexer] = value instead\n",
      "\n",
      "See the caveats in the documentation: https://pandas.pydata.org/pandas-docs/stable/user_guide/indexing.html#returning-a-view-versus-a-copy\n",
      "  test_ds['tweet.full_text'] = test_ds[\"tweet.full_text\"].apply(lambda x:preprocess_tweet_text(x))\n"
     ]
    }
   ],
   "source": [
    "test_ds = pre_tweets_data_1[['area_name','tweet.full_text']]\n",
    "\n",
    "# Creating text feature\n",
    "test_ds['tweet.full_text'] = test_ds[\"tweet.full_text\"].apply(lambda x:preprocess_tweet_text(x))\n",
    "test_feature = tf_vector.transform(np.array(test_ds.iloc[:, 1]).ravel())\n",
    "\n",
    "# Using Logistic Regression model for prediction\n",
    "test_prediction_lr = LR_model.predict(test_feature)\n",
    "\n",
    "# get the sentiment result to a table\n",
    "test_result_ds = pd.DataFrame({'area_name': test_ds.area_name, 'prediction':test_prediction_lr})\n",
    "# convert int to string\n",
    "test_result_ds['prediction']=test_result_ds['prediction'].apply(lambda x:int_to_string(x))"
   ]
  },
  {
   "cell_type": "code",
   "execution_count": 444,
   "metadata": {},
   "outputs": [
    {
     "data": {
      "text/html": [
       "<div>\n",
       "<style scoped>\n",
       "    .dataframe tbody tr th:only-of-type {\n",
       "        vertical-align: middle;\n",
       "    }\n",
       "\n",
       "    .dataframe tbody tr th {\n",
       "        vertical-align: top;\n",
       "    }\n",
       "\n",
       "    .dataframe thead th {\n",
       "        text-align: right;\n",
       "    }\n",
       "</style>\n",
       "<table border=\"1\" class=\"dataframe\">\n",
       "  <thead>\n",
       "    <tr style=\"text-align: right;\">\n",
       "      <th></th>\n",
       "      <th>area_name</th>\n",
       "      <th>prediction</th>\n",
       "      <th>count</th>\n",
       "    </tr>\n",
       "  </thead>\n",
       "  <tbody>\n",
       "    <tr>\n",
       "      <th>1</th>\n",
       "      <td>LosAngeles</td>\n",
       "      <td>Positive</td>\n",
       "      <td>1</td>\n",
       "    </tr>\n",
       "    <tr>\n",
       "      <th>2</th>\n",
       "      <td>LosAngeles</td>\n",
       "      <td>Positive</td>\n",
       "      <td>1</td>\n",
       "    </tr>\n",
       "    <tr>\n",
       "      <th>4</th>\n",
       "      <td>LosAngeles</td>\n",
       "      <td>Positive</td>\n",
       "      <td>1</td>\n",
       "    </tr>\n",
       "    <tr>\n",
       "      <th>5</th>\n",
       "      <td>LosAngeles</td>\n",
       "      <td>Negative</td>\n",
       "      <td>1</td>\n",
       "    </tr>\n",
       "    <tr>\n",
       "      <th>6</th>\n",
       "      <td>LosAngeles</td>\n",
       "      <td>Negative</td>\n",
       "      <td>1</td>\n",
       "    </tr>\n",
       "    <tr>\n",
       "      <th>...</th>\n",
       "      <td>...</td>\n",
       "      <td>...</td>\n",
       "      <td>...</td>\n",
       "    </tr>\n",
       "    <tr>\n",
       "      <th>29933</th>\n",
       "      <td>LasVegas</td>\n",
       "      <td>Negative</td>\n",
       "      <td>1</td>\n",
       "    </tr>\n",
       "    <tr>\n",
       "      <th>29934</th>\n",
       "      <td>LasVegas</td>\n",
       "      <td>Positive</td>\n",
       "      <td>1</td>\n",
       "    </tr>\n",
       "    <tr>\n",
       "      <th>29935</th>\n",
       "      <td>LasVegas</td>\n",
       "      <td>Positive</td>\n",
       "      <td>1</td>\n",
       "    </tr>\n",
       "    <tr>\n",
       "      <th>29936</th>\n",
       "      <td>LasVegas</td>\n",
       "      <td>Positive</td>\n",
       "      <td>1</td>\n",
       "    </tr>\n",
       "    <tr>\n",
       "      <th>29937</th>\n",
       "      <td>LasVegas</td>\n",
       "      <td>Negative</td>\n",
       "      <td>1</td>\n",
       "    </tr>\n",
       "  </tbody>\n",
       "</table>\n",
       "<p>27986 rows × 3 columns</p>\n",
       "</div>"
      ],
      "text/plain": [
       "        area_name prediction  count\n",
       "1      LosAngeles   Positive      1\n",
       "2      LosAngeles   Positive      1\n",
       "4      LosAngeles   Positive      1\n",
       "5      LosAngeles   Negative      1\n",
       "6      LosAngeles   Negative      1\n",
       "...           ...        ...    ...\n",
       "29933    LasVegas   Negative      1\n",
       "29934    LasVegas   Positive      1\n",
       "29935    LasVegas   Positive      1\n",
       "29936    LasVegas   Positive      1\n",
       "29937    LasVegas   Negative      1\n",
       "\n",
       "[27986 rows x 3 columns]"
      ]
     },
     "execution_count": 444,
     "metadata": {},
     "output_type": "execute_result"
    }
   ],
   "source": [
    "test_result_ds['count']=1\n",
    "test_result_ds"
   ]
  },
  {
   "cell_type": "code",
   "execution_count": 445,
   "metadata": {},
   "outputs": [
    {
     "data": {
      "text/html": [
       "<div>\n",
       "<style scoped>\n",
       "    .dataframe tbody tr th:only-of-type {\n",
       "        vertical-align: middle;\n",
       "    }\n",
       "\n",
       "    .dataframe tbody tr th {\n",
       "        vertical-align: top;\n",
       "    }\n",
       "\n",
       "    .dataframe thead th {\n",
       "        text-align: right;\n",
       "    }\n",
       "</style>\n",
       "<table border=\"1\" class=\"dataframe\">\n",
       "  <thead>\n",
       "    <tr style=\"text-align: right;\">\n",
       "      <th></th>\n",
       "      <th>area_name</th>\n",
       "      <th>prediction</th>\n",
       "      <th>count</th>\n",
       "    </tr>\n",
       "  </thead>\n",
       "  <tbody>\n",
       "    <tr>\n",
       "      <th>0</th>\n",
       "      <td>CentervilleTownship</td>\n",
       "      <td>Negative</td>\n",
       "      <td>148</td>\n",
       "    </tr>\n",
       "    <tr>\n",
       "      <th>1</th>\n",
       "      <td>CentervilleTownship</td>\n",
       "      <td>Positive</td>\n",
       "      <td>280</td>\n",
       "    </tr>\n",
       "    <tr>\n",
       "      <th>2</th>\n",
       "      <td>ErieCounty</td>\n",
       "      <td>Negative</td>\n",
       "      <td>3976</td>\n",
       "    </tr>\n",
       "    <tr>\n",
       "      <th>3</th>\n",
       "      <td>ErieCounty</td>\n",
       "      <td>Positive</td>\n",
       "      <td>5418</td>\n",
       "    </tr>\n",
       "    <tr>\n",
       "      <th>4</th>\n",
       "      <td>LasVegas</td>\n",
       "      <td>Negative</td>\n",
       "      <td>179</td>\n",
       "    </tr>\n",
       "    <tr>\n",
       "      <th>5</th>\n",
       "      <td>LasVegas</td>\n",
       "      <td>Positive</td>\n",
       "      <td>206</td>\n",
       "    </tr>\n",
       "    <tr>\n",
       "      <th>6</th>\n",
       "      <td>Lordsburg</td>\n",
       "      <td>Negative</td>\n",
       "      <td>34</td>\n",
       "    </tr>\n",
       "    <tr>\n",
       "      <th>7</th>\n",
       "      <td>Lordsburg</td>\n",
       "      <td>Positive</td>\n",
       "      <td>43</td>\n",
       "    </tr>\n",
       "    <tr>\n",
       "      <th>8</th>\n",
       "      <td>LosAngeles</td>\n",
       "      <td>Negative</td>\n",
       "      <td>1199</td>\n",
       "    </tr>\n",
       "    <tr>\n",
       "      <th>9</th>\n",
       "      <td>LosAngeles</td>\n",
       "      <td>Positive</td>\n",
       "      <td>2767</td>\n",
       "    </tr>\n",
       "    <tr>\n",
       "      <th>10</th>\n",
       "      <td>Miami</td>\n",
       "      <td>Negative</td>\n",
       "      <td>163</td>\n",
       "    </tr>\n",
       "    <tr>\n",
       "      <th>11</th>\n",
       "      <td>Miami</td>\n",
       "      <td>Positive</td>\n",
       "      <td>311</td>\n",
       "    </tr>\n",
       "    <tr>\n",
       "      <th>12</th>\n",
       "      <td>Moab</td>\n",
       "      <td>Negative</td>\n",
       "      <td>745</td>\n",
       "    </tr>\n",
       "    <tr>\n",
       "      <th>13</th>\n",
       "      <td>Moab</td>\n",
       "      <td>Positive</td>\n",
       "      <td>950</td>\n",
       "    </tr>\n",
       "    <tr>\n",
       "      <th>14</th>\n",
       "      <td>NewYork</td>\n",
       "      <td>Negative</td>\n",
       "      <td>3388</td>\n",
       "    </tr>\n",
       "    <tr>\n",
       "      <th>15</th>\n",
       "      <td>NewYork</td>\n",
       "      <td>Positive</td>\n",
       "      <td>6078</td>\n",
       "    </tr>\n",
       "    <tr>\n",
       "      <th>16</th>\n",
       "      <td>Seattle</td>\n",
       "      <td>Negative</td>\n",
       "      <td>568</td>\n",
       "    </tr>\n",
       "    <tr>\n",
       "      <th>17</th>\n",
       "      <td>Seattle</td>\n",
       "      <td>Positive</td>\n",
       "      <td>1533</td>\n",
       "    </tr>\n",
       "  </tbody>\n",
       "</table>\n",
       "</div>"
      ],
      "text/plain": [
       "              area_name prediction  count\n",
       "0   CentervilleTownship   Negative    148\n",
       "1   CentervilleTownship   Positive    280\n",
       "2            ErieCounty   Negative   3976\n",
       "3            ErieCounty   Positive   5418\n",
       "4              LasVegas   Negative    179\n",
       "5              LasVegas   Positive    206\n",
       "6             Lordsburg   Negative     34\n",
       "7             Lordsburg   Positive     43\n",
       "8            LosAngeles   Negative   1199\n",
       "9            LosAngeles   Positive   2767\n",
       "10                Miami   Negative    163\n",
       "11                Miami   Positive    311\n",
       "12                 Moab   Negative    745\n",
       "13                 Moab   Positive    950\n",
       "14              NewYork   Negative   3388\n",
       "15              NewYork   Positive   6078\n",
       "16              Seattle   Negative    568\n",
       "17              Seattle   Positive   1533"
      ]
     },
     "execution_count": 445,
     "metadata": {},
     "output_type": "execute_result"
    }
   ],
   "source": [
    "test_result_ds=test_result_ds.groupby(['area_name','prediction']).count().reset_index()\n",
    "test_result_ds"
   ]
  },
  {
   "cell_type": "code",
   "execution_count": 447,
   "metadata": {},
   "outputs": [
    {
     "data": {
      "text/html": [
       "<div>\n",
       "<style scoped>\n",
       "    .dataframe tbody tr th:only-of-type {\n",
       "        vertical-align: middle;\n",
       "    }\n",
       "\n",
       "    .dataframe tbody tr th {\n",
       "        vertical-align: top;\n",
       "    }\n",
       "\n",
       "    .dataframe thead th {\n",
       "        text-align: right;\n",
       "    }\n",
       "</style>\n",
       "<table border=\"1\" class=\"dataframe\">\n",
       "  <thead>\n",
       "    <tr style=\"text-align: right;\">\n",
       "      <th></th>\n",
       "      <th>area_name</th>\n",
       "      <th>sum</th>\n",
       "    </tr>\n",
       "  </thead>\n",
       "  <tbody>\n",
       "    <tr>\n",
       "      <th>0</th>\n",
       "      <td>CentervilleTownship</td>\n",
       "      <td>428</td>\n",
       "    </tr>\n",
       "    <tr>\n",
       "      <th>1</th>\n",
       "      <td>ErieCounty</td>\n",
       "      <td>9394</td>\n",
       "    </tr>\n",
       "    <tr>\n",
       "      <th>2</th>\n",
       "      <td>LasVegas</td>\n",
       "      <td>385</td>\n",
       "    </tr>\n",
       "    <tr>\n",
       "      <th>3</th>\n",
       "      <td>Lordsburg</td>\n",
       "      <td>77</td>\n",
       "    </tr>\n",
       "    <tr>\n",
       "      <th>4</th>\n",
       "      <td>LosAngeles</td>\n",
       "      <td>3966</td>\n",
       "    </tr>\n",
       "    <tr>\n",
       "      <th>5</th>\n",
       "      <td>Miami</td>\n",
       "      <td>474</td>\n",
       "    </tr>\n",
       "    <tr>\n",
       "      <th>6</th>\n",
       "      <td>Moab</td>\n",
       "      <td>1695</td>\n",
       "    </tr>\n",
       "    <tr>\n",
       "      <th>7</th>\n",
       "      <td>NewYork</td>\n",
       "      <td>9466</td>\n",
       "    </tr>\n",
       "    <tr>\n",
       "      <th>8</th>\n",
       "      <td>Seattle</td>\n",
       "      <td>2101</td>\n",
       "    </tr>\n",
       "  </tbody>\n",
       "</table>\n",
       "</div>"
      ],
      "text/plain": [
       "             area_name   sum\n",
       "0  CentervilleTownship   428\n",
       "1           ErieCounty  9394\n",
       "2             LasVegas   385\n",
       "3            Lordsburg    77\n",
       "4           LosAngeles  3966\n",
       "5                Miami   474\n",
       "6                 Moab  1695\n",
       "7              NewYork  9466\n",
       "8              Seattle  2101"
      ]
     },
     "execution_count": 447,
     "metadata": {},
     "output_type": "execute_result"
    }
   ],
   "source": [
    "test_result_ds_sum=test_result_ds.groupby('area_name').sum().reset_index()\n",
    "test_result_ds_sum.columns=['area_name','sum']\n",
    "test_result_ds_sum"
   ]
  },
  {
   "cell_type": "code",
   "execution_count": 448,
   "metadata": {},
   "outputs": [],
   "source": [
    "test_result_ds=pd.merge(test_result_ds,test_result_ds_sum,how='left',on=[\"area_name\"],right_index=False)"
   ]
  },
  {
   "cell_type": "code",
   "execution_count": 449,
   "metadata": {},
   "outputs": [
    {
     "data": {
      "text/html": [
       "<div>\n",
       "<style scoped>\n",
       "    .dataframe tbody tr th:only-of-type {\n",
       "        vertical-align: middle;\n",
       "    }\n",
       "\n",
       "    .dataframe tbody tr th {\n",
       "        vertical-align: top;\n",
       "    }\n",
       "\n",
       "    .dataframe thead th {\n",
       "        text-align: right;\n",
       "    }\n",
       "</style>\n",
       "<table border=\"1\" class=\"dataframe\">\n",
       "  <thead>\n",
       "    <tr style=\"text-align: right;\">\n",
       "      <th></th>\n",
       "      <th>area_name</th>\n",
       "      <th>prediction</th>\n",
       "      <th>count</th>\n",
       "      <th>sum</th>\n",
       "    </tr>\n",
       "  </thead>\n",
       "  <tbody>\n",
       "    <tr>\n",
       "      <th>0</th>\n",
       "      <td>CentervilleTownship</td>\n",
       "      <td>Negative</td>\n",
       "      <td>148</td>\n",
       "      <td>428</td>\n",
       "    </tr>\n",
       "    <tr>\n",
       "      <th>1</th>\n",
       "      <td>CentervilleTownship</td>\n",
       "      <td>Positive</td>\n",
       "      <td>280</td>\n",
       "      <td>428</td>\n",
       "    </tr>\n",
       "    <tr>\n",
       "      <th>2</th>\n",
       "      <td>ErieCounty</td>\n",
       "      <td>Negative</td>\n",
       "      <td>3976</td>\n",
       "      <td>9394</td>\n",
       "    </tr>\n",
       "    <tr>\n",
       "      <th>3</th>\n",
       "      <td>ErieCounty</td>\n",
       "      <td>Positive</td>\n",
       "      <td>5418</td>\n",
       "      <td>9394</td>\n",
       "    </tr>\n",
       "    <tr>\n",
       "      <th>4</th>\n",
       "      <td>LasVegas</td>\n",
       "      <td>Negative</td>\n",
       "      <td>179</td>\n",
       "      <td>385</td>\n",
       "    </tr>\n",
       "    <tr>\n",
       "      <th>5</th>\n",
       "      <td>LasVegas</td>\n",
       "      <td>Positive</td>\n",
       "      <td>206</td>\n",
       "      <td>385</td>\n",
       "    </tr>\n",
       "    <tr>\n",
       "      <th>6</th>\n",
       "      <td>Lordsburg</td>\n",
       "      <td>Negative</td>\n",
       "      <td>34</td>\n",
       "      <td>77</td>\n",
       "    </tr>\n",
       "    <tr>\n",
       "      <th>7</th>\n",
       "      <td>Lordsburg</td>\n",
       "      <td>Positive</td>\n",
       "      <td>43</td>\n",
       "      <td>77</td>\n",
       "    </tr>\n",
       "    <tr>\n",
       "      <th>8</th>\n",
       "      <td>LosAngeles</td>\n",
       "      <td>Negative</td>\n",
       "      <td>1199</td>\n",
       "      <td>3966</td>\n",
       "    </tr>\n",
       "    <tr>\n",
       "      <th>9</th>\n",
       "      <td>LosAngeles</td>\n",
       "      <td>Positive</td>\n",
       "      <td>2767</td>\n",
       "      <td>3966</td>\n",
       "    </tr>\n",
       "    <tr>\n",
       "      <th>10</th>\n",
       "      <td>Miami</td>\n",
       "      <td>Negative</td>\n",
       "      <td>163</td>\n",
       "      <td>474</td>\n",
       "    </tr>\n",
       "    <tr>\n",
       "      <th>11</th>\n",
       "      <td>Miami</td>\n",
       "      <td>Positive</td>\n",
       "      <td>311</td>\n",
       "      <td>474</td>\n",
       "    </tr>\n",
       "    <tr>\n",
       "      <th>12</th>\n",
       "      <td>Moab</td>\n",
       "      <td>Negative</td>\n",
       "      <td>745</td>\n",
       "      <td>1695</td>\n",
       "    </tr>\n",
       "    <tr>\n",
       "      <th>13</th>\n",
       "      <td>Moab</td>\n",
       "      <td>Positive</td>\n",
       "      <td>950</td>\n",
       "      <td>1695</td>\n",
       "    </tr>\n",
       "    <tr>\n",
       "      <th>14</th>\n",
       "      <td>NewYork</td>\n",
       "      <td>Negative</td>\n",
       "      <td>3388</td>\n",
       "      <td>9466</td>\n",
       "    </tr>\n",
       "    <tr>\n",
       "      <th>15</th>\n",
       "      <td>NewYork</td>\n",
       "      <td>Positive</td>\n",
       "      <td>6078</td>\n",
       "      <td>9466</td>\n",
       "    </tr>\n",
       "    <tr>\n",
       "      <th>16</th>\n",
       "      <td>Seattle</td>\n",
       "      <td>Negative</td>\n",
       "      <td>568</td>\n",
       "      <td>2101</td>\n",
       "    </tr>\n",
       "    <tr>\n",
       "      <th>17</th>\n",
       "      <td>Seattle</td>\n",
       "      <td>Positive</td>\n",
       "      <td>1533</td>\n",
       "      <td>2101</td>\n",
       "    </tr>\n",
       "  </tbody>\n",
       "</table>\n",
       "</div>"
      ],
      "text/plain": [
       "              area_name prediction  count   sum\n",
       "0   CentervilleTownship   Negative    148   428\n",
       "1   CentervilleTownship   Positive    280   428\n",
       "2            ErieCounty   Negative   3976  9394\n",
       "3            ErieCounty   Positive   5418  9394\n",
       "4              LasVegas   Negative    179   385\n",
       "5              LasVegas   Positive    206   385\n",
       "6             Lordsburg   Negative     34    77\n",
       "7             Lordsburg   Positive     43    77\n",
       "8            LosAngeles   Negative   1199  3966\n",
       "9            LosAngeles   Positive   2767  3966\n",
       "10                Miami   Negative    163   474\n",
       "11                Miami   Positive    311   474\n",
       "12                 Moab   Negative    745  1695\n",
       "13                 Moab   Positive    950  1695\n",
       "14              NewYork   Negative   3388  9466\n",
       "15              NewYork   Positive   6078  9466\n",
       "16              Seattle   Negative    568  2101\n",
       "17              Seattle   Positive   1533  2101"
      ]
     },
     "execution_count": 449,
     "metadata": {},
     "output_type": "execute_result"
    }
   ],
   "source": [
    "test_result_ds"
   ]
  },
  {
   "cell_type": "code",
   "execution_count": 450,
   "metadata": {},
   "outputs": [],
   "source": [
    "test_result_ds['rate']=test_result_ds['count']/test_result_ds['sum']"
   ]
  },
  {
   "cell_type": "code",
   "execution_count": 459,
   "metadata": {},
   "outputs": [],
   "source": [
    "positive_rate=test_result_ds[test_result_ds['prediction']=='Positive'].sort_values(by='rate', ascending=False)"
   ]
  },
  {
   "cell_type": "code",
   "execution_count": 460,
   "metadata": {},
   "outputs": [
    {
     "data": {
      "text/html": [
       "<div>\n",
       "<style scoped>\n",
       "    .dataframe tbody tr th:only-of-type {\n",
       "        vertical-align: middle;\n",
       "    }\n",
       "\n",
       "    .dataframe tbody tr th {\n",
       "        vertical-align: top;\n",
       "    }\n",
       "\n",
       "    .dataframe thead th {\n",
       "        text-align: right;\n",
       "    }\n",
       "</style>\n",
       "<table border=\"1\" class=\"dataframe\">\n",
       "  <thead>\n",
       "    <tr style=\"text-align: right;\">\n",
       "      <th></th>\n",
       "      <th>area_name</th>\n",
       "      <th>prediction</th>\n",
       "      <th>count</th>\n",
       "      <th>sum</th>\n",
       "      <th>rate</th>\n",
       "    </tr>\n",
       "  </thead>\n",
       "  <tbody>\n",
       "    <tr>\n",
       "      <th>17</th>\n",
       "      <td>Seattle</td>\n",
       "      <td>Positive</td>\n",
       "      <td>1533</td>\n",
       "      <td>2101</td>\n",
       "      <td>0.729653</td>\n",
       "    </tr>\n",
       "    <tr>\n",
       "      <th>9</th>\n",
       "      <td>LosAngeles</td>\n",
       "      <td>Positive</td>\n",
       "      <td>2767</td>\n",
       "      <td>3966</td>\n",
       "      <td>0.697680</td>\n",
       "    </tr>\n",
       "    <tr>\n",
       "      <th>11</th>\n",
       "      <td>Miami</td>\n",
       "      <td>Positive</td>\n",
       "      <td>311</td>\n",
       "      <td>474</td>\n",
       "      <td>0.656118</td>\n",
       "    </tr>\n",
       "    <tr>\n",
       "      <th>1</th>\n",
       "      <td>CentervilleTownship</td>\n",
       "      <td>Positive</td>\n",
       "      <td>280</td>\n",
       "      <td>428</td>\n",
       "      <td>0.654206</td>\n",
       "    </tr>\n",
       "    <tr>\n",
       "      <th>15</th>\n",
       "      <td>NewYork</td>\n",
       "      <td>Positive</td>\n",
       "      <td>6078</td>\n",
       "      <td>9466</td>\n",
       "      <td>0.642087</td>\n",
       "    </tr>\n",
       "    <tr>\n",
       "      <th>3</th>\n",
       "      <td>ErieCounty</td>\n",
       "      <td>Positive</td>\n",
       "      <td>5418</td>\n",
       "      <td>9394</td>\n",
       "      <td>0.576751</td>\n",
       "    </tr>\n",
       "    <tr>\n",
       "      <th>13</th>\n",
       "      <td>Moab</td>\n",
       "      <td>Positive</td>\n",
       "      <td>950</td>\n",
       "      <td>1695</td>\n",
       "      <td>0.560472</td>\n",
       "    </tr>\n",
       "    <tr>\n",
       "      <th>7</th>\n",
       "      <td>Lordsburg</td>\n",
       "      <td>Positive</td>\n",
       "      <td>43</td>\n",
       "      <td>77</td>\n",
       "      <td>0.558442</td>\n",
       "    </tr>\n",
       "    <tr>\n",
       "      <th>5</th>\n",
       "      <td>LasVegas</td>\n",
       "      <td>Positive</td>\n",
       "      <td>206</td>\n",
       "      <td>385</td>\n",
       "      <td>0.535065</td>\n",
       "    </tr>\n",
       "  </tbody>\n",
       "</table>\n",
       "</div>"
      ],
      "text/plain": [
       "              area_name prediction  count   sum      rate\n",
       "17              Seattle   Positive   1533  2101  0.729653\n",
       "9            LosAngeles   Positive   2767  3966  0.697680\n",
       "11                Miami   Positive    311   474  0.656118\n",
       "1   CentervilleTownship   Positive    280   428  0.654206\n",
       "15              NewYork   Positive   6078  9466  0.642087\n",
       "3            ErieCounty   Positive   5418  9394  0.576751\n",
       "13                 Moab   Positive    950  1695  0.560472\n",
       "7             Lordsburg   Positive     43    77  0.558442\n",
       "5              LasVegas   Positive    206   385  0.535065"
      ]
     },
     "execution_count": 460,
     "metadata": {},
     "output_type": "execute_result"
    }
   ],
   "source": [
    "positive_rate"
   ]
  },
  {
   "cell_type": "code",
   "execution_count": 463,
   "metadata": {},
   "outputs": [
    {
     "data": {
      "image/png": "[encoded data removed]",
      "text/plain": [
       "<Figure size 432x288 with 1 Axes>"
      ]
     },
     "metadata": {
      "needs_background": "light"
     },
     "output_type": "display_data"
    }
   ],
   "source": [
    "plt.bar(positive_rate['area_name'],positive_rate['rate'])\n",
    "plt.xlabel('Area name')\n",
    "plt.ylabel('positive level')\n",
    "plt.title('Positive level in Different Areas')\n",
    "plt.xticks(rotation=50)\n",
    "plt.show()"
   ]
  },
  {
   "cell_type": "markdown",
   "metadata": {},
   "source": [
    "We can read from the sentiment analysis result that the highest positive level is Seattle, which is 73%. And we can see that the lowest is Las Vegas, which positive level is only 53.5%. For big cities like Seattle, Los Angeles, Miami, they both have over 60% positive level."
   ]
  },
  {
   "cell_type": "code",
   "execution_count": null,
   "metadata": {},
   "outputs": [],
   "source": []
  }
 ],
 "metadata": {
  "kernelspec": {
   "display_name": "Python 3",
   "language": "python",
   "name": "python3"
  },
  "language_info": {
   "codemirror_mode": {
    "name": "ipython",
    "version": 3
   },
   "file_extension": ".py",
   "mimetype": "text/x-python",
   "name": "python",
   "nbconvert_exporter": "python",
   "pygments_lexer": "ipython3",
   "version": "3.8.5"
  }
 },
 "nbformat": 4,
 "nbformat_minor": 4
}
