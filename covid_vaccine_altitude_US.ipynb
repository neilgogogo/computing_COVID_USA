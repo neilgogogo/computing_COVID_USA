{
 "cells": [
  {
   "cell_type": "code",
   "execution_count": 1,
   "metadata": {},
   "outputs": [],
   "source": [
    "import re\n",
    "import os\n",
    "import tweepy \n",
    "import seaborn as sns\n",
    "import numpy as np\n",
    "import pandas as pd\n",
    "from collections import Counter\n",
    "import matplotlib.pyplot as plt"
   ]
  },
  {
   "cell_type": "code",
   "execution_count": 2,
   "metadata": {},
   "outputs": [
    {
     "name": "stderr",
     "output_type": "stream",
     "text": [
      "[nltk_data] Downloading package stopwords to\n",
      "[nltk_data]     /Users/lihangqian/nltk_data...\n",
      "[nltk_data]   Package stopwords is already up-to-date!\n"
     ]
    }
   ],
   "source": [
    "import nltk\n",
    "from nltk.corpus import stopwords\n",
    "from nltk.tokenize import word_tokenize\n",
    "from sklearn.feature_extraction.text import TfidfVectorizer\n",
    "from sklearn.model_selection import train_test_split\n",
    "from nltk.stem import PorterStemmer\n",
    "from nltk.stem import WordNetLemmatizer\n",
    "# ML Libraries\n",
    "from sklearn.metrics import accuracy_score\n",
    "from sklearn.naive_bayes import MultinomialNB\n",
    "from sklearn.linear_model import LogisticRegression\n",
    "from sklearn.svm import SVC\n",
    "\n",
    "nltk.download('stopwords')\n",
    "# Global Parameters\n",
    "stop_words = set(stopwords.words('english'))"
   ]
  },
  {
   "cell_type": "code",
   "execution_count": 3,
   "metadata": {},
   "outputs": [],
   "source": [
    "API_key = \"d0cuiiTyhO4hR2iQipachjNMc\"   \n",
    "API_key_secret = \"PmGNOYpsuvPMMEKM5BtrHHbaOWxRrKFsJSd4ysjMlOBUCn8Xcc\"   \n",
    "access_token = \"1227382295839072256-lJdD1BrWt2tBQe3V19upiHHwtqIVKT\"   \n",
    "access_token_secret = \"1owiuW6iWa2DVUIb0VkwquYYolqD5jeYeJVn6IlQvd8iM\" \n",
    "auth = tweepy.OAuthHandler(API_key, API_key_secret)    \n",
    "auth.set_access_token(access_token, access_token_secret)   \n",
    "api = tweepy.API(auth,wait_on_rate_limit=True,wait_on_rate_limit_notify=True)"
   ]
  },
  {
   "cell_type": "code",
   "execution_count": 4,
   "metadata": {},
   "outputs": [],
   "source": [
    "def get_twitter_by_location(text_query,max_tweets,coordinates):\n",
    "    \n",
    "    # within a 50-mile radius of Las Vegas, NV (Lat 36.169786, Long -115.139858) that have the keyword Coronavirus.\n",
    "    #coordinates = '36.169786,-115.139858,100mi'\n",
    "    # Creation of query method using parameters\n",
    "    tweets = tweepy.Cursor(api.search, tweet_mode='extended', q = text_query, geocode = coordinates, count = 100).items(max_tweets)\n",
    "#   tweets = tweepy.Cursor(api.search, q = text_query, geocode = coordinates, count = 100).items(max_tweets)\n",
    "    # Pulling information from tweets iterable object\n",
    "    # Add or remove tweet information you want in the below list comprehension\n",
    "    tweets_list = [[tweet.full_text, tweet.created_at, tweet.id_str, tweet.user.name, tweet.user.screen_name, tweet.user.id_str, tweet.user.location, tweet.user.url, tweet.user.description, tweet.user.verified, tweet.user.followers_count, tweet.user.friends_count, tweet.user.favourites_count, tweet.user.statuses_count, tweet.user.listed_count, tweet.user.created_at, tweet.user.profile_image_url_https, tweet.user.default_profile, tweet.user.default_profile_image, tweet.lang] for tweet in tweets]\n",
    "    \n",
    "    # Creation of dataframe from tweets_list\n",
    "    # Did not include column names to simplify code\n",
    "    tweets_df = pd.DataFrame(tweets_list)\n",
    "    return tweets_df"
   ]
  },
  {
   "cell_type": "code",
   "execution_count": 5,
   "metadata": {},
   "outputs": [],
   "source": [
    "# hashtag about astrazeneca vaccine: \n",
    "text_query_astrazeneca='#astrazeneca OR #oxfordastrazeneca OR #astrazenecavaccine OR #astrazenecacovid OR #astrazenecavaccinated'"
   ]
  },
  {
   "cell_type": "code",
   "execution_count": 6,
   "metadata": {},
   "outputs": [],
   "source": [
    "# hashtag about pfizer vaccine: \n",
    "text_query_pfizer='#pfizer OR #pfizervaccine OR #PfizerGang OR #Pfizercovid OR pfizervaccinated OR #pfizerbiontech'"
   ]
  },
  {
   "cell_type": "code",
   "execution_count": 7,
   "metadata": {},
   "outputs": [],
   "source": [
    "# hashtag about Janssen vaccine: \n",
    "text_query_janssen='#janssen OR #janssenvaccine OR #janssencovid OR #johnsonandjohnson OR #janssenvaccinated OR #JohnsonAndJohnsonCOVIDVaccine'"
   ]
  },
  {
   "cell_type": "code",
   "execution_count": 8,
   "metadata": {},
   "outputs": [],
   "source": [
    "# hashtag about moderna vaccine: \n",
    "text_query_moderna='#moderna OR #modernavaccine OR #modernacovid OR #modernavaccinated'"
   ]
  },
  {
   "cell_type": "code",
   "execution_count": 9,
   "metadata": {},
   "outputs": [],
   "source": [
    "# hashtag about sputnik vaccine: \n",
    "text_query_sputnik='#sputnik OR #sputnikvaccine OR #sputnikcovid OR #SputnikV OR #sputnikvaccinated'"
   ]
  },
  {
   "cell_type": "code",
   "execution_count": 10,
   "metadata": {},
   "outputs": [],
   "source": [
    "#CoronaVac\n",
    "text_query_CoronaVac='#Sinovac OR #CoronaVac OR #SinovacBiotech OR #YinWeidong OR #CoronaVacCovid OR #CoronaVacvaccinated'"
   ]
  },
  {
   "cell_type": "code",
   "execution_count": 11,
   "metadata": {},
   "outputs": [],
   "source": [
    "max_tweets= 10000"
   ]
  },
  {
   "cell_type": "code",
   "execution_count": 12,
   "metadata": {},
   "outputs": [],
   "source": [
    "# tweets_df_astrazeneca =get_twitter_by_location(text_query_astrazeneca,max_tweets,'39.34748,-100.07561,1500mi')"
   ]
  },
  {
   "cell_type": "code",
   "execution_count": 17,
   "metadata": {},
   "outputs": [],
   "source": [
    "# len(tweets_df_astrazeneca)"
   ]
  },
  {
   "cell_type": "code",
   "execution_count": 18,
   "metadata": {},
   "outputs": [],
   "source": [
    "# tweets_df_pfizer =get_twitter_by_location(text_query_pfizer,max_tweets,'39.34748,-100.07561,1500mi')"
   ]
  },
  {
   "cell_type": "code",
   "execution_count": 19,
   "metadata": {},
   "outputs": [],
   "source": [
    "# tweets_df_janssen =get_twitter_by_location(text_query_janssen,max_tweets,'39.34748,-100.07561,1500mi')"
   ]
  },
  {
   "cell_type": "code",
   "execution_count": 20,
   "metadata": {},
   "outputs": [],
   "source": [
    "# tweets_df__moderna =get_twitter_by_location(text_query_moderna,max_tweets,'39.34748,-100.07561,1500mi')"
   ]
  },
  {
   "cell_type": "code",
   "execution_count": 21,
   "metadata": {},
   "outputs": [],
   "source": [
    "# tweets_df_sputnik =get_twitter_by_location(text_query_sputnik,max_tweets,'39.34748,-100.07561,1500mi')"
   ]
  },
  {
   "cell_type": "code",
   "execution_count": null,
   "metadata": {},
   "outputs": [],
   "source": []
  },
  {
   "cell_type": "code",
   "execution_count": 50,
   "metadata": {},
   "outputs": [],
   "source": [
    "def read_folder(file_dir):\n",
    "    all_file_list=os.listdir(file_dir)\n",
    "    for single_file in all_file_list:\n",
    "#         print(single_file)\n",
    "        #read one by one\n",
    "        single_data_frame=pd.read_csv(os.path.join(file_dir,single_file),header=None, names=['tweet.full_text', 'tweet.created_at', 'tweet.id_str', 'tweet.user.name', 'tweet.user.screen_name', 'tweet.user.id_str', 'tweet.user.location', 'tweet.user.url', 'tweet.user.description', 'tweet.user.verified', 'tweet.user.followers_count', 'tweet.user.friends_count', 'tweet.user.favourites_count', 'tweet.user.statuses_count', 'tweet.user.listed_count', 'tweet.user.created_at', 'tweet.user.profile_image_url_https', 'tweet.user.default_profile', 'tweet.user.default_profile_image', 'tweet.lang'],error_bad_lines=False)\n",
    "        if(single_file!='.DS_Store'):\n",
    "#             print(re.findall(r\"tweets_df_(.+?).csv\",single_file))\n",
    "            single_data_frame['vaccine_name']=re.findall(r\"tweets_df_(.+?).csv\",single_file)[0]\n",
    "            if single_file ==all_file_list[0]:\n",
    "                all_data_frame=single_data_frame\n",
    "            else:  #concat different dataframe    \n",
    "                 all_data_frame=pd.concat([all_data_frame, single_data_frame],ignore_index=True)\n",
    "    all_data_frame=all_data_frame[1:]\n",
    "    return all_data_frame"
   ]
  },
  {
   "cell_type": "code",
   "execution_count": 51,
   "metadata": {},
   "outputs": [
    {
     "data": {
      "text/html": [
       "<div>\n",
       "<style scoped>\n",
       "    .dataframe tbody tr th:only-of-type {\n",
       "        vertical-align: middle;\n",
       "    }\n",
       "\n",
       "    .dataframe tbody tr th {\n",
       "        vertical-align: top;\n",
       "    }\n",
       "\n",
       "    .dataframe thead th {\n",
       "        text-align: right;\n",
       "    }\n",
       "</style>\n",
       "<table border=\"1\" class=\"dataframe\">\n",
       "  <thead>\n",
       "    <tr style=\"text-align: right;\">\n",
       "      <th></th>\n",
       "      <th>tweet.full_text</th>\n",
       "      <th>tweet.created_at</th>\n",
       "      <th>tweet.id_str</th>\n",
       "      <th>tweet.user.name</th>\n",
       "      <th>tweet.user.screen_name</th>\n",
       "      <th>tweet.user.id_str</th>\n",
       "      <th>tweet.user.location</th>\n",
       "      <th>tweet.user.url</th>\n",
       "      <th>tweet.user.description</th>\n",
       "      <th>tweet.user.verified</th>\n",
       "      <th>...</th>\n",
       "      <th>tweet.user.friends_count</th>\n",
       "      <th>tweet.user.favourites_count</th>\n",
       "      <th>tweet.user.statuses_count</th>\n",
       "      <th>tweet.user.listed_count</th>\n",
       "      <th>tweet.user.created_at</th>\n",
       "      <th>tweet.user.profile_image_url_https</th>\n",
       "      <th>tweet.user.default_profile</th>\n",
       "      <th>tweet.user.default_profile_image</th>\n",
       "      <th>tweet.lang</th>\n",
       "      <th>vaccine_name</th>\n",
       "    </tr>\n",
       "  </thead>\n",
       "  <tbody>\n",
       "    <tr>\n",
       "      <th>1</th>\n",
       "      <td>Y creo que empieza a hacerme reacción la vacun...</td>\n",
       "      <td>2021-06-07 05:04:36</td>\n",
       "      <td>1401767024733339650</td>\n",
       "      <td>ALFRED'✈️❌</td>\n",
       "      <td>Alfredlt</td>\n",
       "      <td>124526609</td>\n",
       "      <td>Mexico City</td>\n",
       "      <td>https://t.co/Kt9ZzJ0Pep</td>\n",
       "      <td>1995 / ✈️ Aviation geek / HUGE Disney fan 🐭/ 🎤...</td>\n",
       "      <td>False</td>\n",
       "      <td>...</td>\n",
       "      <td>828</td>\n",
       "      <td>1920</td>\n",
       "      <td>84889</td>\n",
       "      <td>23</td>\n",
       "      <td>2010-03-19 17:52:43</td>\n",
       "      <td>https://pbs.twimg.com/profile_images/139082921...</td>\n",
       "      <td>False</td>\n",
       "      <td>False</td>\n",
       "      <td>es</td>\n",
       "      <td>janssen</td>\n",
       "    </tr>\n",
       "    <tr>\n",
       "      <th>2</th>\n",
       "      <td>Imagine the scandal if a non-tory PM were to w...</td>\n",
       "      <td>2021-06-07 03:43:40</td>\n",
       "      <td>1401746654643068931</td>\n",
       "      <td>Cash &amp; Carrie</td>\n",
       "      <td>pranerna</td>\n",
       "      <td>928720575064936448</td>\n",
       "      <td>Middle Earth</td>\n",
       "      <td>NaN</td>\n",
       "      <td>NaN</td>\n",
       "      <td>False</td>\n",
       "      <td>...</td>\n",
       "      <td>80</td>\n",
       "      <td>757</td>\n",
       "      <td>50</td>\n",
       "      <td>0</td>\n",
       "      <td>2017-11-09 20:26:54</td>\n",
       "      <td>https://pbs.twimg.com/profile_images/137931366...</td>\n",
       "      <td>True</td>\n",
       "      <td>False</td>\n",
       "      <td>en</td>\n",
       "      <td>janssen</td>\n",
       "    </tr>\n",
       "    <tr>\n",
       "      <th>3</th>\n",
       "      <td>RT @21WIRE: Government regulators: “Be rest as...</td>\n",
       "      <td>2021-06-07 03:37:57</td>\n",
       "      <td>1401745217531912196</td>\n",
       "      <td>latecomer</td>\n",
       "      <td>evenlatercomer</td>\n",
       "      <td>412773158</td>\n",
       "      <td>NaN</td>\n",
       "      <td>NaN</td>\n",
       "      <td>NaN</td>\n",
       "      <td>False</td>\n",
       "      <td>...</td>\n",
       "      <td>1395</td>\n",
       "      <td>173434</td>\n",
       "      <td>54555</td>\n",
       "      <td>4</td>\n",
       "      <td>2011-11-15 03:35:23</td>\n",
       "      <td>https://pbs.twimg.com/profile_images/139950542...</td>\n",
       "      <td>True</td>\n",
       "      <td>False</td>\n",
       "      <td>en</td>\n",
       "      <td>janssen</td>\n",
       "    </tr>\n",
       "    <tr>\n",
       "      <th>4</th>\n",
       "      <td>RT @21WIRE: Government regulators: “Be rest as...</td>\n",
       "      <td>2021-06-07 00:56:28</td>\n",
       "      <td>1401704577284587524</td>\n",
       "      <td>Metanoia</td>\n",
       "      <td>ConsciousEvolv8</td>\n",
       "      <td>3149734677</td>\n",
       "      <td>NaN</td>\n",
       "      <td>NaN</td>\n",
       "      <td>Naturopathic lifestyle. Sovereign independent ...</td>\n",
       "      <td>False</td>\n",
       "      <td>...</td>\n",
       "      <td>179</td>\n",
       "      <td>118</td>\n",
       "      <td>24739</td>\n",
       "      <td>48</td>\n",
       "      <td>2015-04-09 00:05:12</td>\n",
       "      <td>https://pbs.twimg.com/profile_images/757257298...</td>\n",
       "      <td>False</td>\n",
       "      <td>False</td>\n",
       "      <td>en</td>\n",
       "      <td>janssen</td>\n",
       "    </tr>\n",
       "    <tr>\n",
       "      <th>5</th>\n",
       "      <td>RT @mysteriouslymah: There will also be vaccin...</td>\n",
       "      <td>2021-06-07 00:55:45</td>\n",
       "      <td>1401704395906027522</td>\n",
       "      <td>Em🎲</td>\n",
       "      <td>_emilyfranco28_</td>\n",
       "      <td>2478968856</td>\n",
       "      <td>NaN</td>\n",
       "      <td>NaN</td>\n",
       "      <td>NaN</td>\n",
       "      <td>False</td>\n",
       "      <td>...</td>\n",
       "      <td>206</td>\n",
       "      <td>7139</td>\n",
       "      <td>2214</td>\n",
       "      <td>5</td>\n",
       "      <td>2014-05-05 23:43:46</td>\n",
       "      <td>https://pbs.twimg.com/profile_images/139381403...</td>\n",
       "      <td>True</td>\n",
       "      <td>False</td>\n",
       "      <td>en</td>\n",
       "      <td>janssen</td>\n",
       "    </tr>\n",
       "  </tbody>\n",
       "</table>\n",
       "<p>5 rows × 21 columns</p>\n",
       "</div>"
      ],
      "text/plain": [
       "                                     tweet.full_text     tweet.created_at  \\\n",
       "1  Y creo que empieza a hacerme reacción la vacun...  2021-06-07 05:04:36   \n",
       "2  Imagine the scandal if a non-tory PM were to w...  2021-06-07 03:43:40   \n",
       "3  RT @21WIRE: Government regulators: “Be rest as...  2021-06-07 03:37:57   \n",
       "4  RT @21WIRE: Government regulators: “Be rest as...  2021-06-07 00:56:28   \n",
       "5  RT @mysteriouslymah: There will also be vaccin...  2021-06-07 00:55:45   \n",
       "\n",
       "          tweet.id_str tweet.user.name tweet.user.screen_name  \\\n",
       "1  1401767024733339650      ALFRED'✈️❌               Alfredlt   \n",
       "2  1401746654643068931   Cash & Carrie               pranerna   \n",
       "3  1401745217531912196       latecomer         evenlatercomer   \n",
       "4  1401704577284587524        Metanoia        ConsciousEvolv8   \n",
       "5  1401704395906027522             Em🎲        _emilyfranco28_   \n",
       "\n",
       "    tweet.user.id_str tweet.user.location           tweet.user.url  \\\n",
       "1           124526609         Mexico City  https://t.co/Kt9ZzJ0Pep   \n",
       "2  928720575064936448        Middle Earth                      NaN   \n",
       "3           412773158                 NaN                      NaN   \n",
       "4          3149734677                 NaN                      NaN   \n",
       "5          2478968856                 NaN                      NaN   \n",
       "\n",
       "                              tweet.user.description  tweet.user.verified  \\\n",
       "1  1995 / ✈️ Aviation geek / HUGE Disney fan 🐭/ 🎤...                False   \n",
       "2                                                NaN                False   \n",
       "3                                                NaN                False   \n",
       "4  Naturopathic lifestyle. Sovereign independent ...                False   \n",
       "5                                                NaN                False   \n",
       "\n",
       "   ...  tweet.user.friends_count  tweet.user.favourites_count  \\\n",
       "1  ...                       828                         1920   \n",
       "2  ...                        80                          757   \n",
       "3  ...                      1395                       173434   \n",
       "4  ...                       179                          118   \n",
       "5  ...                       206                         7139   \n",
       "\n",
       "   tweet.user.statuses_count  tweet.user.listed_count  tweet.user.created_at  \\\n",
       "1                      84889                       23    2010-03-19 17:52:43   \n",
       "2                         50                        0    2017-11-09 20:26:54   \n",
       "3                      54555                        4    2011-11-15 03:35:23   \n",
       "4                      24739                       48    2015-04-09 00:05:12   \n",
       "5                       2214                        5    2014-05-05 23:43:46   \n",
       "\n",
       "                  tweet.user.profile_image_url_https  \\\n",
       "1  https://pbs.twimg.com/profile_images/139082921...   \n",
       "2  https://pbs.twimg.com/profile_images/137931366...   \n",
       "3  https://pbs.twimg.com/profile_images/139950542...   \n",
       "4  https://pbs.twimg.com/profile_images/757257298...   \n",
       "5  https://pbs.twimg.com/profile_images/139381403...   \n",
       "\n",
       "  tweet.user.default_profile  tweet.user.default_profile_image  tweet.lang  \\\n",
       "1                      False                             False          es   \n",
       "2                       True                             False          en   \n",
       "3                       True                             False          en   \n",
       "4                      False                             False          en   \n",
       "5                       True                             False          en   \n",
       "\n",
       "  vaccine_name  \n",
       "1      janssen  \n",
       "2      janssen  \n",
       "3      janssen  \n",
       "4      janssen  \n",
       "5      janssen  \n",
       "\n",
       "[5 rows x 21 columns]"
      ]
     },
     "execution_count": 51,
     "metadata": {},
     "output_type": "execute_result"
    }
   ],
   "source": [
    "tweets_data_vaccine=read_folder('vaccine_')\n",
    "tweets_data_vaccine.head()"
   ]
  },
  {
   "cell_type": "code",
   "execution_count": 52,
   "metadata": {},
   "outputs": [
    {
     "data": {
      "text/plain": [
       "14392"
      ]
     },
     "execution_count": 52,
     "metadata": {},
     "output_type": "execute_result"
    }
   ],
   "source": [
    "len(tweets_data_vaccine)"
   ]
  },
  {
   "cell_type": "code",
   "execution_count": 53,
   "metadata": {},
   "outputs": [],
   "source": [
    "tweets_data_vaccine_count=tweets_data_vaccine[['vaccine_name','tweet.full_text']].groupby('vaccine_name').count().reset_index()"
   ]
  },
  {
   "cell_type": "code",
   "execution_count": 54,
   "metadata": {},
   "outputs": [],
   "source": [
    "tweets_data_vaccine_count.columns=['vaccine_name','count']"
   ]
  },
  {
   "cell_type": "code",
   "execution_count": 55,
   "metadata": {},
   "outputs": [],
   "source": [
    "tweets_data_vaccine_count=tweets_data_vaccine_count.sort_values(by='count', ascending=False)"
   ]
  },
  {
   "cell_type": "code",
   "execution_count": 56,
   "metadata": {},
   "outputs": [
    {
     "data": {
      "text/html": [
       "<div>\n",
       "<style scoped>\n",
       "    .dataframe tbody tr th:only-of-type {\n",
       "        vertical-align: middle;\n",
       "    }\n",
       "\n",
       "    .dataframe tbody tr th {\n",
       "        vertical-align: top;\n",
       "    }\n",
       "\n",
       "    .dataframe thead th {\n",
       "        text-align: right;\n",
       "    }\n",
       "</style>\n",
       "<table border=\"1\" class=\"dataframe\">\n",
       "  <thead>\n",
       "    <tr style=\"text-align: right;\">\n",
       "      <th></th>\n",
       "      <th>vaccine_name</th>\n",
       "      <th>count</th>\n",
       "    </tr>\n",
       "  </thead>\n",
       "  <tbody>\n",
       "    <tr>\n",
       "      <th>4</th>\n",
       "      <td>pfizer</td>\n",
       "      <td>5374</td>\n",
       "    </tr>\n",
       "    <tr>\n",
       "      <th>1</th>\n",
       "      <td>astrazeneca</td>\n",
       "      <td>3588</td>\n",
       "    </tr>\n",
       "    <tr>\n",
       "      <th>5</th>\n",
       "      <td>sputnik</td>\n",
       "      <td>2450</td>\n",
       "    </tr>\n",
       "    <tr>\n",
       "      <th>3</th>\n",
       "      <td>moderna</td>\n",
       "      <td>1490</td>\n",
       "    </tr>\n",
       "    <tr>\n",
       "      <th>0</th>\n",
       "      <td>CoronaVac</td>\n",
       "      <td>799</td>\n",
       "    </tr>\n",
       "    <tr>\n",
       "      <th>2</th>\n",
       "      <td>janssen</td>\n",
       "      <td>691</td>\n",
       "    </tr>\n",
       "  </tbody>\n",
       "</table>\n",
       "</div>"
      ],
      "text/plain": [
       "  vaccine_name  count\n",
       "4       pfizer   5374\n",
       "1  astrazeneca   3588\n",
       "5      sputnik   2450\n",
       "3      moderna   1490\n",
       "0    CoronaVac    799\n",
       "2      janssen    691"
      ]
     },
     "execution_count": 56,
     "metadata": {},
     "output_type": "execute_result"
    }
   ],
   "source": [
    "tweets_data_vaccine_count"
   ]
  },
  {
   "cell_type": "code",
   "execution_count": 57,
   "metadata": {},
   "outputs": [
    {
     "data": {
      "image/png": "[encoded data removed]",
      "text/plain": [
       "<Figure size 432x288 with 1 Axes>"
      ]
     },
     "metadata": {
      "needs_background": "light"
     },
     "output_type": "display_data"
    }
   ],
   "source": [
    "font = {'family' : 'Times New Roman',\n",
    "'weight' : 'normal',\n",
    "'size'   : 16,\n",
    "}\n",
    "plt.bar(tweets_data_vaccine_count['vaccine_name'],tweets_data_vaccine_count['count'],color='black')\n",
    "plt.xlabel('vaccine_name',font)\n",
    "plt.ylabel('Collected tweet number',font)\n",
    "plt.title('Collected Tweet Number in Different Vaciine',font)\n",
    "plt.xticks(rotation=50)\n",
    "plt.show()"
   ]
  },
  {
   "cell_type": "code",
   "execution_count": 58,
   "metadata": {},
   "outputs": [
    {
     "name": "stdout",
     "output_type": "stream",
     "text": [
      "The total percentage of the collected English Tweets is: 45.98%\n"
     ]
    }
   ],
   "source": [
    "print('The total percentage of the collected English Tweets is: {:.2%}'.format(tweets_data_vaccine['tweet.lang'].value_counts()['en']/tweets_data_vaccine['tweet.lang'].value_counts().sum()))"
   ]
  },
  {
   "cell_type": "markdown",
   "metadata": {},
   "source": [
    "### data pro-processing"
   ]
  },
  {
   "cell_type": "code",
   "execution_count": 59,
   "metadata": {},
   "outputs": [],
   "source": [
    "tweets_data_vaccine_1=tweets_data_vaccine[tweets_data_vaccine['tweet.lang']=='en']"
   ]
  },
  {
   "cell_type": "code",
   "execution_count": 60,
   "metadata": {},
   "outputs": [
    {
     "data": {
      "text/plain": [
       "6618"
      ]
     },
     "execution_count": 60,
     "metadata": {},
     "output_type": "execute_result"
    }
   ],
   "source": [
    "len(tweets_data_vaccine_1)"
   ]
  },
  {
   "cell_type": "code",
   "execution_count": 61,
   "metadata": {},
   "outputs": [],
   "source": [
    "tweets_data_vaccine_count_1=tweets_data_vaccine_1[['vaccine_name','tweet.full_text']].groupby('vaccine_name').count().reset_index()"
   ]
  },
  {
   "cell_type": "code",
   "execution_count": 62,
   "metadata": {},
   "outputs": [],
   "source": [
    "tweets_data_vaccine_count_1.columns=['vaccine_name','count']"
   ]
  },
  {
   "cell_type": "code",
   "execution_count": 63,
   "metadata": {},
   "outputs": [],
   "source": [
    "tweets_data_vaccine_count_1=tweets_data_vaccine_count_1.sort_values(by='count', ascending=False)"
   ]
  },
  {
   "cell_type": "code",
   "execution_count": 64,
   "metadata": {},
   "outputs": [
    {
     "data": {
      "text/html": [
       "<div>\n",
       "<style scoped>\n",
       "    .dataframe tbody tr th:only-of-type {\n",
       "        vertical-align: middle;\n",
       "    }\n",
       "\n",
       "    .dataframe tbody tr th {\n",
       "        vertical-align: top;\n",
       "    }\n",
       "\n",
       "    .dataframe thead th {\n",
       "        text-align: right;\n",
       "    }\n",
       "</style>\n",
       "<table border=\"1\" class=\"dataframe\">\n",
       "  <thead>\n",
       "    <tr style=\"text-align: right;\">\n",
       "      <th></th>\n",
       "      <th>vaccine_name</th>\n",
       "      <th>count</th>\n",
       "    </tr>\n",
       "  </thead>\n",
       "  <tbody>\n",
       "    <tr>\n",
       "      <th>4</th>\n",
       "      <td>pfizer</td>\n",
       "      <td>3371</td>\n",
       "    </tr>\n",
       "    <tr>\n",
       "      <th>3</th>\n",
       "      <td>moderna</td>\n",
       "      <td>1307</td>\n",
       "    </tr>\n",
       "    <tr>\n",
       "      <th>1</th>\n",
       "      <td>astrazeneca</td>\n",
       "      <td>1190</td>\n",
       "    </tr>\n",
       "    <tr>\n",
       "      <th>2</th>\n",
       "      <td>janssen</td>\n",
       "      <td>400</td>\n",
       "    </tr>\n",
       "    <tr>\n",
       "      <th>5</th>\n",
       "      <td>sputnik</td>\n",
       "      <td>215</td>\n",
       "    </tr>\n",
       "    <tr>\n",
       "      <th>0</th>\n",
       "      <td>CoronaVac</td>\n",
       "      <td>135</td>\n",
       "    </tr>\n",
       "  </tbody>\n",
       "</table>\n",
       "</div>"
      ],
      "text/plain": [
       "  vaccine_name  count\n",
       "4       pfizer   3371\n",
       "3      moderna   1307\n",
       "1  astrazeneca   1190\n",
       "2      janssen    400\n",
       "5      sputnik    215\n",
       "0    CoronaVac    135"
      ]
     },
     "execution_count": 64,
     "metadata": {},
     "output_type": "execute_result"
    }
   ],
   "source": [
    "tweets_data_vaccine_count_1"
   ]
  },
  {
   "cell_type": "code",
   "execution_count": 65,
   "metadata": {},
   "outputs": [
    {
     "data": {
      "image/png": "[encoded data removed]",
      "text/plain": [
       "<Figure size 432x288 with 1 Axes>"
      ]
     },
     "metadata": {
      "needs_background": "light"
     },
     "output_type": "display_data"
    }
   ],
   "source": [
    "font = {'family' : 'Times New Roman',\n",
    "'weight' : 'normal',\n",
    "'size'   : 16,\n",
    "}\n",
    "plt.bar(tweets_data_vaccine_count_1['vaccine_name'],tweets_data_vaccine_count_1['count'],color='black')\n",
    "plt.xlabel('vaccine_name',font)\n",
    "plt.ylabel('Collected tweet number',font)\n",
    "plt.title('Collected Tweet Number in Different Vaciine',font)\n",
    "plt.xticks(rotation=50)\n",
    "plt.show()"
   ]
  },
  {
   "cell_type": "code",
   "execution_count": 66,
   "metadata": {},
   "outputs": [],
   "source": [
    "def preprocess_tweet_text(tweet):\n",
    "#     set the tweet to lowercase\n",
    "    tweet=tweet.lower()\n",
    "#     Filter URL links\n",
    "    tweet=re.sub(r\"http\\S+|www\\S+|https\\S+\", '', tweet, flags=re.MULTILINE)\n",
    "# Remove user @ references and '#' from tweet\n",
    "    tweet = re.sub(r'\\@\\w+|\\#','', tweet)\n",
    "# Filter emoticons\n",
    "    emoj = re.compile(\"[\"\n",
    "        u\"\\U0001F600-\\U0001F64F\"  # emoticons\n",
    "        u\"\\U0001F300-\\U0001F5FF\"  # symbols & pictographs\n",
    "        u\"\\U0001F680-\\U0001F6FF\"  # transport & map symbols\n",
    "        u\"\\U0001F1E0-\\U0001F1FF\"  # flags (iOS)\n",
    "        u\"\\U00002500-\\U00002BEF\"  # chinese char\n",
    "        u\"\\U00002702-\\U000027B0\"\n",
    "        u\"\\U00002702-\\U000027B0\"\n",
    "        u\"\\U000024C2-\\U0001F251\"\n",
    "        u\"\\U0001f926-\\U0001f937\"\n",
    "        u\"\\U00010000-\\U0010ffff\"\n",
    "        u\"\\u2640-\\u2642\" \n",
    "        u\"\\u2600-\\u2B55\"\n",
    "        u\"\\u200d\"\n",
    "        u\"\\u23cf\"\n",
    "        u\"\\u23e9\"\n",
    "        u\"\\u231a\"\n",
    "        u\"\\ufe0f\"  # dingbats\n",
    "        u\"\\u3030\"\n",
    "                      \"]+\", re.UNICODE)\n",
    "    tweet=re.sub(emoj, '', tweet)    \n",
    "#     Remove non-alphabetic characters \n",
    "    tweet =re.sub(\"[^a-zA-Z]+\", \" \", tweet)\n",
    "#     Break sentences into words.\n",
    "    tweet=tweet.split()\n",
    "# Lemmatization: converting a word to its base form\n",
    "    lemmatizer = WordNetLemmatizer()\n",
    "    tweet=[lemmatizer.lemmatize(word) for word in tweet]\n",
    "# Remove common English words\n",
    "    tweet=[word for word in tweet if not word in stop_words]\n",
    "#   Remove short words (length strictly less than 3 characters)\n",
    "    tweet=[word for word in tweet if len(word) > 2]\n",
    "    \n",
    "    return \" \".join(tweet)\n",
    "#     return tweet"
   ]
  },
  {
   "cell_type": "code",
   "execution_count": 67,
   "metadata": {},
   "outputs": [],
   "source": [
    "def preprocess_tweet_text_list(tweet):\n",
    "#     set the tweet to lowercase\n",
    "    tweet=tweet.lower()\n",
    "#     Filter URL links\n",
    "    tweet=re.sub(r\"http\\S+|www\\S+|https\\S+\", '', tweet, flags=re.MULTILINE)\n",
    "# Remove user @ references and '#' from tweet\n",
    "    tweet = re.sub(r'\\@\\w+|\\#','', tweet)\n",
    "# Filter emoticons\n",
    "    emoj = re.compile(\"[\"\n",
    "        u\"\\U0001F600-\\U0001F64F\"  # emoticons\n",
    "        u\"\\U0001F300-\\U0001F5FF\"  # symbols & pictographs\n",
    "        u\"\\U0001F680-\\U0001F6FF\"  # transport & map symbols\n",
    "        u\"\\U0001F1E0-\\U0001F1FF\"  # flags (iOS)\n",
    "        u\"\\U00002500-\\U00002BEF\"  # chinese char\n",
    "        u\"\\U00002702-\\U000027B0\"\n",
    "        u\"\\U00002702-\\U000027B0\"\n",
    "        u\"\\U000024C2-\\U0001F251\"\n",
    "        u\"\\U0001f926-\\U0001f937\"\n",
    "        u\"\\U00010000-\\U0010ffff\"\n",
    "        u\"\\u2640-\\u2642\" \n",
    "        u\"\\u2600-\\u2B55\"\n",
    "        u\"\\u200d\"\n",
    "        u\"\\u23cf\"\n",
    "        u\"\\u23e9\"\n",
    "        u\"\\u231a\"\n",
    "        u\"\\ufe0f\"  # dingbats\n",
    "        u\"\\u3030\"\n",
    "                      \"]+\", re.UNICODE)\n",
    "    tweet=re.sub(emoj, '', tweet)    \n",
    "#     Remove non-alphabetic characters \n",
    "    tweet =re.sub(\"[^a-zA-Z]+\", \" \", tweet)\n",
    "#     Break sentences into words.\n",
    "    tweet=tweet.split()\n",
    "# Lemmatization: converting a word to its base form\n",
    "    lemmatizer = WordNetLemmatizer()\n",
    "    tweet=[lemmatizer.lemmatize(word) for word in tweet]\n",
    "# Remove common English words\n",
    "    tweet=[word for word in tweet if not word in stop_words]\n",
    "#   Remove short words (length strictly less than 3 characters)\n",
    "    tweet=[word for word in tweet if len(word) > 2]\n",
    "    \n",
    "#     return \" \".join(tweet)\n",
    "    return tweet"
   ]
  },
  {
   "cell_type": "code",
   "execution_count": 68,
   "metadata": {},
   "outputs": [
    {
     "name": "stderr",
     "output_type": "stream",
     "text": [
      "<ipython-input-68-456b70392ed7>:1: SettingWithCopyWarning: \n",
      "A value is trying to be set on a copy of a slice from a DataFrame.\n",
      "Try using .loc[row_indexer,col_indexer] = value instead\n",
      "\n",
      "See the caveats in the documentation: https://pandas.pydata.org/pandas-docs/stable/user_guide/indexing.html#returning-a-view-versus-a-copy\n",
      "  tweets_data_vaccine_1['tweet.full_text_list']=tweets_data_vaccine_1['tweet.full_text'].apply(lambda x:preprocess_tweet_text_list(x))\n",
      "<ipython-input-68-456b70392ed7>:2: SettingWithCopyWarning: \n",
      "A value is trying to be set on a copy of a slice from a DataFrame.\n",
      "Try using .loc[row_indexer,col_indexer] = value instead\n",
      "\n",
      "See the caveats in the documentation: https://pandas.pydata.org/pandas-docs/stable/user_guide/indexing.html#returning-a-view-versus-a-copy\n",
      "  tweets_data_vaccine_1['tweet.full_text']=tweets_data_vaccine_1['tweet.full_text'].apply(lambda x:preprocess_tweet_text(x))\n"
     ]
    }
   ],
   "source": [
    "tweets_data_vaccine_1['tweet.full_text_list']=tweets_data_vaccine_1['tweet.full_text'].apply(lambda x:preprocess_tweet_text_list(x))\n",
    "tweets_data_vaccine_1['tweet.full_text']=tweets_data_vaccine_1['tweet.full_text'].apply(lambda x:preprocess_tweet_text(x))"
   ]
  },
  {
   "cell_type": "code",
   "execution_count": 69,
   "metadata": {},
   "outputs": [
    {
     "data": {
      "text/html": [
       "<div>\n",
       "<style scoped>\n",
       "    .dataframe tbody tr th:only-of-type {\n",
       "        vertical-align: middle;\n",
       "    }\n",
       "\n",
       "    .dataframe tbody tr th {\n",
       "        vertical-align: top;\n",
       "    }\n",
       "\n",
       "    .dataframe thead th {\n",
       "        text-align: right;\n",
       "    }\n",
       "</style>\n",
       "<table border=\"1\" class=\"dataframe\">\n",
       "  <thead>\n",
       "    <tr style=\"text-align: right;\">\n",
       "      <th></th>\n",
       "      <th>tweet.full_text</th>\n",
       "      <th>tweet.created_at</th>\n",
       "      <th>tweet.id_str</th>\n",
       "      <th>tweet.user.name</th>\n",
       "      <th>tweet.user.screen_name</th>\n",
       "      <th>tweet.user.id_str</th>\n",
       "      <th>tweet.user.location</th>\n",
       "      <th>tweet.user.url</th>\n",
       "      <th>tweet.user.description</th>\n",
       "      <th>tweet.user.verified</th>\n",
       "      <th>...</th>\n",
       "      <th>tweet.user.favourites_count</th>\n",
       "      <th>tweet.user.statuses_count</th>\n",
       "      <th>tweet.user.listed_count</th>\n",
       "      <th>tweet.user.created_at</th>\n",
       "      <th>tweet.user.profile_image_url_https</th>\n",
       "      <th>tweet.user.default_profile</th>\n",
       "      <th>tweet.user.default_profile_image</th>\n",
       "      <th>tweet.lang</th>\n",
       "      <th>vaccine_name</th>\n",
       "      <th>tweet.full_text_list</th>\n",
       "    </tr>\n",
       "  </thead>\n",
       "  <tbody>\n",
       "    <tr>\n",
       "      <th>2</th>\n",
       "      <td>imagine scandal non tory wed matter week death...</td>\n",
       "      <td>2021-06-07 03:43:40</td>\n",
       "      <td>1401746654643068931</td>\n",
       "      <td>Cash &amp; Carrie</td>\n",
       "      <td>pranerna</td>\n",
       "      <td>928720575064936448</td>\n",
       "      <td>Middle Earth</td>\n",
       "      <td>NaN</td>\n",
       "      <td>NaN</td>\n",
       "      <td>False</td>\n",
       "      <td>...</td>\n",
       "      <td>757</td>\n",
       "      <td>50</td>\n",
       "      <td>0</td>\n",
       "      <td>2017-11-09 20:26:54</td>\n",
       "      <td>https://pbs.twimg.com/profile_images/137931366...</td>\n",
       "      <td>True</td>\n",
       "      <td>False</td>\n",
       "      <td>en</td>\n",
       "      <td>janssen</td>\n",
       "      <td>[imagine, scandal, non, tory, wed, matter, wee...</td>\n",
       "    </tr>\n",
       "    <tr>\n",
       "      <th>3</th>\n",
       "      <td>government regulator rest assured done rigorou...</td>\n",
       "      <td>2021-06-07 03:37:57</td>\n",
       "      <td>1401745217531912196</td>\n",
       "      <td>latecomer</td>\n",
       "      <td>evenlatercomer</td>\n",
       "      <td>412773158</td>\n",
       "      <td>NaN</td>\n",
       "      <td>NaN</td>\n",
       "      <td>NaN</td>\n",
       "      <td>False</td>\n",
       "      <td>...</td>\n",
       "      <td>173434</td>\n",
       "      <td>54555</td>\n",
       "      <td>4</td>\n",
       "      <td>2011-11-15 03:35:23</td>\n",
       "      <td>https://pbs.twimg.com/profile_images/139950542...</td>\n",
       "      <td>True</td>\n",
       "      <td>False</td>\n",
       "      <td>en</td>\n",
       "      <td>janssen</td>\n",
       "      <td>[government, regulator, rest, assured, done, r...</td>\n",
       "    </tr>\n",
       "    <tr>\n",
       "      <th>4</th>\n",
       "      <td>government regulator rest assured done rigorou...</td>\n",
       "      <td>2021-06-07 00:56:28</td>\n",
       "      <td>1401704577284587524</td>\n",
       "      <td>Metanoia</td>\n",
       "      <td>ConsciousEvolv8</td>\n",
       "      <td>3149734677</td>\n",
       "      <td>NaN</td>\n",
       "      <td>NaN</td>\n",
       "      <td>Naturopathic lifestyle. Sovereign independent ...</td>\n",
       "      <td>False</td>\n",
       "      <td>...</td>\n",
       "      <td>118</td>\n",
       "      <td>24739</td>\n",
       "      <td>48</td>\n",
       "      <td>2015-04-09 00:05:12</td>\n",
       "      <td>https://pbs.twimg.com/profile_images/757257298...</td>\n",
       "      <td>False</td>\n",
       "      <td>False</td>\n",
       "      <td>en</td>\n",
       "      <td>janssen</td>\n",
       "      <td>[government, regulator, rest, assured, done, r...</td>\n",
       "    </tr>\n",
       "    <tr>\n",
       "      <th>5</th>\n",
       "      <td>also vaccine june edison high school indoor so...</td>\n",
       "      <td>2021-06-07 00:55:45</td>\n",
       "      <td>1401704395906027522</td>\n",
       "      <td>Em🎲</td>\n",
       "      <td>_emilyfranco28_</td>\n",
       "      <td>2478968856</td>\n",
       "      <td>NaN</td>\n",
       "      <td>NaN</td>\n",
       "      <td>NaN</td>\n",
       "      <td>False</td>\n",
       "      <td>...</td>\n",
       "      <td>7139</td>\n",
       "      <td>2214</td>\n",
       "      <td>5</td>\n",
       "      <td>2014-05-05 23:43:46</td>\n",
       "      <td>https://pbs.twimg.com/profile_images/139381403...</td>\n",
       "      <td>True</td>\n",
       "      <td>False</td>\n",
       "      <td>en</td>\n",
       "      <td>janssen</td>\n",
       "      <td>[also, vaccine, june, edison, high, school, in...</td>\n",
       "    </tr>\n",
       "    <tr>\n",
       "      <th>6</th>\n",
       "      <td>also vaccine june edison high school indoor so...</td>\n",
       "      <td>2021-06-07 00:36:23</td>\n",
       "      <td>1401699524339326977</td>\n",
       "      <td>mahhh</td>\n",
       "      <td>mysteriouslymah</td>\n",
       "      <td>904266335135293440</td>\n",
       "      <td>California, USA</td>\n",
       "      <td>NaN</td>\n",
       "      <td>progress not perfection.                      ...</td>\n",
       "      <td>False</td>\n",
       "      <td>...</td>\n",
       "      <td>13413</td>\n",
       "      <td>2482</td>\n",
       "      <td>0</td>\n",
       "      <td>2017-09-03 08:54:29</td>\n",
       "      <td>https://pbs.twimg.com/profile_images/140013422...</td>\n",
       "      <td>True</td>\n",
       "      <td>False</td>\n",
       "      <td>en</td>\n",
       "      <td>janssen</td>\n",
       "      <td>[also, vaccine, june, edison, high, school, in...</td>\n",
       "    </tr>\n",
       "  </tbody>\n",
       "</table>\n",
       "<p>5 rows × 22 columns</p>\n",
       "</div>"
      ],
      "text/plain": [
       "                                     tweet.full_text     tweet.created_at  \\\n",
       "2  imagine scandal non tory wed matter week death...  2021-06-07 03:43:40   \n",
       "3  government regulator rest assured done rigorou...  2021-06-07 03:37:57   \n",
       "4  government regulator rest assured done rigorou...  2021-06-07 00:56:28   \n",
       "5  also vaccine june edison high school indoor so...  2021-06-07 00:55:45   \n",
       "6  also vaccine june edison high school indoor so...  2021-06-07 00:36:23   \n",
       "\n",
       "          tweet.id_str tweet.user.name tweet.user.screen_name  \\\n",
       "2  1401746654643068931   Cash & Carrie               pranerna   \n",
       "3  1401745217531912196       latecomer         evenlatercomer   \n",
       "4  1401704577284587524        Metanoia        ConsciousEvolv8   \n",
       "5  1401704395906027522             Em🎲        _emilyfranco28_   \n",
       "6  1401699524339326977           mahhh        mysteriouslymah   \n",
       "\n",
       "    tweet.user.id_str tweet.user.location tweet.user.url  \\\n",
       "2  928720575064936448        Middle Earth            NaN   \n",
       "3           412773158                 NaN            NaN   \n",
       "4          3149734677                 NaN            NaN   \n",
       "5          2478968856                 NaN            NaN   \n",
       "6  904266335135293440     California, USA            NaN   \n",
       "\n",
       "                              tweet.user.description  tweet.user.verified  \\\n",
       "2                                                NaN                False   \n",
       "3                                                NaN                False   \n",
       "4  Naturopathic lifestyle. Sovereign independent ...                False   \n",
       "5                                                NaN                False   \n",
       "6  progress not perfection.                      ...                False   \n",
       "\n",
       "   ...  tweet.user.favourites_count  tweet.user.statuses_count  \\\n",
       "2  ...                          757                         50   \n",
       "3  ...                       173434                      54555   \n",
       "4  ...                          118                      24739   \n",
       "5  ...                         7139                       2214   \n",
       "6  ...                        13413                       2482   \n",
       "\n",
       "   tweet.user.listed_count  tweet.user.created_at  \\\n",
       "2                        0    2017-11-09 20:26:54   \n",
       "3                        4    2011-11-15 03:35:23   \n",
       "4                       48    2015-04-09 00:05:12   \n",
       "5                        5    2014-05-05 23:43:46   \n",
       "6                        0    2017-09-03 08:54:29   \n",
       "\n",
       "                  tweet.user.profile_image_url_https  \\\n",
       "2  https://pbs.twimg.com/profile_images/137931366...   \n",
       "3  https://pbs.twimg.com/profile_images/139950542...   \n",
       "4  https://pbs.twimg.com/profile_images/757257298...   \n",
       "5  https://pbs.twimg.com/profile_images/139381403...   \n",
       "6  https://pbs.twimg.com/profile_images/140013422...   \n",
       "\n",
       "  tweet.user.default_profile tweet.user.default_profile_image  tweet.lang  \\\n",
       "2                       True                            False          en   \n",
       "3                       True                            False          en   \n",
       "4                      False                            False          en   \n",
       "5                       True                            False          en   \n",
       "6                       True                            False          en   \n",
       "\n",
       "   vaccine_name                               tweet.full_text_list  \n",
       "2       janssen  [imagine, scandal, non, tory, wed, matter, wee...  \n",
       "3       janssen  [government, regulator, rest, assured, done, r...  \n",
       "4       janssen  [government, regulator, rest, assured, done, r...  \n",
       "5       janssen  [also, vaccine, june, edison, high, school, in...  \n",
       "6       janssen  [also, vaccine, june, edison, high, school, in...  \n",
       "\n",
       "[5 rows x 22 columns]"
      ]
     },
     "execution_count": 69,
     "metadata": {},
     "output_type": "execute_result"
    }
   ],
   "source": [
    "tweets_data_vaccine_1.head()"
   ]
  },
  {
   "cell_type": "markdown",
   "metadata": {},
   "source": [
    "### sentiment analysis on Twitter"
   ]
  },
  {
   "cell_type": "code",
   "execution_count": 70,
   "metadata": {},
   "outputs": [],
   "source": [
    "def load_dataset(filename, cols):\n",
    "    dataset = pd.read_csv(filename, encoding='latin-1')\n",
    "    dataset.columns = cols\n",
    "    return dataset"
   ]
  },
  {
   "cell_type": "code",
   "execution_count": 71,
   "metadata": {},
   "outputs": [],
   "source": [
    "def remove_unwanted_cols(dataset, cols):\n",
    "    for col in cols:\n",
    "        del dataset[col]\n",
    "    return dataset"
   ]
  },
  {
   "cell_type": "code",
   "execution_count": 72,
   "metadata": {},
   "outputs": [],
   "source": [
    "# implement vectorization using tf-idf\n",
    "def get_feature_vector(train_fit):\n",
    "    vector = TfidfVectorizer(sublinear_tf=True)\n",
    "    vector.fit(train_fit)\n",
    "    return vector"
   ]
  },
  {
   "cell_type": "code",
   "execution_count": 73,
   "metadata": {},
   "outputs": [],
   "source": [
    "def int_to_string(sentiment):\n",
    "    if sentiment == 0:\n",
    "        return \"Negative\"\n",
    "    elif sentiment == 2:\n",
    "        return \"Neutral\"\n",
    "    else:\n",
    "        return \"Positive\""
   ]
  },
  {
   "cell_type": "code",
   "execution_count": 74,
   "metadata": {},
   "outputs": [],
   "source": [
    "# Load dataset\n",
    "dataset = load_dataset(\"training.csv\", ['target', 't_id', 'created_at', 'query', 'user', 'text'])\n",
    "# Remove unwanted columns from dataset\n",
    "dataset = remove_unwanted_cols(dataset, ['t_id', 'created_at', 'query', 'user'])\n",
    "#Preprocess data\n",
    "dataset.text = dataset['text'].apply(preprocess_tweet_text)"
   ]
  },
  {
   "cell_type": "code",
   "execution_count": 75,
   "metadata": {},
   "outputs": [
    {
     "name": "stdout",
     "output_type": "stream",
     "text": [
      "0.761440625\n",
      "0.777440625\n"
     ]
    }
   ],
   "source": [
    "# Split dataset into Train, Test\n",
    "# Same tf vector will be used for Testing sentiments on unseen trending data\n",
    "tf_vector = get_feature_vector(np.array(dataset.iloc[:, 1]).ravel())\n",
    "X = tf_vector.transform(np.array(dataset.iloc[:, 1]).ravel())\n",
    "y = np.array(dataset.iloc[:, 0]).ravel()\n",
    "X_train, X_test, y_train, y_test = train_test_split(X, y, test_size=0.2, random_state=30)\n",
    "\n",
    "# Training Naive Bayes model\n",
    "NB_model = MultinomialNB()\n",
    "NB_model.fit(X_train, y_train)\n",
    "y_predict_nb = NB_model.predict(X_test)\n",
    "print(accuracy_score(y_test, y_predict_nb))\n",
    "\n",
    "# Training Logistics Regression model\n",
    "LR_model = LogisticRegression(solver='lbfgs',max_iter=10000)\n",
    "LR_model.fit(X_train, y_train)\n",
    "y_predict_lr = LR_model.predict(X_test)\n",
    "print(accuracy_score(y_test, y_predict_lr))"
   ]
  },
  {
   "cell_type": "code",
   "execution_count": 76,
   "metadata": {},
   "outputs": [],
   "source": [
    "test_ds = tweets_data_vaccine_1[['vaccine_name','tweet.full_text']]\n",
    "\n",
    "# Creating text feature\n",
    "\n",
    "test_feature = tf_vector.transform(np.array(test_ds.iloc[:, 1]).ravel())\n",
    "\n",
    "# Using Logistic Regression model for prediction\n",
    "test_prediction_lr = LR_model.predict(test_feature)\n",
    "\n",
    "# get the sentiment result to a table\n",
    "test_result_ds = pd.DataFrame({'vaccine_name': test_ds.vaccine_name, 'prediction':test_prediction_lr})\n",
    "# convert int to string\n",
    "test_result_ds['prediction']=test_result_ds['prediction'].apply(lambda x:int_to_string(x))"
   ]
  },
  {
   "cell_type": "code",
   "execution_count": 77,
   "metadata": {},
   "outputs": [
    {
     "data": {
      "text/html": [
       "<div>\n",
       "<style scoped>\n",
       "    .dataframe tbody tr th:only-of-type {\n",
       "        vertical-align: middle;\n",
       "    }\n",
       "\n",
       "    .dataframe tbody tr th {\n",
       "        vertical-align: top;\n",
       "    }\n",
       "\n",
       "    .dataframe thead th {\n",
       "        text-align: right;\n",
       "    }\n",
       "</style>\n",
       "<table border=\"1\" class=\"dataframe\">\n",
       "  <thead>\n",
       "    <tr style=\"text-align: right;\">\n",
       "      <th></th>\n",
       "      <th>vaccine_name</th>\n",
       "      <th>prediction</th>\n",
       "      <th>count</th>\n",
       "    </tr>\n",
       "  </thead>\n",
       "  <tbody>\n",
       "    <tr>\n",
       "      <th>2</th>\n",
       "      <td>janssen</td>\n",
       "      <td>Negative</td>\n",
       "      <td>1</td>\n",
       "    </tr>\n",
       "    <tr>\n",
       "      <th>3</th>\n",
       "      <td>janssen</td>\n",
       "      <td>Positive</td>\n",
       "      <td>1</td>\n",
       "    </tr>\n",
       "    <tr>\n",
       "      <th>4</th>\n",
       "      <td>janssen</td>\n",
       "      <td>Positive</td>\n",
       "      <td>1</td>\n",
       "    </tr>\n",
       "    <tr>\n",
       "      <th>5</th>\n",
       "      <td>janssen</td>\n",
       "      <td>Negative</td>\n",
       "      <td>1</td>\n",
       "    </tr>\n",
       "    <tr>\n",
       "      <th>6</th>\n",
       "      <td>janssen</td>\n",
       "      <td>Negative</td>\n",
       "      <td>1</td>\n",
       "    </tr>\n",
       "    <tr>\n",
       "      <th>...</th>\n",
       "      <td>...</td>\n",
       "      <td>...</td>\n",
       "      <td>...</td>\n",
       "    </tr>\n",
       "    <tr>\n",
       "      <th>14354</th>\n",
       "      <td>sputnik</td>\n",
       "      <td>Positive</td>\n",
       "      <td>1</td>\n",
       "    </tr>\n",
       "    <tr>\n",
       "      <th>14355</th>\n",
       "      <td>sputnik</td>\n",
       "      <td>Negative</td>\n",
       "      <td>1</td>\n",
       "    </tr>\n",
       "    <tr>\n",
       "      <th>14360</th>\n",
       "      <td>sputnik</td>\n",
       "      <td>Negative</td>\n",
       "      <td>1</td>\n",
       "    </tr>\n",
       "    <tr>\n",
       "      <th>14361</th>\n",
       "      <td>sputnik</td>\n",
       "      <td>Negative</td>\n",
       "      <td>1</td>\n",
       "    </tr>\n",
       "    <tr>\n",
       "      <th>14392</th>\n",
       "      <td>sputnik</td>\n",
       "      <td>Negative</td>\n",
       "      <td>1</td>\n",
       "    </tr>\n",
       "  </tbody>\n",
       "</table>\n",
       "<p>6618 rows × 3 columns</p>\n",
       "</div>"
      ],
      "text/plain": [
       "      vaccine_name prediction  count\n",
       "2          janssen   Negative      1\n",
       "3          janssen   Positive      1\n",
       "4          janssen   Positive      1\n",
       "5          janssen   Negative      1\n",
       "6          janssen   Negative      1\n",
       "...            ...        ...    ...\n",
       "14354      sputnik   Positive      1\n",
       "14355      sputnik   Negative      1\n",
       "14360      sputnik   Negative      1\n",
       "14361      sputnik   Negative      1\n",
       "14392      sputnik   Negative      1\n",
       "\n",
       "[6618 rows x 3 columns]"
      ]
     },
     "execution_count": 77,
     "metadata": {},
     "output_type": "execute_result"
    }
   ],
   "source": [
    "test_result_ds['count']=1\n",
    "test_result_ds"
   ]
  },
  {
   "cell_type": "code",
   "execution_count": 78,
   "metadata": {},
   "outputs": [
    {
     "data": {
      "text/html": [
       "<div>\n",
       "<style scoped>\n",
       "    .dataframe tbody tr th:only-of-type {\n",
       "        vertical-align: middle;\n",
       "    }\n",
       "\n",
       "    .dataframe tbody tr th {\n",
       "        vertical-align: top;\n",
       "    }\n",
       "\n",
       "    .dataframe thead th {\n",
       "        text-align: right;\n",
       "    }\n",
       "</style>\n",
       "<table border=\"1\" class=\"dataframe\">\n",
       "  <thead>\n",
       "    <tr style=\"text-align: right;\">\n",
       "      <th></th>\n",
       "      <th>vaccine_name</th>\n",
       "      <th>prediction</th>\n",
       "      <th>count</th>\n",
       "    </tr>\n",
       "  </thead>\n",
       "  <tbody>\n",
       "    <tr>\n",
       "      <th>0</th>\n",
       "      <td>CoronaVac</td>\n",
       "      <td>Negative</td>\n",
       "      <td>70</td>\n",
       "    </tr>\n",
       "    <tr>\n",
       "      <th>1</th>\n",
       "      <td>CoronaVac</td>\n",
       "      <td>Positive</td>\n",
       "      <td>65</td>\n",
       "    </tr>\n",
       "    <tr>\n",
       "      <th>2</th>\n",
       "      <td>astrazeneca</td>\n",
       "      <td>Negative</td>\n",
       "      <td>389</td>\n",
       "    </tr>\n",
       "    <tr>\n",
       "      <th>3</th>\n",
       "      <td>astrazeneca</td>\n",
       "      <td>Positive</td>\n",
       "      <td>801</td>\n",
       "    </tr>\n",
       "    <tr>\n",
       "      <th>4</th>\n",
       "      <td>janssen</td>\n",
       "      <td>Negative</td>\n",
       "      <td>136</td>\n",
       "    </tr>\n",
       "    <tr>\n",
       "      <th>5</th>\n",
       "      <td>janssen</td>\n",
       "      <td>Positive</td>\n",
       "      <td>264</td>\n",
       "    </tr>\n",
       "    <tr>\n",
       "      <th>6</th>\n",
       "      <td>moderna</td>\n",
       "      <td>Negative</td>\n",
       "      <td>430</td>\n",
       "    </tr>\n",
       "    <tr>\n",
       "      <th>7</th>\n",
       "      <td>moderna</td>\n",
       "      <td>Positive</td>\n",
       "      <td>877</td>\n",
       "    </tr>\n",
       "    <tr>\n",
       "      <th>8</th>\n",
       "      <td>pfizer</td>\n",
       "      <td>Negative</td>\n",
       "      <td>1592</td>\n",
       "    </tr>\n",
       "    <tr>\n",
       "      <th>9</th>\n",
       "      <td>pfizer</td>\n",
       "      <td>Positive</td>\n",
       "      <td>1779</td>\n",
       "    </tr>\n",
       "    <tr>\n",
       "      <th>10</th>\n",
       "      <td>sputnik</td>\n",
       "      <td>Negative</td>\n",
       "      <td>87</td>\n",
       "    </tr>\n",
       "    <tr>\n",
       "      <th>11</th>\n",
       "      <td>sputnik</td>\n",
       "      <td>Positive</td>\n",
       "      <td>128</td>\n",
       "    </tr>\n",
       "  </tbody>\n",
       "</table>\n",
       "</div>"
      ],
      "text/plain": [
       "   vaccine_name prediction  count\n",
       "0     CoronaVac   Negative     70\n",
       "1     CoronaVac   Positive     65\n",
       "2   astrazeneca   Negative    389\n",
       "3   astrazeneca   Positive    801\n",
       "4       janssen   Negative    136\n",
       "5       janssen   Positive    264\n",
       "6       moderna   Negative    430\n",
       "7       moderna   Positive    877\n",
       "8        pfizer   Negative   1592\n",
       "9        pfizer   Positive   1779\n",
       "10      sputnik   Negative     87\n",
       "11      sputnik   Positive    128"
      ]
     },
     "execution_count": 78,
     "metadata": {},
     "output_type": "execute_result"
    }
   ],
   "source": [
    "test_result_ds_1=test_result_ds.groupby(['vaccine_name','prediction']).count().reset_index()\n",
    "test_result_ds_1"
   ]
  },
  {
   "cell_type": "code",
   "execution_count": 79,
   "metadata": {},
   "outputs": [
    {
     "data": {
      "text/html": [
       "<div>\n",
       "<style scoped>\n",
       "    .dataframe tbody tr th:only-of-type {\n",
       "        vertical-align: middle;\n",
       "    }\n",
       "\n",
       "    .dataframe tbody tr th {\n",
       "        vertical-align: top;\n",
       "    }\n",
       "\n",
       "    .dataframe thead th {\n",
       "        text-align: right;\n",
       "    }\n",
       "</style>\n",
       "<table border=\"1\" class=\"dataframe\">\n",
       "  <thead>\n",
       "    <tr style=\"text-align: right;\">\n",
       "      <th></th>\n",
       "      <th>vaccine_name</th>\n",
       "      <th>sum</th>\n",
       "    </tr>\n",
       "  </thead>\n",
       "  <tbody>\n",
       "    <tr>\n",
       "      <th>0</th>\n",
       "      <td>CoronaVac</td>\n",
       "      <td>135</td>\n",
       "    </tr>\n",
       "    <tr>\n",
       "      <th>1</th>\n",
       "      <td>astrazeneca</td>\n",
       "      <td>1190</td>\n",
       "    </tr>\n",
       "    <tr>\n",
       "      <th>2</th>\n",
       "      <td>janssen</td>\n",
       "      <td>400</td>\n",
       "    </tr>\n",
       "    <tr>\n",
       "      <th>3</th>\n",
       "      <td>moderna</td>\n",
       "      <td>1307</td>\n",
       "    </tr>\n",
       "    <tr>\n",
       "      <th>4</th>\n",
       "      <td>pfizer</td>\n",
       "      <td>3371</td>\n",
       "    </tr>\n",
       "    <tr>\n",
       "      <th>5</th>\n",
       "      <td>sputnik</td>\n",
       "      <td>215</td>\n",
       "    </tr>\n",
       "  </tbody>\n",
       "</table>\n",
       "</div>"
      ],
      "text/plain": [
       "  vaccine_name   sum\n",
       "0    CoronaVac   135\n",
       "1  astrazeneca  1190\n",
       "2      janssen   400\n",
       "3      moderna  1307\n",
       "4       pfizer  3371\n",
       "5      sputnik   215"
      ]
     },
     "execution_count": 79,
     "metadata": {},
     "output_type": "execute_result"
    }
   ],
   "source": [
    "test_result_ds_sum=test_result_ds_1.groupby('vaccine_name').sum().reset_index()\n",
    "test_result_ds_sum.columns=['vaccine_name','sum']\n",
    "test_result_ds_sum"
   ]
  },
  {
   "cell_type": "code",
   "execution_count": 80,
   "metadata": {},
   "outputs": [],
   "source": [
    "test_result_ds_1=pd.merge(test_result_ds_1,test_result_ds_sum,how='left',on=[\"vaccine_name\"],right_index=False)"
   ]
  },
  {
   "cell_type": "code",
   "execution_count": 81,
   "metadata": {},
   "outputs": [
    {
     "data": {
      "text/html": [
       "<div>\n",
       "<style scoped>\n",
       "    .dataframe tbody tr th:only-of-type {\n",
       "        vertical-align: middle;\n",
       "    }\n",
       "\n",
       "    .dataframe tbody tr th {\n",
       "        vertical-align: top;\n",
       "    }\n",
       "\n",
       "    .dataframe thead th {\n",
       "        text-align: right;\n",
       "    }\n",
       "</style>\n",
       "<table border=\"1\" class=\"dataframe\">\n",
       "  <thead>\n",
       "    <tr style=\"text-align: right;\">\n",
       "      <th></th>\n",
       "      <th>vaccine_name</th>\n",
       "      <th>prediction</th>\n",
       "      <th>count</th>\n",
       "      <th>sum</th>\n",
       "    </tr>\n",
       "  </thead>\n",
       "  <tbody>\n",
       "    <tr>\n",
       "      <th>0</th>\n",
       "      <td>CoronaVac</td>\n",
       "      <td>Negative</td>\n",
       "      <td>70</td>\n",
       "      <td>135</td>\n",
       "    </tr>\n",
       "    <tr>\n",
       "      <th>1</th>\n",
       "      <td>CoronaVac</td>\n",
       "      <td>Positive</td>\n",
       "      <td>65</td>\n",
       "      <td>135</td>\n",
       "    </tr>\n",
       "    <tr>\n",
       "      <th>2</th>\n",
       "      <td>astrazeneca</td>\n",
       "      <td>Negative</td>\n",
       "      <td>389</td>\n",
       "      <td>1190</td>\n",
       "    </tr>\n",
       "    <tr>\n",
       "      <th>3</th>\n",
       "      <td>astrazeneca</td>\n",
       "      <td>Positive</td>\n",
       "      <td>801</td>\n",
       "      <td>1190</td>\n",
       "    </tr>\n",
       "    <tr>\n",
       "      <th>4</th>\n",
       "      <td>janssen</td>\n",
       "      <td>Negative</td>\n",
       "      <td>136</td>\n",
       "      <td>400</td>\n",
       "    </tr>\n",
       "    <tr>\n",
       "      <th>5</th>\n",
       "      <td>janssen</td>\n",
       "      <td>Positive</td>\n",
       "      <td>264</td>\n",
       "      <td>400</td>\n",
       "    </tr>\n",
       "    <tr>\n",
       "      <th>6</th>\n",
       "      <td>moderna</td>\n",
       "      <td>Negative</td>\n",
       "      <td>430</td>\n",
       "      <td>1307</td>\n",
       "    </tr>\n",
       "    <tr>\n",
       "      <th>7</th>\n",
       "      <td>moderna</td>\n",
       "      <td>Positive</td>\n",
       "      <td>877</td>\n",
       "      <td>1307</td>\n",
       "    </tr>\n",
       "    <tr>\n",
       "      <th>8</th>\n",
       "      <td>pfizer</td>\n",
       "      <td>Negative</td>\n",
       "      <td>1592</td>\n",
       "      <td>3371</td>\n",
       "    </tr>\n",
       "    <tr>\n",
       "      <th>9</th>\n",
       "      <td>pfizer</td>\n",
       "      <td>Positive</td>\n",
       "      <td>1779</td>\n",
       "      <td>3371</td>\n",
       "    </tr>\n",
       "    <tr>\n",
       "      <th>10</th>\n",
       "      <td>sputnik</td>\n",
       "      <td>Negative</td>\n",
       "      <td>87</td>\n",
       "      <td>215</td>\n",
       "    </tr>\n",
       "    <tr>\n",
       "      <th>11</th>\n",
       "      <td>sputnik</td>\n",
       "      <td>Positive</td>\n",
       "      <td>128</td>\n",
       "      <td>215</td>\n",
       "    </tr>\n",
       "  </tbody>\n",
       "</table>\n",
       "</div>"
      ],
      "text/plain": [
       "   vaccine_name prediction  count   sum\n",
       "0     CoronaVac   Negative     70   135\n",
       "1     CoronaVac   Positive     65   135\n",
       "2   astrazeneca   Negative    389  1190\n",
       "3   astrazeneca   Positive    801  1190\n",
       "4       janssen   Negative    136   400\n",
       "5       janssen   Positive    264   400\n",
       "6       moderna   Negative    430  1307\n",
       "7       moderna   Positive    877  1307\n",
       "8        pfizer   Negative   1592  3371\n",
       "9        pfizer   Positive   1779  3371\n",
       "10      sputnik   Negative     87   215\n",
       "11      sputnik   Positive    128   215"
      ]
     },
     "execution_count": 81,
     "metadata": {},
     "output_type": "execute_result"
    }
   ],
   "source": [
    "test_result_ds_1"
   ]
  },
  {
   "cell_type": "code",
   "execution_count": 82,
   "metadata": {},
   "outputs": [],
   "source": [
    "test_result_ds_1['rate']=test_result_ds_1['count']/test_result_ds_1['sum']"
   ]
  },
  {
   "cell_type": "code",
   "execution_count": 83,
   "metadata": {},
   "outputs": [],
   "source": [
    "positive_rate=test_result_ds_1[test_result_ds_1['prediction']=='Positive'].sort_values(by='rate', ascending=False)"
   ]
  },
  {
   "cell_type": "code",
   "execution_count": 84,
   "metadata": {},
   "outputs": [
    {
     "data": {
      "text/html": [
       "<div>\n",
       "<style scoped>\n",
       "    .dataframe tbody tr th:only-of-type {\n",
       "        vertical-align: middle;\n",
       "    }\n",
       "\n",
       "    .dataframe tbody tr th {\n",
       "        vertical-align: top;\n",
       "    }\n",
       "\n",
       "    .dataframe thead th {\n",
       "        text-align: right;\n",
       "    }\n",
       "</style>\n",
       "<table border=\"1\" class=\"dataframe\">\n",
       "  <thead>\n",
       "    <tr style=\"text-align: right;\">\n",
       "      <th></th>\n",
       "      <th>vaccine_name</th>\n",
       "      <th>prediction</th>\n",
       "      <th>count</th>\n",
       "      <th>sum</th>\n",
       "      <th>rate</th>\n",
       "    </tr>\n",
       "  </thead>\n",
       "  <tbody>\n",
       "    <tr>\n",
       "      <th>3</th>\n",
       "      <td>astrazeneca</td>\n",
       "      <td>Positive</td>\n",
       "      <td>801</td>\n",
       "      <td>1190</td>\n",
       "      <td>0.673109</td>\n",
       "    </tr>\n",
       "    <tr>\n",
       "      <th>7</th>\n",
       "      <td>moderna</td>\n",
       "      <td>Positive</td>\n",
       "      <td>877</td>\n",
       "      <td>1307</td>\n",
       "      <td>0.671002</td>\n",
       "    </tr>\n",
       "    <tr>\n",
       "      <th>5</th>\n",
       "      <td>janssen</td>\n",
       "      <td>Positive</td>\n",
       "      <td>264</td>\n",
       "      <td>400</td>\n",
       "      <td>0.660000</td>\n",
       "    </tr>\n",
       "    <tr>\n",
       "      <th>11</th>\n",
       "      <td>sputnik</td>\n",
       "      <td>Positive</td>\n",
       "      <td>128</td>\n",
       "      <td>215</td>\n",
       "      <td>0.595349</td>\n",
       "    </tr>\n",
       "    <tr>\n",
       "      <th>9</th>\n",
       "      <td>pfizer</td>\n",
       "      <td>Positive</td>\n",
       "      <td>1779</td>\n",
       "      <td>3371</td>\n",
       "      <td>0.527737</td>\n",
       "    </tr>\n",
       "    <tr>\n",
       "      <th>1</th>\n",
       "      <td>CoronaVac</td>\n",
       "      <td>Positive</td>\n",
       "      <td>65</td>\n",
       "      <td>135</td>\n",
       "      <td>0.481481</td>\n",
       "    </tr>\n",
       "  </tbody>\n",
       "</table>\n",
       "</div>"
      ],
      "text/plain": [
       "   vaccine_name prediction  count   sum      rate\n",
       "3   astrazeneca   Positive    801  1190  0.673109\n",
       "7       moderna   Positive    877  1307  0.671002\n",
       "5       janssen   Positive    264   400  0.660000\n",
       "11      sputnik   Positive    128   215  0.595349\n",
       "9        pfizer   Positive   1779  3371  0.527737\n",
       "1     CoronaVac   Positive     65   135  0.481481"
      ]
     },
     "execution_count": 84,
     "metadata": {},
     "output_type": "execute_result"
    }
   ],
   "source": [
    "positive_rate"
   ]
  },
  {
   "cell_type": "code",
   "execution_count": 85,
   "metadata": {},
   "outputs": [
    {
     "data": {
      "image/png": "[encoded data removed]",
      "text/plain": [
       "<Figure size 432x288 with 1 Axes>"
      ]
     },
     "metadata": {
      "needs_background": "light"
     },
     "output_type": "display_data"
    }
   ],
   "source": [
    "font = {'family' : 'Times New Roman',\n",
    "'weight' : 'normal',\n",
    "'size'   : 16,\n",
    "}\n",
    "plt.bar(positive_rate['vaccine_name'],positive_rate['rate'],color='black',width=0.3)\n",
    "plt.xlabel('Vaccine name',font)\n",
    "plt.ylabel('positive level',font)\n",
    "plt.title('Positive level in Different Vaccine',font)\n",
    "plt.xticks(rotation=90)\n",
    "plt.show()"
   ]
  },
  {
   "cell_type": "code",
   "execution_count": 86,
   "metadata": {},
   "outputs": [
    {
     "data": {
      "text/html": [
       "<div>\n",
       "<style scoped>\n",
       "    .dataframe tbody tr th:only-of-type {\n",
       "        vertical-align: middle;\n",
       "    }\n",
       "\n",
       "    .dataframe tbody tr th {\n",
       "        vertical-align: top;\n",
       "    }\n",
       "\n",
       "    .dataframe thead th {\n",
       "        text-align: right;\n",
       "    }\n",
       "</style>\n",
       "<table border=\"1\" class=\"dataframe\">\n",
       "  <thead>\n",
       "    <tr style=\"text-align: right;\">\n",
       "      <th></th>\n",
       "      <th>tweet.full_text</th>\n",
       "      <th>tweet.created_at</th>\n",
       "      <th>tweet.id_str</th>\n",
       "      <th>tweet.user.name</th>\n",
       "      <th>tweet.user.screen_name</th>\n",
       "      <th>tweet.user.id_str</th>\n",
       "      <th>tweet.user.location</th>\n",
       "      <th>tweet.user.url</th>\n",
       "      <th>tweet.user.description</th>\n",
       "      <th>tweet.user.verified</th>\n",
       "      <th>...</th>\n",
       "      <th>tweet.user.favourites_count</th>\n",
       "      <th>tweet.user.statuses_count</th>\n",
       "      <th>tweet.user.listed_count</th>\n",
       "      <th>tweet.user.created_at</th>\n",
       "      <th>tweet.user.profile_image_url_https</th>\n",
       "      <th>tweet.user.default_profile</th>\n",
       "      <th>tweet.user.default_profile_image</th>\n",
       "      <th>tweet.lang</th>\n",
       "      <th>vaccine_name</th>\n",
       "      <th>tweet.full_text_list</th>\n",
       "    </tr>\n",
       "  </thead>\n",
       "  <tbody>\n",
       "    <tr>\n",
       "      <th>2</th>\n",
       "      <td>imagine scandal non tory wed matter week death...</td>\n",
       "      <td>2021-06-07 03:43:40</td>\n",
       "      <td>1401746654643068931</td>\n",
       "      <td>Cash &amp; Carrie</td>\n",
       "      <td>pranerna</td>\n",
       "      <td>928720575064936448</td>\n",
       "      <td>Middle Earth</td>\n",
       "      <td>NaN</td>\n",
       "      <td>NaN</td>\n",
       "      <td>False</td>\n",
       "      <td>...</td>\n",
       "      <td>757</td>\n",
       "      <td>50</td>\n",
       "      <td>0</td>\n",
       "      <td>2017-11-09 20:26:54</td>\n",
       "      <td>https://pbs.twimg.com/profile_images/137931366...</td>\n",
       "      <td>True</td>\n",
       "      <td>False</td>\n",
       "      <td>en</td>\n",
       "      <td>janssen</td>\n",
       "      <td>[imagine, scandal, non, tory, wed, matter, wee...</td>\n",
       "    </tr>\n",
       "    <tr>\n",
       "      <th>3</th>\n",
       "      <td>government regulator rest assured done rigorou...</td>\n",
       "      <td>2021-06-07 03:37:57</td>\n",
       "      <td>1401745217531912196</td>\n",
       "      <td>latecomer</td>\n",
       "      <td>evenlatercomer</td>\n",
       "      <td>412773158</td>\n",
       "      <td>NaN</td>\n",
       "      <td>NaN</td>\n",
       "      <td>NaN</td>\n",
       "      <td>False</td>\n",
       "      <td>...</td>\n",
       "      <td>173434</td>\n",
       "      <td>54555</td>\n",
       "      <td>4</td>\n",
       "      <td>2011-11-15 03:35:23</td>\n",
       "      <td>https://pbs.twimg.com/profile_images/139950542...</td>\n",
       "      <td>True</td>\n",
       "      <td>False</td>\n",
       "      <td>en</td>\n",
       "      <td>janssen</td>\n",
       "      <td>[government, regulator, rest, assured, done, r...</td>\n",
       "    </tr>\n",
       "    <tr>\n",
       "      <th>4</th>\n",
       "      <td>government regulator rest assured done rigorou...</td>\n",
       "      <td>2021-06-07 00:56:28</td>\n",
       "      <td>1401704577284587524</td>\n",
       "      <td>Metanoia</td>\n",
       "      <td>ConsciousEvolv8</td>\n",
       "      <td>3149734677</td>\n",
       "      <td>NaN</td>\n",
       "      <td>NaN</td>\n",
       "      <td>Naturopathic lifestyle. Sovereign independent ...</td>\n",
       "      <td>False</td>\n",
       "      <td>...</td>\n",
       "      <td>118</td>\n",
       "      <td>24739</td>\n",
       "      <td>48</td>\n",
       "      <td>2015-04-09 00:05:12</td>\n",
       "      <td>https://pbs.twimg.com/profile_images/757257298...</td>\n",
       "      <td>False</td>\n",
       "      <td>False</td>\n",
       "      <td>en</td>\n",
       "      <td>janssen</td>\n",
       "      <td>[government, regulator, rest, assured, done, r...</td>\n",
       "    </tr>\n",
       "    <tr>\n",
       "      <th>5</th>\n",
       "      <td>also vaccine june edison high school indoor so...</td>\n",
       "      <td>2021-06-07 00:55:45</td>\n",
       "      <td>1401704395906027522</td>\n",
       "      <td>Em🎲</td>\n",
       "      <td>_emilyfranco28_</td>\n",
       "      <td>2478968856</td>\n",
       "      <td>NaN</td>\n",
       "      <td>NaN</td>\n",
       "      <td>NaN</td>\n",
       "      <td>False</td>\n",
       "      <td>...</td>\n",
       "      <td>7139</td>\n",
       "      <td>2214</td>\n",
       "      <td>5</td>\n",
       "      <td>2014-05-05 23:43:46</td>\n",
       "      <td>https://pbs.twimg.com/profile_images/139381403...</td>\n",
       "      <td>True</td>\n",
       "      <td>False</td>\n",
       "      <td>en</td>\n",
       "      <td>janssen</td>\n",
       "      <td>[also, vaccine, june, edison, high, school, in...</td>\n",
       "    </tr>\n",
       "    <tr>\n",
       "      <th>6</th>\n",
       "      <td>also vaccine june edison high school indoor so...</td>\n",
       "      <td>2021-06-07 00:36:23</td>\n",
       "      <td>1401699524339326977</td>\n",
       "      <td>mahhh</td>\n",
       "      <td>mysteriouslymah</td>\n",
       "      <td>904266335135293440</td>\n",
       "      <td>California, USA</td>\n",
       "      <td>NaN</td>\n",
       "      <td>progress not perfection.                      ...</td>\n",
       "      <td>False</td>\n",
       "      <td>...</td>\n",
       "      <td>13413</td>\n",
       "      <td>2482</td>\n",
       "      <td>0</td>\n",
       "      <td>2017-09-03 08:54:29</td>\n",
       "      <td>https://pbs.twimg.com/profile_images/140013422...</td>\n",
       "      <td>True</td>\n",
       "      <td>False</td>\n",
       "      <td>en</td>\n",
       "      <td>janssen</td>\n",
       "      <td>[also, vaccine, june, edison, high, school, in...</td>\n",
       "    </tr>\n",
       "  </tbody>\n",
       "</table>\n",
       "<p>5 rows × 22 columns</p>\n",
       "</div>"
      ],
      "text/plain": [
       "                                     tweet.full_text     tweet.created_at  \\\n",
       "2  imagine scandal non tory wed matter week death...  2021-06-07 03:43:40   \n",
       "3  government regulator rest assured done rigorou...  2021-06-07 03:37:57   \n",
       "4  government regulator rest assured done rigorou...  2021-06-07 00:56:28   \n",
       "5  also vaccine june edison high school indoor so...  2021-06-07 00:55:45   \n",
       "6  also vaccine june edison high school indoor so...  2021-06-07 00:36:23   \n",
       "\n",
       "          tweet.id_str tweet.user.name tweet.user.screen_name  \\\n",
       "2  1401746654643068931   Cash & Carrie               pranerna   \n",
       "3  1401745217531912196       latecomer         evenlatercomer   \n",
       "4  1401704577284587524        Metanoia        ConsciousEvolv8   \n",
       "5  1401704395906027522             Em🎲        _emilyfranco28_   \n",
       "6  1401699524339326977           mahhh        mysteriouslymah   \n",
       "\n",
       "    tweet.user.id_str tweet.user.location tweet.user.url  \\\n",
       "2  928720575064936448        Middle Earth            NaN   \n",
       "3           412773158                 NaN            NaN   \n",
       "4          3149734677                 NaN            NaN   \n",
       "5          2478968856                 NaN            NaN   \n",
       "6  904266335135293440     California, USA            NaN   \n",
       "\n",
       "                              tweet.user.description  tweet.user.verified  \\\n",
       "2                                                NaN                False   \n",
       "3                                                NaN                False   \n",
       "4  Naturopathic lifestyle. Sovereign independent ...                False   \n",
       "5                                                NaN                False   \n",
       "6  progress not perfection.                      ...                False   \n",
       "\n",
       "   ...  tweet.user.favourites_count  tweet.user.statuses_count  \\\n",
       "2  ...                          757                         50   \n",
       "3  ...                       173434                      54555   \n",
       "4  ...                          118                      24739   \n",
       "5  ...                         7139                       2214   \n",
       "6  ...                        13413                       2482   \n",
       "\n",
       "   tweet.user.listed_count  tweet.user.created_at  \\\n",
       "2                        0    2017-11-09 20:26:54   \n",
       "3                        4    2011-11-15 03:35:23   \n",
       "4                       48    2015-04-09 00:05:12   \n",
       "5                        5    2014-05-05 23:43:46   \n",
       "6                        0    2017-09-03 08:54:29   \n",
       "\n",
       "                  tweet.user.profile_image_url_https  \\\n",
       "2  https://pbs.twimg.com/profile_images/137931366...   \n",
       "3  https://pbs.twimg.com/profile_images/139950542...   \n",
       "4  https://pbs.twimg.com/profile_images/757257298...   \n",
       "5  https://pbs.twimg.com/profile_images/139381403...   \n",
       "6  https://pbs.twimg.com/profile_images/140013422...   \n",
       "\n",
       "  tweet.user.default_profile tweet.user.default_profile_image  tweet.lang  \\\n",
       "2                       True                            False          en   \n",
       "3                       True                            False          en   \n",
       "4                      False                            False          en   \n",
       "5                       True                            False          en   \n",
       "6                       True                            False          en   \n",
       "\n",
       "   vaccine_name                               tweet.full_text_list  \n",
       "2       janssen  [imagine, scandal, non, tory, wed, matter, wee...  \n",
       "3       janssen  [government, regulator, rest, assured, done, r...  \n",
       "4       janssen  [government, regulator, rest, assured, done, r...  \n",
       "5       janssen  [also, vaccine, june, edison, high, school, in...  \n",
       "6       janssen  [also, vaccine, june, edison, high, school, in...  \n",
       "\n",
       "[5 rows x 22 columns]"
      ]
     },
     "execution_count": 86,
     "metadata": {},
     "output_type": "execute_result"
    }
   ],
   "source": [
    "tweets_data_vaccine_1.head()"
   ]
  },
  {
   "cell_type": "code",
   "execution_count": 92,
   "metadata": {},
   "outputs": [],
   "source": [
    "test_result_ds=pd.merge(test_result_ds,tweets_data_vaccine_1[['tweet.full_text']],left_index=True,right_index=True, how='outer')"
   ]
  },
  {
   "cell_type": "code",
   "execution_count": 93,
   "metadata": {},
   "outputs": [
    {
     "data": {
      "text/html": [
       "<div>\n",
       "<style scoped>\n",
       "    .dataframe tbody tr th:only-of-type {\n",
       "        vertical-align: middle;\n",
       "    }\n",
       "\n",
       "    .dataframe tbody tr th {\n",
       "        vertical-align: top;\n",
       "    }\n",
       "\n",
       "    .dataframe thead th {\n",
       "        text-align: right;\n",
       "    }\n",
       "</style>\n",
       "<table border=\"1\" class=\"dataframe\">\n",
       "  <thead>\n",
       "    <tr style=\"text-align: right;\">\n",
       "      <th></th>\n",
       "      <th>vaccine_name</th>\n",
       "      <th>prediction</th>\n",
       "      <th>count</th>\n",
       "      <th>tweet.full_text_list</th>\n",
       "      <th>tweet.full_text</th>\n",
       "    </tr>\n",
       "  </thead>\n",
       "  <tbody>\n",
       "    <tr>\n",
       "      <th>2</th>\n",
       "      <td>janssen</td>\n",
       "      <td>Negative</td>\n",
       "      <td>1</td>\n",
       "      <td>[imagine, scandal, non, tory, wed, matter, wee...</td>\n",
       "      <td>imagine scandal non tory wed matter week death...</td>\n",
       "    </tr>\n",
       "    <tr>\n",
       "      <th>3</th>\n",
       "      <td>janssen</td>\n",
       "      <td>Positive</td>\n",
       "      <td>1</td>\n",
       "      <td>[government, regulator, rest, assured, done, r...</td>\n",
       "      <td>government regulator rest assured done rigorou...</td>\n",
       "    </tr>\n",
       "    <tr>\n",
       "      <th>4</th>\n",
       "      <td>janssen</td>\n",
       "      <td>Positive</td>\n",
       "      <td>1</td>\n",
       "      <td>[government, regulator, rest, assured, done, r...</td>\n",
       "      <td>government regulator rest assured done rigorou...</td>\n",
       "    </tr>\n",
       "    <tr>\n",
       "      <th>5</th>\n",
       "      <td>janssen</td>\n",
       "      <td>Negative</td>\n",
       "      <td>1</td>\n",
       "      <td>[also, vaccine, june, edison, high, school, in...</td>\n",
       "      <td>also vaccine june edison high school indoor so...</td>\n",
       "    </tr>\n",
       "    <tr>\n",
       "      <th>6</th>\n",
       "      <td>janssen</td>\n",
       "      <td>Negative</td>\n",
       "      <td>1</td>\n",
       "      <td>[also, vaccine, june, edison, high, school, in...</td>\n",
       "      <td>also vaccine june edison high school indoor so...</td>\n",
       "    </tr>\n",
       "    <tr>\n",
       "      <th>...</th>\n",
       "      <td>...</td>\n",
       "      <td>...</td>\n",
       "      <td>...</td>\n",
       "      <td>...</td>\n",
       "      <td>...</td>\n",
       "    </tr>\n",
       "    <tr>\n",
       "      <th>14354</th>\n",
       "      <td>sputnik</td>\n",
       "      <td>Positive</td>\n",
       "      <td>1</td>\n",
       "      <td>[according, radio, ndeke, luka, two, police, c...</td>\n",
       "      <td>according radio ndeke luka two police car hit ...</td>\n",
       "    </tr>\n",
       "    <tr>\n",
       "      <th>14355</th>\n",
       "      <td>sputnik</td>\n",
       "      <td>Negative</td>\n",
       "      <td>1</td>\n",
       "      <td>[according, radio, ndeke, luka, two, police, c...</td>\n",
       "      <td>according radio ndeke luka two police car hit ...</td>\n",
       "    </tr>\n",
       "    <tr>\n",
       "      <th>14360</th>\n",
       "      <td>sputnik</td>\n",
       "      <td>Negative</td>\n",
       "      <td>1</td>\n",
       "      <td>[breaking, three, russian, reportedly, killed,...</td>\n",
       "      <td>breaking three russian reportedly killed explo...</td>\n",
       "    </tr>\n",
       "    <tr>\n",
       "      <th>14361</th>\n",
       "      <td>sputnik</td>\n",
       "      <td>Negative</td>\n",
       "      <td>1</td>\n",
       "      <td>[breaking, three, russian, reportedly, killed,...</td>\n",
       "      <td>breaking three russian reportedly killed explo...</td>\n",
       "    </tr>\n",
       "    <tr>\n",
       "      <th>14392</th>\n",
       "      <td>sputnik</td>\n",
       "      <td>Negative</td>\n",
       "      <td>1</td>\n",
       "      <td>[breaking, miami, shooting, leaf, dead, injure...</td>\n",
       "      <td>breaking miami shooting leaf dead injured poli...</td>\n",
       "    </tr>\n",
       "  </tbody>\n",
       "</table>\n",
       "<p>6618 rows × 5 columns</p>\n",
       "</div>"
      ],
      "text/plain": [
       "      vaccine_name prediction  count  \\\n",
       "2          janssen   Negative      1   \n",
       "3          janssen   Positive      1   \n",
       "4          janssen   Positive      1   \n",
       "5          janssen   Negative      1   \n",
       "6          janssen   Negative      1   \n",
       "...            ...        ...    ...   \n",
       "14354      sputnik   Positive      1   \n",
       "14355      sputnik   Negative      1   \n",
       "14360      sputnik   Negative      1   \n",
       "14361      sputnik   Negative      1   \n",
       "14392      sputnik   Negative      1   \n",
       "\n",
       "                                    tweet.full_text_list  \\\n",
       "2      [imagine, scandal, non, tory, wed, matter, wee...   \n",
       "3      [government, regulator, rest, assured, done, r...   \n",
       "4      [government, regulator, rest, assured, done, r...   \n",
       "5      [also, vaccine, june, edison, high, school, in...   \n",
       "6      [also, vaccine, june, edison, high, school, in...   \n",
       "...                                                  ...   \n",
       "14354  [according, radio, ndeke, luka, two, police, c...   \n",
       "14355  [according, radio, ndeke, luka, two, police, c...   \n",
       "14360  [breaking, three, russian, reportedly, killed,...   \n",
       "14361  [breaking, three, russian, reportedly, killed,...   \n",
       "14392  [breaking, miami, shooting, leaf, dead, injure...   \n",
       "\n",
       "                                         tweet.full_text  \n",
       "2      imagine scandal non tory wed matter week death...  \n",
       "3      government regulator rest assured done rigorou...  \n",
       "4      government regulator rest assured done rigorou...  \n",
       "5      also vaccine june edison high school indoor so...  \n",
       "6      also vaccine june edison high school indoor so...  \n",
       "...                                                  ...  \n",
       "14354  according radio ndeke luka two police car hit ...  \n",
       "14355  according radio ndeke luka two police car hit ...  \n",
       "14360  breaking three russian reportedly killed explo...  \n",
       "14361  breaking three russian reportedly killed explo...  \n",
       "14392  breaking miami shooting leaf dead injured poli...  \n",
       "\n",
       "[6618 rows x 5 columns]"
      ]
     },
     "execution_count": 93,
     "metadata": {},
     "output_type": "execute_result"
    }
   ],
   "source": [
    "test_result_ds"
   ]
  },
  {
   "cell_type": "code",
   "execution_count": 94,
   "metadata": {},
   "outputs": [],
   "source": [
    "# 首先来研究pfizer的负面新闻\n",
    "test_result_ds_pfizerneg=test_result_ds[(test_result_ds['vaccine_name']=='pfizer') & (test_result_ds['prediction']=='Negative')]"
   ]
  },
  {
   "cell_type": "code",
   "execution_count": 95,
   "metadata": {},
   "outputs": [
    {
     "data": {
      "text/html": [
       "<div>\n",
       "<style scoped>\n",
       "    .dataframe tbody tr th:only-of-type {\n",
       "        vertical-align: middle;\n",
       "    }\n",
       "\n",
       "    .dataframe tbody tr th {\n",
       "        vertical-align: top;\n",
       "    }\n",
       "\n",
       "    .dataframe thead th {\n",
       "        text-align: right;\n",
       "    }\n",
       "</style>\n",
       "<table border=\"1\" class=\"dataframe\">\n",
       "  <thead>\n",
       "    <tr style=\"text-align: right;\">\n",
       "      <th></th>\n",
       "      <th>vaccine_name</th>\n",
       "      <th>prediction</th>\n",
       "      <th>count</th>\n",
       "      <th>tweet.full_text_list</th>\n",
       "      <th>tweet.full_text</th>\n",
       "    </tr>\n",
       "  </thead>\n",
       "  <tbody>\n",
       "    <tr>\n",
       "      <th>2986</th>\n",
       "      <td>pfizer</td>\n",
       "      <td>Negative</td>\n",
       "      <td>1</td>\n",
       "      <td>[another, tone, deaf, tweet, self, entitled, p...</td>\n",
       "      <td>another tone deaf tweet self entitled politici...</td>\n",
       "    </tr>\n",
       "    <tr>\n",
       "      <th>2990</th>\n",
       "      <td>pfizer</td>\n",
       "      <td>Negative</td>\n",
       "      <td>1</td>\n",
       "      <td>[got, nothing, nice, say, either, annastaciapa...</td>\n",
       "      <td>got nothing nice say either annastaciapalaszcz...</td>\n",
       "    </tr>\n",
       "    <tr>\n",
       "      <th>2993</th>\n",
       "      <td>pfizer</td>\n",
       "      <td>Negative</td>\n",
       "      <td>1</td>\n",
       "      <td>[hour, since, second, dose, pfizer, covid, vac...</td>\n",
       "      <td>hour since second dose pfizer covid vaccine fe...</td>\n",
       "    </tr>\n",
       "    <tr>\n",
       "      <th>3002</th>\n",
       "      <td>pfizer</td>\n",
       "      <td>Negative</td>\n",
       "      <td>1</td>\n",
       "      <td>[reluctance, vaccinated, simple, lack, choice,...</td>\n",
       "      <td>reluctance vaccinated simple lack choice would...</td>\n",
       "    </tr>\n",
       "    <tr>\n",
       "      <th>3006</th>\n",
       "      <td>pfizer</td>\n",
       "      <td>Negative</td>\n",
       "      <td>1</td>\n",
       "      <td>[pfizer, vaccine, available, anyone, year, old...</td>\n",
       "      <td>pfizer vaccine available anyone year old older...</td>\n",
       "    </tr>\n",
       "  </tbody>\n",
       "</table>\n",
       "</div>"
      ],
      "text/plain": [
       "     vaccine_name prediction  count  \\\n",
       "2986       pfizer   Negative      1   \n",
       "2990       pfizer   Negative      1   \n",
       "2993       pfizer   Negative      1   \n",
       "3002       pfizer   Negative      1   \n",
       "3006       pfizer   Negative      1   \n",
       "\n",
       "                                   tweet.full_text_list  \\\n",
       "2986  [another, tone, deaf, tweet, self, entitled, p...   \n",
       "2990  [got, nothing, nice, say, either, annastaciapa...   \n",
       "2993  [hour, since, second, dose, pfizer, covid, vac...   \n",
       "3002  [reluctance, vaccinated, simple, lack, choice,...   \n",
       "3006  [pfizer, vaccine, available, anyone, year, old...   \n",
       "\n",
       "                                        tweet.full_text  \n",
       "2986  another tone deaf tweet self entitled politici...  \n",
       "2990  got nothing nice say either annastaciapalaszcz...  \n",
       "2993  hour since second dose pfizer covid vaccine fe...  \n",
       "3002  reluctance vaccinated simple lack choice would...  \n",
       "3006  pfizer vaccine available anyone year old older...  "
      ]
     },
     "execution_count": 95,
     "metadata": {},
     "output_type": "execute_result"
    }
   ],
   "source": [
    "test_result_ds_pfizerneg.head()"
   ]
  },
  {
   "cell_type": "code",
   "execution_count": 96,
   "metadata": {},
   "outputs": [],
   "source": [
    "test_result_ds_pfizerneg_sen=test_result_ds_pfizerneg['tweet.full_text'].sum()"
   ]
  },
  {
   "cell_type": "code",
   "execution_count": 97,
   "metadata": {},
   "outputs": [
    {
     "data": {
      "text/plain": [
       "141273"
      ]
     },
     "execution_count": 97,
     "metadata": {},
     "output_type": "execute_result"
    }
   ],
   "source": [
    "len(test_result_ds_pfizerneg_sen)"
   ]
  },
  {
   "cell_type": "code",
   "execution_count": 98,
   "metadata": {},
   "outputs": [],
   "source": [
    "from wordcloud import WordCloud, STOPWORDS, ImageColorGenerator"
   ]
  },
  {
   "cell_type": "code",
   "execution_count": 99,
   "metadata": {},
   "outputs": [
    {
     "data": {
      "image/png": "[encoded data removed]",
      "text/plain": [
       "<Figure size 432x288 with 1 Axes>"
      ]
     },
     "metadata": {
      "needs_background": "light"
     },
     "output_type": "display_data"
    }
   ],
   "source": [
    "# Generate a word cloud image\n",
    "wordcloud = WordCloud( background_color=\"white\").generate(test_result_ds_pfizerneg_sen)\n",
    "\n",
    "# Display the generated image:\n",
    "# the matplotlib way:\n",
    "plt.imshow(wordcloud, interpolation='bilinear')\n",
    "plt.axis(\"off\")\n",
    "plt.show()"
   ]
  },
  {
   "cell_type": "code",
   "execution_count": 100,
   "metadata": {},
   "outputs": [],
   "source": [
    "# 研究ConronaVac的负面新闻\n",
    "test_result_ds_ConronaVacneg=test_result_ds[(test_result_ds['vaccine_name']=='CoronaVac') & (test_result_ds['prediction']=='Negative')]"
   ]
  },
  {
   "cell_type": "code",
   "execution_count": 101,
   "metadata": {},
   "outputs": [],
   "source": [
    "test_result_ds_ConronaVacneg_sen=test_result_ds_ConronaVacneg['tweet.full_text'].sum()"
   ]
  },
  {
   "cell_type": "code",
   "execution_count": 102,
   "metadata": {},
   "outputs": [
    {
     "data": {
      "text/plain": [
       "5944"
      ]
     },
     "execution_count": 102,
     "metadata": {},
     "output_type": "execute_result"
    }
   ],
   "source": [
    "len(test_result_ds_ConronaVacneg_sen)"
   ]
  },
  {
   "cell_type": "code",
   "execution_count": 103,
   "metadata": {},
   "outputs": [
    {
     "data": {
      "image/png": "[encoded data removed]",
      "text/plain": [
       "<Figure size 432x288 with 1 Axes>"
      ]
     },
     "metadata": {
      "needs_background": "light"
     },
     "output_type": "display_data"
    }
   ],
   "source": [
    "# Generate a word cloud image\n",
    "wordcloud = WordCloud( background_color=\"white\").generate(test_result_ds_ConronaVacneg_sen)\n",
    "\n",
    "# Display the generated image:\n",
    "# the matplotlib way:\n",
    "plt.imshow(wordcloud, interpolation='bilinear')\n",
    "plt.axis(\"off\")\n",
    "plt.show()"
   ]
  },
  {
   "cell_type": "code",
   "execution_count": 104,
   "metadata": {},
   "outputs": [],
   "source": [
    "# moderna的正面评价\n",
    "test_result_ds_modernapos=test_result_ds[(test_result_ds['vaccine_name']=='moderna') & (test_result_ds['prediction']=='Positive')]"
   ]
  },
  {
   "cell_type": "code",
   "execution_count": 105,
   "metadata": {},
   "outputs": [],
   "source": [
    "test_result_ds_modernaneg_sen=test_result_ds_modernapos['tweet.full_text'].sum()"
   ]
  },
  {
   "cell_type": "code",
   "execution_count": 106,
   "metadata": {},
   "outputs": [
    {
     "data": {
      "text/plain": [
       "72722"
      ]
     },
     "execution_count": 106,
     "metadata": {},
     "output_type": "execute_result"
    }
   ],
   "source": [
    "len(test_result_ds_modernaneg_sen)"
   ]
  },
  {
   "cell_type": "code",
   "execution_count": 107,
   "metadata": {},
   "outputs": [
    {
     "data": {
      "image/png": "[encoded data removed]",
      "text/plain": [
       "<Figure size 432x288 with 1 Axes>"
      ]
     },
     "metadata": {
      "needs_background": "light"
     },
     "output_type": "display_data"
    }
   ],
   "source": [
    "# Generate a word cloud image\n",
    "wordcloud = WordCloud( background_color=\"white\").generate(test_result_ds_modernaneg_sen)\n",
    "\n",
    "# Display the generated image:\n",
    "# the matplotlib way:\n",
    "plt.imshow(wordcloud, interpolation='bilinear')\n",
    "plt.axis(\"off\")\n",
    "plt.show()"
   ]
  },
  {
   "cell_type": "code",
   "execution_count": 108,
   "metadata": {},
   "outputs": [],
   "source": [
    "# az的正面评价\n",
    "test_result_ds_astrazenecapos=test_result_ds[(test_result_ds['vaccine_name']=='astrazeneca') & (test_result_ds['prediction']=='Positive')]"
   ]
  },
  {
   "cell_type": "code",
   "execution_count": 109,
   "metadata": {},
   "outputs": [],
   "source": [
    "test_result_ds_astrazenecapos_sen=test_result_ds_astrazenecapos['tweet.full_text'].sum()"
   ]
  },
  {
   "cell_type": "code",
   "execution_count": 110,
   "metadata": {},
   "outputs": [
    {
     "data": {
      "text/plain": [
       "69075"
      ]
     },
     "execution_count": 110,
     "metadata": {},
     "output_type": "execute_result"
    }
   ],
   "source": [
    "len(test_result_ds_astrazenecapos_sen)"
   ]
  },
  {
   "cell_type": "code",
   "execution_count": 111,
   "metadata": {},
   "outputs": [
    {
     "data": {
      "image/png": "[encoded data removed]",
      "text/plain": [
       "<Figure size 432x288 with 1 Axes>"
      ]
     },
     "metadata": {
      "needs_background": "light"
     },
     "output_type": "display_data"
    }
   ],
   "source": [
    "# Generate a word cloud image\n",
    "wordcloud = WordCloud( background_color=\"white\").generate(test_result_ds_astrazenecapos_sen)\n",
    "\n",
    "# Display the generated image:\n",
    "# the matplotlib way:\n",
    "plt.imshow(wordcloud, interpolation='bilinear')\n",
    "plt.axis(\"off\")\n",
    "plt.show()"
   ]
  },
  {
   "cell_type": "code",
   "execution_count": 112,
   "metadata": {},
   "outputs": [
    {
     "data": {
      "text/plain": [
       "1789    people debating getting pfizer moderna decidin...\n",
       "1790    bny mellon crypto plan ireland chinese languag...\n",
       "1791    people debating getting pfizer moderna decidin...\n",
       "1794    bitcoin ethereum still consolidate doge rally ...\n",
       "1797    finally realized vaccineshortage vaccineforall...\n",
       "1798              hey safety first pfizer moderna vaccine\n",
       "1802              hey safety first pfizer moderna vaccine\n",
       "1803                                                     \n",
       "1804    people debating getting pfizer moderna decidin...\n",
       "1808    agree wife fully vaccinated vaccinated getting...\n",
       "1809    agree wife fully vaccinated vaccinated getting...\n",
       "1812              hey safety first pfizer moderna vaccine\n",
       "1813    donating vishwaguru bharat atamnirbharbharat m...\n",
       "1815    people debating getting pfizer moderna decidin...\n",
       "1818    people debating getting pfizer moderna decidin...\n",
       "1823       irritability known side effect moderna vaccine\n",
       "1824    people debating getting pfizer moderna decidin...\n",
       "1825    ecstatic grateful lucky amp guy dos moderna th...\n",
       "1832            got moderna shot today moderna stshot one\n",
       "1833    moderna year old pre existing healthy weight d...\n",
       "1844    people debating getting pfizer moderna decidin...\n",
       "1846    people debating getting pfizer moderna decidin...\n",
       "1847    people debating getting pfizer moderna decidin...\n",
       "1853    last time see light stage today back first dos...\n",
       "1857           got moderna teamdaftpunk nowicangotothepub\n",
       "1858    people debating getting pfizer moderna decidin...\n",
       "1859    people debating getting pfizer moderna decidin...\n",
       "1860    people debating getting pfizer moderna decidin...\n",
       "1862    people debating getting pfizer moderna decidin...\n",
       "1863    people debating getting pfizer moderna decidin...\n",
       "1864                       finally got first dose moderna\n",
       "1865    people debating getting pfizer moderna decidin...\n",
       "1866    people debating getting pfizer moderna decidin...\n",
       "1868    vaccination time excited get first shot pfizer...\n",
       "1871    people debating getting pfizer moderna decidin...\n",
       "1872                        first dose done covid moderna\n",
       "1873    tuesday moderna applied full approval covid va...\n",
       "1874    people debating getting pfizer moderna decidin...\n",
       "1875    tuesday moderna applied full approval covid va...\n",
       "1878    getting second shot fullyvaccinated fullyvaxxe...\n",
       "1880    people debating getting pfizer moderna decidin...\n",
       "1882    people debating getting pfizer moderna decidin...\n",
       "1883    people debating getting pfizer moderna decidin...\n",
       "1888              hey safety first pfizer moderna vaccine\n",
       "1892    people debating getting pfizer moderna decidin...\n",
       "1893    people debating getting pfizer moderna decidin...\n",
       "1894    people debating getting pfizer moderna decidin...\n",
       "1895    people debating getting pfizer moderna decidin...\n",
       "1896    people debating getting pfizer moderna decidin...\n",
       "1897    people debating getting pfizer moderna decidin...\n",
       "Name: tweet.full_text, dtype: object"
      ]
     },
     "execution_count": 112,
     "metadata": {},
     "output_type": "execute_result"
    }
   ],
   "source": [
    "test_result_ds_modernapos['tweet.full_text'][-200:-150]"
   ]
  },
  {
   "cell_type": "code",
   "execution_count": 113,
   "metadata": {},
   "outputs": [
    {
     "data": {
      "text/plain": [
       "'So my Mom booked her second #CovidVaccine .. she had #moderna the first time and was told for this one they wouldn’t know in advance if it would be #pfizer or #moderna, claim they don’t know until day of. Guess they aren’t concerned about #mRNA vaccines being mixed? #SurreyBC'"
      ]
     },
     "execution_count": 113,
     "metadata": {},
     "output_type": "execute_result"
    }
   ],
   "source": [
    "tweets_data_vaccine['tweet.full_text'][2077]"
   ]
  },
  {
   "cell_type": "markdown",
   "metadata": {},
   "source": [
    "### 研究一下疫苗的转发占比，因为我发现数据中很多都是转发的。"
   ]
  },
  {
   "cell_type": "code",
   "execution_count": 114,
   "metadata": {},
   "outputs": [],
   "source": [
    "# retweets \n",
    "def if_retweets(string):\n",
    "#     check if the string starts with RT, if it does, then return 1, else return 0\n",
    "    if string.startswith('RT '):\n",
    "        return 1\n",
    "    else:\n",
    "        return 0"
   ]
  },
  {
   "cell_type": "code",
   "execution_count": 115,
   "metadata": {},
   "outputs": [],
   "source": [
    "tweets_data_vaccine['if_retweets']=tweets_data_vaccine['tweet.full_text'].apply(lambda x:if_retweets(x))"
   ]
  },
  {
   "cell_type": "code",
   "execution_count": 116,
   "metadata": {},
   "outputs": [],
   "source": [
    "tweets_data_groupbyvaccine_1=tweets_data_vaccine[['vaccine_name','if_retweets']].groupby(\"vaccine_name\").sum(['if_retweets']).reset_index()\n",
    "tweets_data_groupbyvaccine_2=tweets_data_vaccine[['vaccine_name','if_retweets']].groupby(\"vaccine_name\").count().reset_index()\n",
    "tweets_data_groupbyvaccine_2.columns=['vaccine_name','total_number']\n",
    "tweets_data_groupbyvaccine=pd.merge(tweets_data_groupbyvaccine_1,tweets_data_groupbyvaccine_2,how='left',on=[\"vaccine_name\"],right_index=False)"
   ]
  },
  {
   "cell_type": "code",
   "execution_count": 117,
   "metadata": {},
   "outputs": [
    {
     "data": {
      "text/html": [
       "<div>\n",
       "<style scoped>\n",
       "    .dataframe tbody tr th:only-of-type {\n",
       "        vertical-align: middle;\n",
       "    }\n",
       "\n",
       "    .dataframe tbody tr th {\n",
       "        vertical-align: top;\n",
       "    }\n",
       "\n",
       "    .dataframe thead th {\n",
       "        text-align: right;\n",
       "    }\n",
       "</style>\n",
       "<table border=\"1\" class=\"dataframe\">\n",
       "  <thead>\n",
       "    <tr style=\"text-align: right;\">\n",
       "      <th></th>\n",
       "      <th>vaccine_name</th>\n",
       "      <th>if_retweets</th>\n",
       "      <th>total_number</th>\n",
       "      <th>retweet_percentage</th>\n",
       "    </tr>\n",
       "  </thead>\n",
       "  <tbody>\n",
       "    <tr>\n",
       "      <th>5</th>\n",
       "      <td>sputnik</td>\n",
       "      <td>2038</td>\n",
       "      <td>2450</td>\n",
       "      <td>0.831837</td>\n",
       "    </tr>\n",
       "    <tr>\n",
       "      <th>1</th>\n",
       "      <td>astrazeneca</td>\n",
       "      <td>2683</td>\n",
       "      <td>3588</td>\n",
       "      <td>0.747770</td>\n",
       "    </tr>\n",
       "    <tr>\n",
       "      <th>0</th>\n",
       "      <td>CoronaVac</td>\n",
       "      <td>556</td>\n",
       "      <td>799</td>\n",
       "      <td>0.695870</td>\n",
       "    </tr>\n",
       "    <tr>\n",
       "      <th>2</th>\n",
       "      <td>janssen</td>\n",
       "      <td>444</td>\n",
       "      <td>691</td>\n",
       "      <td>0.642547</td>\n",
       "    </tr>\n",
       "    <tr>\n",
       "      <th>4</th>\n",
       "      <td>pfizer</td>\n",
       "      <td>3392</td>\n",
       "      <td>5374</td>\n",
       "      <td>0.631187</td>\n",
       "    </tr>\n",
       "    <tr>\n",
       "      <th>3</th>\n",
       "      <td>moderna</td>\n",
       "      <td>881</td>\n",
       "      <td>1490</td>\n",
       "      <td>0.591275</td>\n",
       "    </tr>\n",
       "  </tbody>\n",
       "</table>\n",
       "</div>"
      ],
      "text/plain": [
       "  vaccine_name  if_retweets  total_number  retweet_percentage\n",
       "5      sputnik         2038          2450            0.831837\n",
       "1  astrazeneca         2683          3588            0.747770\n",
       "0    CoronaVac          556           799            0.695870\n",
       "2      janssen          444           691            0.642547\n",
       "4       pfizer         3392          5374            0.631187\n",
       "3      moderna          881          1490            0.591275"
      ]
     },
     "execution_count": 117,
     "metadata": {},
     "output_type": "execute_result"
    }
   ],
   "source": [
    "tweets_data_groupbyvaccine['retweet_percentage']=tweets_data_groupbyvaccine['if_retweets']/tweets_data_groupbyvaccine['total_number']\n",
    "tweets_data_groupbyvaccine=tweets_data_groupbyvaccine.sort_values(by='retweet_percentage', ascending=False)\n",
    "tweets_data_groupbyvaccine"
   ]
  },
  {
   "cell_type": "code",
   "execution_count": null,
   "metadata": {},
   "outputs": [],
   "source": []
  },
  {
   "cell_type": "code",
   "execution_count": null,
   "metadata": {},
   "outputs": [],
   "source": []
  },
  {
   "cell_type": "code",
   "execution_count": null,
   "metadata": {},
   "outputs": [],
   "source": []
  }
 ],
 "metadata": {
  "kernelspec": {
   "display_name": "Python 3",
   "language": "python",
   "name": "python3"
  },
  "language_info": {
   "codemirror_mode": {
    "name": "ipython",
    "version": 3
   },
   "file_extension": ".py",
   "mimetype": "text/x-python",
   "name": "python",
   "nbconvert_exporter": "python",
   "pygments_lexer": "ipython3",
   "version": "3.8.5"
  }
 },
 "nbformat": 4,
 "nbformat_minor": 4
}
